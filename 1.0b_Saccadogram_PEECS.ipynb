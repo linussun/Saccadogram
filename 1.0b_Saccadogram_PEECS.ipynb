{
 "cells": [
  {
   "cell_type": "markdown",
   "metadata": {},
   "source": [
    "# Data Analysis for Eye Movements (PEECS) version 1.0b\n",
    "### Copy this notebook to folder where your matlab main sequence data resides\n",
    "\n",
    "### The following steps are required to analyze data:\n",
    "1. Make sure prerequisites for analysis are taken care of (paths and installs) \n",
    "2. Verify files acquired from MonkeyLogic PEECS or psychopy and convert to MATLAB data files\n",
    "3. Process matlab files:\n",
    "    * go through files in the directory and save in memory which are OD, OS, or OU\n",
    "    * concatenate the files if necessary\n",
    "    * initial run through with Trial explorer (TE1)\n",
    "4. Manual data exploration with Trial explorer (TE1)\n",
    "5. Print the saccadograms\n",
    "\n",
    "## Note: Monocular Vs. Binocular Recordings\n",
    "Subjects have either been recorded monocularly or binocularly, pay attention to what files and datatypes they have!\n",
    "\n",
    "For binocular recordings (moving forward) ML2 should follow the left or right eye which either covered with a patch or none at all. Signals are stored in Trials(n).SignalsOD or SignalsOS and saved in Signals(n,1:3), where n = 1 for OD and n=2 for OS signals.\n",
    "\n",
    "For OLD Monocular recordings: We have been changing the ML2 control panel settings for \"Eye\" to either right eye or left eye signal from the Eyelink eye tracker. The \"Eye Other\" signal in ML2 is either sometimes blank or set to the opposite eye signal (which is always covered with a patch in monocular recordings thus not relevant). In these cases, when only 1 eye is recorded, we can ignore 'other eye' recording and set the monocular .Signal to the \"Eye\" signal in the bhv2 file. \n",
    "\n",
    "\n",
    "#### Prerequisites installations: MATLAB, Jupyter Notebook/Lab - Probably done yourself already\n",
    "#### Prereq: add to search PATH in MATLAB: TE1/, TEGsharedlibs/, saccaddogram/\n",
    "\n",
    "#### Version History:  \n",
    "1.0b    - Updated the Saccadogram (version 7g) and this notebook to use helper files instead of code blocks.  \n",
    "1.0a    - Most updated Saccadogram Notebook for Eyelink binocular recordings (8/2019)  \n",
    "0.9.9.1 - Simplified Saccadogram so all files are in the subject root directory.  \n",
    "0.9.9   - Binocular Data from MonkeyLogic Fix (LDS). Will run bhv2matML2 script. Other clean up of saccadogram.    \n",
    "0.9.4 - 2/10/18 Edit. Works to produce inline and out of panel MATLAB figures.  \n",
    "0.9.8   - bug fixes.   \n",
    "0.9.7   - include extraction from raw bhv2 files (ML).  \n",
    "0.9.6   - 2/2019  Update. For Monkey Logic.  \n",
    "0.9.5   - 2/11/18 Edit. Updated ease of use for fixing problems in Trials structure during saccadogram printing & errors.  \n"
   ]
  },
  {
   "cell_type": "markdown",
   "metadata": {},
   "source": [
    "___\n",
    "## Step 0: (MonkeyLogic2/PEECS) Check PATH prerequisites\n",
    "#### Also Look and display current Monkeylogic 2 (.bhv2) and MATLAB (.mat) files\n",
    "If prerequistes are met, you will see \"Found all 3 required paths! You can continue with analysis!\"\n",
    "\n",
    "Tips: To debug the path use command 'path' to view entire matlab path."
   ]
  },
  {
   "cell_type": "markdown",
   "metadata": {},
   "source": [
    "%  for the other eye\n",
    "bhv2matML2"
   ]
  },
  {
   "cell_type": "code",
   "execution_count": 1,
   "metadata": {},
   "outputs": [
    {
     "name": "stdout",
     "output_type": "stream",
     "text": [
      "\n",
      "Output from cell above:\n",
      "The Matlab PATH has the relevant folders below\n",
      "IF TE1dev, TEGsharedlibs, or saccadogram are missing must add it to path in Matlab:\n",
      "\n",
      "/Users/Linus/Dropbox/MATLAB/TEGsharedlibs\n",
      "/Users/Linus/Dropbox/MATLAB/TE1dev2\n",
      "/Users/Linus/Dropbox/MATLAB/0Patients/saccadogram\n",
      "\n",
      "Found all 3 required paths! You can continue with analysis! \n",
      " \n",
      "Monkeylogic should already be installed, if not will get error of \"file not found:\"\n",
      "Look for mlread and bhv2matML3 function scripts\n",
      "/Users/Linus/Library/Mobile Documents/com~apple~CloudDocs/Documents/MATLAB/Add-Ons/Apps/NIMHMonkeyLogic2/mlread.m\n",
      "/Users/Linus/Dropbox/MATLAB/0Patients/saccadogram/bhv2matML3.m\n",
      "\n",
      "The current notebook fullpath is:  ans =\n",
      "    '/Users/Linus/Dropbox/MATLAB/0Patients/Controls/191220_COPY'\n",
      "\n",
      "BHV2 files found:\n",
      "-rw-r--r-- 1 Linus staff 56M Dec 19 17:46 191219_CD_c_msq_as_sp_OU_JK_LDS_pl.bhv2\n",
      "\n",
      "MATLAB files found:\n",
      "gls: cannot access '*.mat': No such file or directory\n",
      "No .mat files found!\n"
     ]
    }
   ],
   "source": [
    "addpath ./s_help_scripts; % adds helper script path to matlab environment\n",
    "% run script which checks for prerequisites\n",
    "s0_checkprerequisites % this is a script in the helper folder which checks for the prerequisites for analysis"
   ]
  },
  {
   "cell_type": "markdown",
   "metadata": {},
   "source": [
    "___\n",
    "### Step 1 (MonkeyLogic): Convert raw data file if needed, skip to Step 2 if already converted.\n",
    "\n",
    "Assuming raw data files are stored in ../data/raw. Convert Monkey Logic Files to .mat files\n",
    "\n",
    "#### Process the above files into .mat files. This is in the development but we are using some new scripts called \"bhv2matML2\" to convert these monkey logic raw data files to .mat files which should be stored here in the interim path directory:\n",
    "\n",
    "This can be saved and used for future analysis Do this for OD and OS MSQ files:\n",
    "\n",
    "- Using the \"Select File to Open\" Dialog, choose your raw data file.\n",
    "- Next using the \"Convert BHV2 file to Trials\" dialog box, choose:\n",
    "- Eye (OU/OD/OS), where OU is best for binocular monkey data. Deprecated: OD for files with only monocular right eye data stored in .eye and OS for files with OS data stored in .eye (rather than .eye2 as in binocular data)\n",
    "- Half Screen (deprecated used for debugging only)\n",
    "- debugging (for verbose output)\n",
    "- Save File? 'y' if you want to save resulting Trials struct into .mat file of the same filename\n",
    "- filename: confirm that the pathname and filename are the raw .bhv filename\n",
    "- Save Director: confirm final folder if you do decide to 'y'es save the file into a .mat filename.\n",
    "\n",
    "## Run this cell just to see which files you have and what you need to convert:"
   ]
  },
  {
   "cell_type": "code",
   "execution_count": 2,
   "metadata": {},
   "outputs": [
    {
     "name": "stdout",
     "output_type": "stream",
     "text": [
      "No .mat files found!\n",
      "Looking for 191219_CD_c_msq_as_sp_OU_JK_LDS_pl.bhv2 in file names\n",
      "\n",
      "Found a previous matlab file with prefix of .bhv2 ML2 file, so you can skip the next step (bhv2matML3)\n",
      "If you want to re-run bhv2matML3 must to it manually at the commandline.\n",
      "\n"
     ]
    }
   ],
   "source": [
    "% If you run and re-run through notebook quickly with ctrl-Enter, you may accidentally overwrite previous data files, \n",
    "% this checks to see if previous .mat files have been created from .bhv2 files from ML2 for example\n",
    "% ASSUMES FILES NAMES USE '_' underscore instead of spaces for delimiters\n",
    "clear bhv2prefixes matfileprefixes\n",
    "matfiles = dir('*.mat'); if isempty(matfiles); disp('No .mat files found!'); end;\n",
    "bhv2files = dir('*.bhv2');\n",
    "\n",
    "for j = 1:length(bhv2files)\n",
    "    bhv2prefixes = split(bhv2files(j).name,' ');\n",
    "    foundmatfileflag = 0;\n",
    "    disp(['Looking for ' bhv2prefixes{1} ' in file names'])\n",
    "    for i = 1:length(matfiles)\n",
    "        matfileprefixes = split(matfiles(i).name,' ');\n",
    "        if findstr(bhv2prefixes{1},matfileprefixes{1})\n",
    "            fprintf(['Found matlab .mat file with prefix from .bhv2 file: ' matfiles(i).name '\\n\\n'])\n",
    "            foundmatfileflag = 1;\n",
    "        end\n",
    "    end\n",
    "\n",
    "    if foundmatfileflag == 0\n",
    "        fprintf('\\nFound a previous matlab file with prefix of .bhv2 ML2 file, so you can skip the next step (bhv2matML3)\\n')\n",
    "        fprintf('If you want to re-run bhv2matML3 must to it manually at the commandline.\\n\\n')\n",
    "    else\n",
    "        disp(['    Didn''t find corresponding MATLAB file, the next step is to run bhv2matML3 on this .bhv2 datafile: '])\n",
    "        disp(['       ' bhv2files(j).name])\n",
    "    end\n",
    "end\n"
   ]
  },
  {
   "cell_type": "code",
   "execution_count": 3,
   "metadata": {},
   "outputs": [
    {
     "name": "stdout",
     "output_type": "stream",
     "text": [
      "Choose a data file\n",
      "Running mlread from MonkeyLogic (please wait)\n",
      "Filename: /Users/Linus/Dropbox/MATLAB/0Patients/Controls/191220_COPY/191219_CD_c_msq_as_sp_OU_JK_LDS_pl.bhv2\n",
      "Confirmation of BHV2 eye data:\n",
      "The following signals have valid eye movement data:\n",
      "ans =\n",
      "  1x4 cell array\n",
      "    {'Eye X'}    {'Eye Y'}    {'Eye2 X'}    {'Eye2 Y'}\n",
      "appears to be binocular recording\n",
      "recEye is: OU\n",
      "quick prompt\n",
      "filepathnamesave =\n",
      "    './191219_CD_c_msq_as_sp_OU_JK_LDS_pl_OU.mat'\n",
      "**Manual calibration is not necessary for monocular data**\n",
      "Keeping the raw signal for the second eye\n",
      "recEye =\n",
      "    'OU'\n",
      "inOU saving both eye positions signals\n",
      "1,2,3,4,5,6,7,8,9,10,11,12,13,14,15,16,17,18,19,20,21,22,23,24,25,26,27,28,29,30,31,32,33,34,35,36,37,38,39,40,41,42,43,44,45,46,47,48,49,50,51,52,53,54,55,56,57,58,59,60,61,62,63,64,65,66,67,68,69,70,71,72,73,74,75,76,77,78,79,80,81,82,83,84,85,86,87,88,89,90,91,92,93,94,95,96,97,98,99,100,101,102,103,104,105,106,107,108,109,110,111,112,113,114,115,116,117,118,119,120,121,122,123,124,125,126,127,128,129,130,131,132,133,134,135,136,137,138,139,140,141,142,143,144,145,146,147,148,149,150,151,152,153,154,155,156,157,158,159,160,161,162,163,164,165,166,167,168,169,170,171,172,173,174,175,176,177,178,179,180,181,182,183,184,185,186,187,188,189,190,191,192,193,194,195,196,197,198,199,200,201,202,203,204,205,206,207,208,209,210,211,212,213,214,215,216,217,218,219,220,221,222,223,224,225,226,227,228,229,230,231,232,233,234,235,236,237,238,239,240,241,242,243,244,245,246,247,248,249,250,251,252,253,254,255,256,257,258,259,260,261,262,263,264,265,266,267,268,269,270,271,272,273,274,275,276,277,278,279,280,281,282,283,284,285,286,287,288,289,290,291,292,293,294,295,296,297,298,299,300,301,302,303,304,305,306,307,308,309,310,311,312,313,314,315,316,317,318,319,320,321,322,323,324,325,326,327,328,329,330,331,332,333,334,335,336,337,338,339,340,341,342,343,344,345,346,347,348,349,350,351,352,353,354,355,356,357,358,359,360,361,362,363,364,365,366,367,368,369,370,371,372,373,374,375,376,377,378,379,380,381,382,383,384,385,386,387,388,389,390,391,392,393,394,395,396,397,398,399,400,401,402,403,404,405,406,407,408,409,410,411,412,413,414,415,416,417,418,419,420,421,422,423,424,425,426,427,428,429,SAVING Trials to:\n",
      "./191219_CD_c_msq_as_sp_OU_JK_LDS_pl_OU.mat\n",
      "Done\n"
     ]
    }
   ],
   "source": [
    "% uncomment the following line and run this cell to convert .bhv2 file for the OD file:\n",
    "bhv2matML4"
   ]
  },
  {
   "cell_type": "code",
   "execution_count": 143,
   "metadata": {},
   "outputs": [
    {
     "name": "stdout",
     "output_type": "stream",
     "text": [
      "Choose a data file\n",
      "Running mlread from MonkeyLogic (please wait)\n",
      "Filename: /Users/Linus/Dropbox/MATLAB/0Patients/SaccadogramNew/190806_LB_OS_cond_msq_as_sp - JK_LDS2.bhv2\n",
      "Confirmation of BHV2 eye data:\n",
      "The following signals have valid eye movement data:\n",
      "ans =\n",
      "  1x2 cell array\n",
      "    {'Eye X'}    {'Eye Y'}\n",
      "recEye is: OS\n",
      "quick prompt\n",
      "filepathnamesave =\n",
      "    './190806_LB_OS_cond_msq_as_sp - JK_LDS2_OS.mat'\n",
      "**Manual calibration is not necessary for monocular data**\n",
      "Keeping the raw signal for the second eye\n",
      "recEye =\n",
      "    'OS'\n",
      "SAVING Trials to:\n",
      "./190806_LB_OS_cond_msq_as_sp - JK_LDS2_OS.mat\n",
      "Done\n"
     ]
    }
   ],
   "source": [
    "% uncomment the following line and run this cell to convert .bhv2 file for the OS file:\n",
    "bhv2matML4"
   ]
  },
  {
   "cell_type": "markdown",
   "metadata": {},
   "source": [
    "___\n",
    "## Step 2:  ID MATLAB data files and label them OD, OS or OU in memory (saved to eyes{} cell array}\n",
    "\n",
    "**Look to the files tab in Jupyter lab (left side tab) and verify your two or more .mat files are there, if working in jupyter/ipython notebook only see output below**\n",
    "\n",
    "If you aren't using jupyter lab, but regular ipython/jupyter notebook verify the files below are in the same directory as this notebook:"
   ]
  },
  {
   "cell_type": "code",
   "execution_count": 4,
   "metadata": {},
   "outputs": [
    {
     "name": "stdout",
     "output_type": "stream",
     "text": [
      "*** .mat files in subject directory: ***\n",
      "191219_CD_c_msq_as_sp_OU_JK_LDS_pl_OU.mat  \n",
      "\n",
      "\n",
      "***********************************************************************\n",
      "*** LOOK FOR WINDOW IN THE BACK AND RAISE IT (Cmd-back appostrophe) ***\n",
      "***********************************************************************\n",
      "fnchose =\n",
      "  1x1 cell array\n",
      "    {'191219_CD_c_msq_as_sp_OU_JK_LDS_pl_OU.mat'}\n",
      "eyes =\n",
      "  1x1 cell array\n",
      "    {'OU'}\n",
      "Now files and eyes have been labelled in memory, you can concatenate them in Step 3\n"
     ]
    }
   ],
   "source": [
    "% This script will help us identify which files are to be analyzed and label each file OD, OS, or OU depending on our experimental conditions\n",
    "s2_labelOSODOU; "
   ]
  },
  {
   "cell_type": "markdown",
   "metadata": {},
   "source": [
    "## Step 3 Label Trials structure from files with .eye designation (OD, OS, OU) and CONCATENATE them if needed (ML2 or PEECS): \n",
    "\n",
    "### If you have more than one (monocular) data file, and you need to label each of those files as OD, OS, OU. If you have more than one: concatenate them with the following code (if you don't want to use this code, can use \"catTrials\" script on the command line - need to launch MATLAB desktop for this).\n",
    "\n",
    "#### HELPFUL NOTES: \n",
    "- BEST WITH FRESH unevaluated by TE1 .mat files. \n",
    "- If you have already concantenated files, you should go straight to running TE1 (Step 5)\n",
    "- You can use cattrials as well to concatenate files.\n",
    "- With ML2 Trials, fixation break trials are included, there will be so many, so use the tool TrialsRmFB.m to delete those trials"
   ]
  },
  {
   "cell_type": "code",
   "execution_count": 8,
   "metadata": {},
   "outputs": [
    {
     "name": "stdout",
     "output_type": "stream",
     "text": [
      "The Current Directory should be the notebooks directory if in a Jupyter lab, if not running a jupyter notebook, keep everything in same diretory\n",
      "ans =\n",
      "    '/Users/Linus/Dropbox/MATLAB/0Patients/Controls/191220_COPY'\n",
      "***********************************************************************\n",
      "*** LOOK FOR WINDOW IN THE BACK AND RAISE IT (Cmd-back appostrophe) ***\n",
      "***********************************************************************\n",
      "answer =\n",
      "    'Yes'\n",
      "eyes =\n",
      "  1x1 cell array\n",
      "    {'OU'}\n",
      "dat = \n",
      "  struct with fields:\n",
      "\n",
      "    Trials: [429x1 struct]\n",
      " \n",
      "New Trials should appear here (if there is a vertcat error, may have to rerun bhv2matML script and specify OD and OS for eye):\n",
      "  Name          Size                Bytes  Class     Attributes\n",
      "\n",
      "  Trials      429x1             108249950  struct              \n",
      "\n"
     ]
    }
   ],
   "source": [
    "s3_concatenate_files; % Script to label each Trial().eye with correct eye designation and then concatenate them into a single  Trials structure."
   ]
  },
  {
   "cell_type": "markdown",
   "metadata": {},
   "source": [
    "### Step 3.1 (MonkeyLogic2): many fixation breaks or non-reward trials can be erased, run the TrialsRmFB script on ML2 derived Trials struct in memory.\n",
    "\n",
    "- Use Dialog box to run this script"
   ]
  },
  {
   "cell_type": "code",
   "execution_count": 14,
   "metadata": {},
   "outputs": [
    {
     "name": "stdout",
     "output_type": "stream",
     "text": [
      "*** LOOK FOR WINDOW TO RAISE ***\n",
      "Will keep trials in with ECODES:\n",
      "        1012\n",
      "Original Trials struct var name    :Trials\n",
      "New created Trials struct var name : TrialsNew\n",
      " \n",
      "...x.xxx..(10)..........(20)..........(30)..........(40).x........(50)...x......(60)\n",
      "x.........(70)..........(80)..........(90)..........(100)..x.......(110)....xx...x(120)\n",
      "..x.......(130)..x.x.x...(140)x.x..x..x.(150)...xxxxxxx(160)..........(170)x..xxxx..x(180)\n",
      "..x.....x.(190)........x.(200).......x..(210)..xxxxxxxx(220)xxxxxxxxxx(230)xxxxxxxxxx(240)\n",
      "xxxxxxxxxx(250)xxxxxxxxxx(260)xxxxxxxxxx(270)xxxxxxxxxx(280)xxxxxxxxxx(290)xxxxxxxxxx(300)\n",
      "xxxxxxxxxx(310)xxxxxxxxxx(320)xxxxxxxxxx(330)xxxxxxxxxx(340)xxxxxxxxxx(350)xxxxxxxxxx(360)\n",
      "xxxxxxxxxx(370)xxxxxxxxxx(380)xxxxxxxxxx(390)xxxxxxxxxx(400)xxxxxxxxxx(410)xxxxxxxxxx(420)\n",
      "xxxxxxxxx  Name             Size                 Bytes  Class     Attributes\n",
      "\n",
      "  Trials         429x1              108249950  struct              \n",
      "  TrialsNew        1x176             36224528  struct              \n",
      "\n",
      "Trials = \n",
      "  176x1 struct array with fields:\n",
      "    trialNumber\n",
      "    blockNumber\n",
      "    ML_Conditions\n",
      "    trialtype\n",
      "    outcome\n",
      "    SignalsOD\n",
      "    SignalsOS\n",
      "    Functions\n",
      "    Events\n",
      "    Frames\n",
      "    InternalPars\n",
      "    Units\n",
      "    aStartTime\n",
      "    tStartTime\n",
      "    aEndTime\n",
      "    tEndTime\n",
      "    a2dRate\n",
      "    datatype\n",
      "    Signals\n",
      "    eye\n"
     ]
    }
   ],
   "source": [
    "% TO ELIMINATE BAD NON-REWARD TRIALS RUN THE TrialsRmFB.m tool\n",
    "disp('*** LOOK FOR WINDOW TO RAISE ***')\n",
    "TrialsRmFB;\n",
    "% now save TrialsNew which have all the fixation breaks removed (1012 reward code only)\n",
    "Trials = TrialsNew(:)"
   ]
  },
  {
   "cell_type": "markdown",
   "metadata": {},
   "source": [
    "### Step 3.2: Eliminate empty trials. Sometimes when ending the experiment early, an empty trial is created. These should be eliminated to not create errors in the main sequence."
   ]
  },
  {
   "cell_type": "code",
   "execution_count": 16,
   "metadata": {},
   "outputs": [
    {
     "name": "stdout",
     "output_type": "stream",
     "text": [
      "No empty trials found, can continue to next step.\n"
     ]
    }
   ],
   "source": [
    "elimlist = [];\n",
    "for i = 1:length(Trials)\n",
    "    if isempty(Trials(i).trialtype) \n",
    "        elimlist = [elimlist, i];\n",
    "    end\n",
    "end\n",
    "\n",
    "if ~isempty(elimlist)\n",
    "    disp('***********************************************************************')\n",
    "    disp('*** LOOK FOR WINDOW IN THE BACK AND RAISE IT (Cmd-back appostrophe) ***')\n",
    "    disp('***********************************************************************')\n",
    "\n",
    "    elimlist\n",
    "    dlgtxt = sprintf(['Would you like to eliminate these empty trials: ' num2str(elimlist) '?\\n']);\n",
    "\n",
    "    % QUICK PROMPT GUI to interact with Notebook rather than through cells:\n",
    "    answer = questdlg(dlgtxt,'Empty Trials Elim','Yes','No','Yes')\n",
    "\n",
    "    % Handle response\n",
    "    switch answer\n",
    "        case 'Yes'\n",
    "            whos Trials\n",
    "            Trials(elimlist)=[];\n",
    "            whos Trials\n",
    "            disp('Eliminated Empty Trials')\n",
    "        case 'No'\n",
    "            disp('Okay nothing done')\n",
    "    end\n",
    "else\n",
    "    disp('No empty trials found, can continue to next step.')\n",
    "end"
   ]
  },
  {
   "cell_type": "markdown",
   "metadata": {},
   "source": [
    "### Step 4. Save Trials and info into interm data file (name specified in Step 2)"
   ]
  },
  {
   "cell_type": "code",
   "execution_count": 17,
   "metadata": {},
   "outputs": [
    {
     "name": "stdout",
     "output_type": "stream",
     "text": [
      "*** LOOK FOR WINDOW TO RAISE ***\n",
      "*** LOOK FOR WINDOW TO RAISE ***\n",
      "*** LOOK FOR WINDOW TO RAISE ***\n",
      "Saved Trials into  191219_CD_c_msq_as_sp_OU_JK_LDS_pl_OU_noSP_1012 in the local directory.\n",
      "ans =\n",
      "    '/Users/Linus/Dropbox/MATLAB/0Patients/Controls/191220_COPY'\n",
      "-rw-r--r-- 1 Linus 56M Dec 23 18:56 \u001b[0m\u001b[31m191219_CD_c_msq_as_sp_OU_JK_LDS_pl_OU.mat\u001b[0m\n",
      "-rw-r--r-- 1 Linus 18M Dec 23 19:01 \u001b[31m191219_CD_c_msq_as_sp_OU_JK_LDS_pl_OU_noSP_1012.mat\u001b[0m\n",
      " \n",
      "The saved filename is: '191219_CD_c_msq_as_sp_OU_JK_LDS_pl_OU_noSP_1012.mat'\n"
     ]
    }
   ],
   "source": [
    "fnchose_nomat = split(fnchose{1},'.');\n",
    "savedfilename = [fnchose_nomat{1} '_OU_1012']; % This will change the file name after eliminating non reward trials in prev step.\n",
    "\n",
    "disp('*** LOOK FOR WINDOW TO RAISE ***')\n",
    "disp('*** LOOK FOR WINDOW TO RAISE ***')\n",
    "disp('*** LOOK FOR WINDOW TO RAISE ***')\n",
    "\n",
    "% QUICK PROMPT \n",
    "dims = [1 80];\n",
    "GUItitle = 'Save Trials into File';\n",
    "answer = inputdlg(['Do you want to save Trials into the following (change filename as needed) ?'],GUItitle,dims,{savedfilename});\n",
    "% Handle response\n",
    "if ~isempty(answer)    \n",
    "    savedfilename = answer{1};\n",
    "    save([savedfilename],'Trials');\n",
    "    disp(['Saved Trials into  ' savedfilename ' in the local directory.']);\n",
    "else\n",
    "        disp('Cancelled');\n",
    "        return;\n",
    "end\n",
    "\n",
    "pwd\n",
    "!ls -Glph *.mat\n",
    "sfn = dir([savedfilename '.mat']);\n",
    "disp(' ')\n",
    "disp(['The saved filename is: ''' sfn.name ''''])\n"
   ]
  },
  {
   "cell_type": "markdown",
   "metadata": {},
   "source": [
    "### Step 5. Need to call some global variables in matlab BEFORE reload temp matlab file"
   ]
  },
  {
   "cell_type": "code",
   "execution_count": 18,
   "metadata": {},
   "outputs": [
    {
     "name": "stdout",
     "output_type": "stream",
     "text": [
      "Warning: The value of local variables may have been changed to match the globals.  Future versions of MATLAB will require that you declare a variable to be global before you use that variable.\n",
      "Warning: The value of local variables may have been changed to match the globals.  Future versions of MATLAB will require that you declare a variable to be global before you use that variable.\n",
      "  Name          Size               Bytes  Class     Attributes\n",
      "\n",
      "  Trials      176x1             36224528  struct    global    \n",
      "  i             1x1                    8  double    global    \n",
      "\n",
      "ans = \n",
      "  struct with fields:\n",
      "\n",
      "      trialNumber: 1\n",
      "      blockNumber: 1\n",
      "    ML_Conditions: 1\n",
      "        trialtype: 0\n",
      "          outcome: 0\n",
      "        SignalsOD: [1x3 struct]\n",
      "        SignalsOS: [1x3 struct]\n",
      "        Functions: [1x9 struct]\n",
      "           Events: [1x11 struct]\n",
      "           Frames: []\n",
      "     InternalPars: NaN\n",
      "            Units: []\n",
      "       aStartTime: 0\n",
      "       tStartTime: 0\n",
      "         aEndTime: 2203\n",
      "         tEndTime: 2203\n",
      "          a2dRate: [1000 1000 1000 1000]\n",
      "         datatype: 'MonkeyLogic'\n",
      "          Signals: [2x3 struct]\n",
      "              eye: 'OU'\n"
     ]
    }
   ],
   "source": [
    "%clear -except datafolder ;  % Clears all variables out, even global ones are emptied\n",
    "global Trials i % This may inadvertently bring a filled out Trials variable to the global space.\n",
    "whos Trials i\n",
    "i = 1; Trials(1)"
   ]
  },
  {
   "cell_type": "markdown",
   "metadata": {},
   "source": [
    "### Step 6. (Get newfilename and datadir from Step 2 if needed), specify the matlab file which you wish to load which has the Trials structure and RELOAD IT (prevening global declaration to 'revert' to old variable Trials:"
   ]
  },
  {
   "cell_type": "code",
   "execution_count": 19,
   "metadata": {},
   "outputs": [
    {
     "name": "stdout",
     "output_type": "stream",
     "text": [
      "fullfilename =\n",
      "    '191219_CD_c_msq_as_sp_OU_JK_LDS_pl_OU_noSP_1012.mat'\n",
      "\n",
      "191219_CD_c_msq_as_sp_OU_JK_LDS_pl_OU_noSP_1012.mat  \n",
      "\n",
      "\n",
      "YOU SHOULD SEE A TRIALS STRUCTURE IN THE VARIABLE SPACE HERE:\n",
      "  Name          Size               Bytes  Class     Attributes\n",
      "\n",
      "  Trials      176x1             36224528  struct    global    \n",
      "  i             1x1                    8  double    global    \n",
      "\n"
     ]
    }
   ],
   "source": [
    "%\n",
    "% YOU SHOULD PUT YOUR FILENAME HERE\n",
    "%\n",
    "%dir('*.mat')\n",
    "%savedfilename\n",
    "fullfilename = [savedfilename '.mat']\n",
    "%fullfilename = ; % copy from output of step 4\n",
    "%filename = 'Trialstemp_jupyter.mat';\n",
    "dir(fullfilename)\n",
    "disp('YOU SHOULD SEE A TRIALS STRUCTURE IN THE VARIABLE SPACE HERE:')\n",
    "try\n",
    "    %clear Trials\n",
    "    load(fullfilename)\n",
    "    whos Trials i\n",
    "catch \n",
    "    disp('NO FILENAME FOUND: Did you include the .mat at the end of filename?')\n",
    "end\n"
   ]
  },
  {
   "cell_type": "markdown",
   "metadata": {},
   "source": [
    "# Trial Explorer (TE1) Instructions\n",
    "## Step 7. use TE1dev to evaluate each and every trial\n",
    "### At this point you should have openned a command window, it's easier to do this with matlab session launched from the command window from within Jupyter LAB. \n",
    "### use command 'runTE1dev' to launch it"
   ]
  },
  {
   "cell_type": "markdown",
   "metadata": {},
   "source": [
    "### (deprecated) ONLY run this if it's the fisrt time before you went through structure with TrialExplorer1:"
   ]
  },
  {
   "cell_type": "code",
   "execution_count": null,
   "metadata": {},
   "outputs": [],
   "source": [
    "%Trials_PEECS_Sgolay1000add % Running this script once will update the Trials structure to make TE1 run more quickly. By populating the sgolay filtered eye movement data"
   ]
  },
  {
   "cell_type": "markdown",
   "metadata": {},
   "source": [
    "### TE1 Keyboard shortcuts\n",
    "#### arrow keys = move forward and back\n",
    "#### g = good trial\n",
    "#### b = bad trial\n",
    "#### q = quit, don't do this as you should leave it open and running as it will be useful when you print the saccadogram\n",
    "\n",
    "### Instruction manual\n",
    "### Note: the goal is to have 1 clean saccade after FP turns off (dotted black line). If a saccade occurs in the middle of the FP off, discard it as 'bad'. If no saccade is detected (or the saccade is missed) with a green-red vertical boundary, then choose manual sac1str and select beginning and end of that saccade exactly.\n",
    "#### Run through each trial individually, if you see a lot of noise mark it 'bad'.\n",
    "#### If you see a few randomly missing frames, especially during the saccade use '1 frame fill' button to fill those in, if the signal doesn't substantially improve then mark it as a 'bad' trial\n",
    "#### To use the keyboard commands click in a 'blank' area of the GUI to un-highlight a button.\n",
    "#### click on 'sgolay filtered data' to smooth data\n",
    "\n",
    "### NOTE: This is best run from MATLAB desktop, right click in jupyter lab and choose New Console for Notebook, type \"Desktop\" in there.\n"
   ]
  },
  {
   "cell_type": "code",
   "execution_count": 20,
   "metadata": {},
   "outputs": [
    {
     "name": "stdout",
     "output_type": "stream",
     "text": [
      "  Name          Size               Bytes  Class     Attributes\n",
      "\n",
      "  Trials      176x1             36224528  struct    global    \n",
      "  i             1x1                    8  double    global    \n",
      "\n",
      "*************************************************************************\n",
      "*** NOW IT'S TIME TO RUN Trial Explorer from the desktop: runTE1dev  ***\n",
      "*************************************************************************\n",
      "Instructions: Right click and select \"New Console for Notebook\" and execute \"runTE1dev\" in the new console window\n",
      " THEN click on bottom left button (Refreshall Toggle Slow)\n"
     ]
    }
   ],
   "source": [
    "%\n",
    "% THIS Cell when run will start up the Trial explorer: it calls runTE1.m file which in turns calls some global variables and launches the Trial Explorer.\n",
    "% Note that Trials and i are always global variables and all scripts here will have edit access to the Trials structure.\n",
    "%\n",
    "whos Trials i\n",
    "\n",
    "\n",
    "disp('*************************************************************************')\n",
    "disp('*** NOW IT''S TIME TO RUN Trial Explorer from the desktop: runTE1dev  ***')\n",
    "disp('*************************************************************************')\n",
    "\n",
    "%desktop % uncomment this will launch the matlabdesktop if not launched already\n",
    "%runTE1dev % uncomment this will run TE1dev from Notebook, but it's better to run FROM THE DESKTOP (best choice)\n",
    "\n",
    "disp('Instructions: Right click and select \"New Console for Notebook\" and execute \"runTE1dev\" in the new console window')\n",
    "disp(' THEN click on bottom left button (Refreshall Toggle Slow)')"
   ]
  },
  {
   "cell_type": "markdown",
   "metadata": {},
   "source": [
    "### Once all trials have been evaluated save the trials structure for future analysis\n",
    "\n",
    "** Mark down here the trial numbers which you have a question: **\n",
    "\n",
    "e.g. I have a question with Trial number: 1,2,3 etc... Let me review this with the team later\n"
   ]
  },
  {
   "cell_type": "code",
   "execution_count": 22,
   "metadata": {},
   "outputs": [
    {
     "name": "stdout",
     "output_type": "stream",
     "text": [
      "*** LOOK FOR WINDOW TO RAISE ***\n",
      "*** LOOK FOR WINDOW TO RAISE ***\n",
      "*** LOOK FOR WINDOW TO RAISE ***\n",
      "Saved Trials into  191219_CD_c_msq_as_sp_OU_JK_LDS_pl_OU_noSP_1012 in the local directory.\n",
      "ans =\n",
      "    '/Users/Linus/Dropbox/MATLAB/0Patients/Controls/191220_COPY'\n",
      "-rw-r--r-- 1 Linus 56M Dec 23 18:56 \u001b[0m\u001b[31m191219_CD_c_msq_as_sp_OU_JK_LDS_pl_OU.mat\u001b[0m\n",
      "-rw-r--r-- 1 Linus 18M Dec 23 19:01 \u001b[31m191219_CD_c_msq_as_sp_OU_JK_LDS_pl_OU_noSP_1012.mat\u001b[0m\n",
      "-rw-r--r-- 1 Linus 66M Dec 23 19:10 \u001b[31m191219_CD_c_msq_as_sp_OU_JK_LDS_pl_OU_noSP_1012TE1.mat\u001b[0m\n",
      " \n",
      "The saved filename is: '191219_CD_c_msq_as_sp_OU_JK_LDS_pl_OU_noSP_1012TE1.mat'\n"
     ]
    }
   ],
   "source": [
    "TE1filename = [savedfilename 'TE1.mat']; % This will change the file name after eliminating non reward trials in prev step.\n",
    "\n",
    "disp('*** LOOK FOR WINDOW TO RAISE ***')\n",
    "disp('*** LOOK FOR WINDOW TO RAISE ***')\n",
    "disp('*** LOOK FOR WINDOW TO RAISE ***')\n",
    "\n",
    "% QUICK PROMPT \n",
    "dims = [1 80];\n",
    "GUItitle = 'Save Trials into File';\n",
    "answer = inputdlg(['Do you want to save Trials into the following (change filename as needed) ?'],GUItitle,dims,{TE1filename});\n",
    "% Handle response\n",
    "if ~isempty(answer)    \n",
    "    TE1savedfilename = answer{1};\n",
    "    save([TE1savedfilename],'Trials');\n",
    "    disp(['Saved Trials into  ' savedfilename ' in the local directory.']);\n",
    "else\n",
    "        disp('Cancelled');\n",
    "        return;\n",
    "end\n",
    "\n",
    "pwd\n",
    "!ls -Glph *.mat\n",
    "sfn = dir([TE1savedfilename]);\n",
    "disp(' ')\n",
    "disp(['The saved filename is: ''' sfn.name ''''])\n"
   ]
  },
  {
   "cell_type": "markdown",
   "metadata": {},
   "source": [
    "# FINAL STEP: Saccadogram Data Plotting (really only meant for HUMAN Main Sequence Data)\n",
    "\n",
    "At this point, with a fully analyzed Trials structure loaded in memory, you can run through it and produce a saccadogram. \n",
    "\n",
    "If no plots are generated and you end up seeing an error, then there is a problem with your Trials structure. The procedure to fix this and to clean up the saccadogram is to do the following: \n",
    "\n",
    "1. runTE1 to get the Trials Explorer to load and be able to edit Trials\n",
    "2. Rerun saccadogram print on Trials in memory\n",
    "3. On every error, refresh TE1 and fix the trial by manually seclecting the first saccade or marking the trial as [b]ad.\n",
    "3. Once you're satisfied, save the Trials and info into a new filename.\n",
    "\n",
    "Setting up variable names:"
   ]
  },
  {
   "cell_type": "code",
   "execution_count": 23,
   "metadata": {},
   "outputs": [
    {
     "name": "stdout",
     "output_type": "stream",
     "text": [
      "datafolder =\n",
      "    './'\n",
      "\n",
      ".                                                       \n",
      "..                                                      \n",
      ".DS_Store                                               \n",
      ".ipynb_checkpoints                                      \n",
      "1.0b_Saccadogram_PEECS.ipynb                            \n",
      "191219_CD_c_msq_as_sp_OU_JK_LDS_pl.bhv2                 \n",
      "191219_CD_c_msq_as_sp_OU_JK_LDS_pl_OU.mat               \n",
      "191219_CD_c_msq_as_sp_OU_JK_LDS_pl_OU_noSP_1012.mat     \n",
      "191219_CD_c_msq_as_sp_OU_JK_LDS_pl_OU_noSP_1012TE1.mat  \n",
      "README.md                                               \n",
      "old                                                     \n",
      "reports                                                 \n",
      "s_help_scripts                                          \n",
      "\n",
      "\n",
      "ptfname =\n",
      "    '191219_CD_c_msq_as_sp_OU_JK_LDS_pl_OU_noSP_1012TE1.mat'\n",
      "  Name          Size                Bytes  Class     Attributes\n",
      "\n",
      "  Trials      176x1             100121150  struct    global    \n",
      "\n"
     ]
    }
   ],
   "source": [
    "%%%%%%%%%%%%%%%%%%%%%%%%%%%%%%%%%%%%%%%%%%%%%%%%%%%%%%%%%%%%%%%%%%%%%%%%%%%%%%%%%%%%%%%%%%%%%%%%%%%%%%\n",
    "% RUN THIS CELL if you do not have Trials structure loaded in memory (check with whos Trials i)      %\n",
    "% Warning: If you haven't saved any changes to Trials in memory, running this cell will delete them! %\n",
    "%%%%%%%%%%%%%%%%%%%%%%%%%%%%%%%%%%%%%%%%%%%%%%%%%%%%%%%%%%%%%%%%%%%%%%%%%%%%%%%%%%%%%%%%%%%%%%%%%%%%%%\n",
    "clear global Trials i\n",
    "global Trials i\n",
    "\n",
    "%% THE LATEST PATIENT FILENAME HERE:\n",
    "datafolder = './'\n",
    "dir(datafolder)\n",
    "ptfname = TE1savedfilename\n",
    "load([datafolder ptfname])\n",
    "whos Trials"
   ]
  },
  {
   "cell_type": "code",
   "execution_count": 29,
   "metadata": {},
   "outputs": [
    {
     "name": "stdout",
     "output_type": "stream",
     "text": [
      "reportsfolder =\n",
      "    './reports/'\n"
     ]
    }
   ],
   "source": [
    "%%%%%%%%%%%%%%%%%%%%%%%%%%%%%%%%%%%%%%%%%%%%%%%%%%%%%%%%%%%%%%%%%%%%%%%%%%%\n",
    "% THIS CELL PRINTS THE SACCADOGRAM                                        %\n",
    "%                                                                         %\n",
    "% IF YOU ENCOUNTER ERRORS IN PRINTING RE-RUN THIS CELL, be sure to have a %\n",
    "% helpful Matlab Kernel console open as well: Right click and select      %\n",
    "% \"New Console for Notebook\". Also to have a running instance of TE1 is   %                                            %\n",
    "% necessary: \"runTE1\" shift-enter in new console to raise an instance.    %\n",
    "% Follow the FINAL STEP directions above.                                 %   \n",
    "%%%%%%%%%%%%%%%%%%%%%%%%%%%%%%%%%%%%%%%%%%%%%%%%%%%%%%%%%%%%%%%%%%%%%%%%%%%\n",
    "\n",
    "% Re-run this cell only if you run into errors and wish to eliminate bad trials or reanalyze them for\n",
    "% the first saccade. The variable i, will be global and you can refresh TE1 to see the error generating trial.\n",
    "\n",
    "% Setup variables\n",
    "ttypes = [0]; % this chooses trial type 0 which is 10 degree saccade\n",
    "ptexptdate = '12/20/19';\n",
    "ptinitials = 'CD (DRAFT)';\n",
    "patienttitle = ['Subject ' ptinitials ': 10 deg Saccadogram ',ptexptdate];\n",
    "eyechoices = {'OD','OS'};\n",
    "%eyechoices = {'OU'};\n",
    "msaxislimit = [0 25 0 600];\n",
    "\n",
    "\n",
    "savefileflag = 1; % if set to 1 will save pdfs to file\n",
    "% Printing figures in separate matlab engine driven figures\n",
    "% is better for debugging but if you want to print inline with this \n",
    "% notebook, use one of the following:\n",
    "%imatlab_export_fig('')  % Native windows.\n",
    "%imatlab_export_fig('print-png')  % Static png figures.\n",
    "\n",
    "% The following is depreacted:\n",
    "% if ptfname is empty, Eyemovclinical_Jupyter_v6 will use Trials struct in current memory!!!\n",
    "% This is useful if errors are generated and you can use an active instance of TE1 GUI to fix that trial\n",
    "% most often it is due to a problem with the first saccade made.\n",
    "% Since i is global, click on 'refresh' in TE1 to evaluate that trial an fix it if possible.\n",
    "% Then with ptfname set to '' (empty) re-run this cell to try to print out saccadogram\n",
    "ptfname = 'TEST';\n",
    "reportsfolder = './reports/'\n",
    "\n",
    "figinfo.ptfname = ptfname;\n",
    "figinfo.ptexptdate = ptexptdate;\n",
    "figinfo.ptinitials = ptinitials;\n",
    "figinfo.patienttitle1 = patienttitle;\n",
    "figinfo.eyechoices = eyechoices;\n",
    "figinfo.msaxlim = msaxislimit;\n",
    "figinfo.darkmode = 0; % turn on dark mode for figures\n",
    "\n",
    "save figinfo_lastprint.mat figinfo\n",
    "\n",
    "% Run the saccadogram script:\n",
    "% version 7updated for mOnkey Logic\n"
   ]
  },
  {
   "cell_type": "code",
   "execution_count": 30,
   "metadata": {
    "collapsed": true,
    "jupyter": {
     "outputs_hidden": true
    },
    "scrolled": true
   },
   "outputs": [
    {
     "name": "stdout",
     "output_type": "stream",
     "text": [
      "NOTE: Trials struct needs to be run through REFRESH ALL at least once for a quick and dirty analysis\n",
      "eyemovplots_clinicalv2f: eyechoice\n",
      "plotselecteyetracev2g: R\n",
      "idx:Filtering ttypes in idx\n",
      "idx/emidx: Selecting/filtering for the correct eyemov directions\n",
      "plotselecteyetrace2g: No eventstarttime given will use sac1start struct\n",
      "1:1110 to 1710 max length Signal :2203TRS:\n",
      "eye =\n",
      "     1\n",
      " sac1_peakvel: 427.5288\n",
      "8:874 to 1474 max length Signal :1940TRS:\n",
      "eye =\n",
      "     1\n",
      " sac1_peakvel: 376.0446\n",
      "15:837 to 1437 max length Signal :1912TRS:\n",
      "eye =\n",
      "     1\n",
      " sac1_peakvel: 418.1129\n",
      "17:822 to 1422 max length Signal :1890TRS:\n",
      "eye =\n",
      "     1\n",
      " sac1_peakvel: 395.8558\n",
      "19:810 to 1410 max length Signal :1885TRS:\n",
      "eye =\n",
      "     1\n",
      " sac1_peakvel: 414.017\n",
      "20:836 to 1436 max length Signal :1915TRS:\n",
      "eye =\n",
      "     1\n",
      " sac1_peakvel: 416.6831\n",
      "21:707 to 1307 max length Signal :2033TRS:\n",
      "eye =\n",
      "     1\n",
      " sac1_peakvel: 294.6462\n",
      "22:807 to 1407 max length Signal :1886TRS:\n",
      "eye =\n",
      "     1\n",
      " sac1_peakvel: 406.1441\n",
      "23:814 to 1414 max length Signal :1865TRS:\n",
      "eye =\n",
      "     1\n",
      " sac1_peakvel: 383.79\n",
      "27:841 to 1441 max length Signal :1938TRS:\n",
      "eye =\n",
      "     1\n",
      " sac1_peakvel: 401.6135\n",
      "plotselecteyetracev2g: U\n",
      "idx:Filtering ttypes in idx\n",
      "idx/emidx: Selecting/filtering for the correct eyemov directions\n",
      "plotselecteyetrace2g: No eventstarttime given will use sac1start struct\n",
      "2:888 to 1488 max length Signal :1971TRS:\n",
      "eye =\n",
      "     1\n",
      " sac1_peakvel: 306.3134\n",
      "3:860 to 1460 max length Signal :1945TRS:\n",
      "eye =\n",
      "     1\n",
      " sac1_peakvel: 288.6487\n",
      "4:1108 to 1708 max length Signal :2206TRS:\n",
      "eye =\n",
      "     1\n",
      " sac1_peakvel: 325.9952\n",
      "6:910 to 1510 max length Signal :2004TRS:\n",
      "eye =\n",
      "     1\n",
      " sac1_peakvel: 254.5837\n",
      "7:1052 to 1652 max length Signal :2144TRS:\n",
      "eye =\n",
      "     1\n",
      " sac1_peakvel: 302.9289\n",
      "10:890 to 1490 max length Signal :1988TRS:\n",
      "eye =\n",
      "     1\n",
      " sac1_peakvel: 284.1627\n",
      "12:877 to 1477 max length Signal :1947TRS:\n",
      "eye =\n",
      "     1\n",
      " sac1_peakvel: 212.4743\n",
      "13:1047 to 1647 max length Signal :2125TRS:\n",
      "eye =\n",
      "     1\n",
      " sac1_peakvel: 264.2772\n",
      "30:888 to 1488 max length Signal :1962TRS:\n",
      "eye =\n",
      "     1\n",
      " sac1_peakvel: 235.4404\n",
      "31:883 to 1483 max length Signal :1962TRS:\n",
      "eye =\n",
      "     1\n",
      " sac1_peakvel: 264.3873\n",
      "plotselecteyetracev2g: L\n",
      "idx:Filtering ttypes in idx\n",
      "idx/emidx: Selecting/filtering for the correct eyemov directions\n",
      "plotselecteyetrace2g: No eventstarttime given will use sac1start struct\n",
      "9:1046 to 1646 max length Signal :2138TRS:\n",
      "eye =\n",
      "     1\n",
      " sac1_peakvel: 328.7934\n",
      "26:835 to 1435 max length Signal :1911TRS:\n",
      "eye =\n",
      "     1\n",
      " sac1_peakvel: 337.4737\n",
      "28:827 to 1427 max length Signal :1903TRS:\n",
      "eye =\n",
      "     1\n",
      " sac1_peakvel: 333.7398\n",
      "32:831 to 1431 max length Signal :1894TRS:\n",
      "eye =\n",
      "     1\n",
      " sac1_peakvel: 359.9691\n",
      "plotselecteyetracev2g: D\n",
      "idx:Filtering ttypes in idx\n",
      "idx/emidx: Selecting/filtering for the correct eyemov directions\n",
      "plotselecteyetrace2g: No eventstarttime given will use sac1start struct\n",
      "5:834 to 1434 max length Signal :1929TRS:\n",
      "eye =\n",
      "     1\n",
      " sac1_peakvel: 410.3188\n",
      "14:879 to 1479 max length Signal :1927TRS:\n",
      "eye =\n",
      "     1\n",
      " sac1_peakvel: 433.5728\n",
      "16:859 to 1459 max length Signal :1930TRS:\n",
      "eye =\n",
      "     1\n",
      " sac1_peakvel: 374.3666\n",
      "18:861 to 1461 max length Signal :1925TRS:\n",
      "eye =\n",
      "     1\n",
      " sac1_peakvel: 398.4206\n",
      "25:853 to 1453 max length Signal :1935TRS:\n",
      "eye =\n",
      "     1\n",
      " sac1_peakvel: 377.4084\n",
      "29:841 to 1441 max length Signal :1932TRS:\n",
      "eye =\n",
      "     1\n",
      " sac1_peakvel: 365.3369\n",
      "Adding mainseqCTRLplot.m ...\n",
      "Adding mainseqCTRLplot.m ...\n",
      "Warning: Ignoring extra legend entries.\n",
      "> In legend>process_inputs (line 566)\n",
      "  In legend>make_legend (line 310)\n",
      "  In legend (line 261)\n",
      "  In eyemovplots_clinicalv2g (line 209)\n",
      "  In Eyemovclinical_jupyter_v7g (line 67)\n",
      "ans =\n",
      "                        11                       8.5\n",
      "eyemovplots_clinicalv2f: eyechoice\n",
      "plotselecteyetracev2g: R\n",
      "idx:Filtering ttypes in idx\n",
      "idx/emidx: Selecting/filtering for the correct eyemov directions\n",
      "plotselecteyetrace2g: No eventstarttime given will use sac1start struct\n",
      "1:1111 to 1711 max length Signal :2203TRS:\n",
      "eye =\n",
      "     2\n",
      " sac1_peakvel: 387.2279\n",
      "8:874 to 1474 max length Signal :1940TRS:\n",
      "eye =\n",
      "     2\n",
      " sac1_peakvel: 342.9102\n",
      "15:838 to 1438 max length Signal :1912TRS:\n",
      "eye =\n",
      "     2\n",
      " sac1_peakvel: 386.0877\n",
      "17:822 to 1422 max length Signal :1890TRS:\n",
      "eye =\n",
      "     2\n",
      " sac1_peakvel: 361.3741\n",
      "19:805 to 1405 max length Signal :1885TRS:\n",
      "eye =\n",
      "     2\n",
      " sac1_peakvel: 373.8068\n",
      "20:836 to 1436 max length Signal :1915TRS:\n",
      "eye =\n",
      "     2\n",
      " sac1_peakvel: 378.1077\n",
      "21:708 to 1308 max length Signal :2033TRS:\n",
      "eye =\n",
      "     2\n",
      " sac1_peakvel: 258.4\n",
      "22:809 to 1409 max length Signal :1886TRS:\n",
      "eye =\n",
      "     2\n",
      " sac1_peakvel: 360.2337\n",
      "23:815 to 1415 max length Signal :1865TRS:\n",
      "eye =\n",
      "     2\n",
      " sac1_peakvel: 345.7093\n",
      "27:860 to 1460 max length Signal :1938TRS:\n",
      "eye =\n",
      "     2\n",
      " sac1_peakvel: 355.4386\n",
      "plotselecteyetracev2g: U\n",
      "idx:Filtering ttypes in idx\n",
      "idx/emidx: Selecting/filtering for the correct eyemov directions\n",
      "plotselecteyetrace2g: No eventstarttime given will use sac1start struct\n",
      "2:888 to 1488 max length Signal :1971TRS:\n",
      "eye =\n",
      "     2\n",
      " sac1_peakvel: 317.7157\n",
      "3:859 to 1459 max length Signal :1945TRS:\n",
      "eye =\n",
      "     2\n",
      " sac1_peakvel: 295.2449\n",
      "4:1092 to 1692 max length Signal :2206TRS:\n",
      "eye =\n",
      "     2\n",
      " sac1_peakvel: 335.6804\n",
      "6:910 to 1510 max length Signal :2004TRS:\n",
      "eye =\n",
      "     2\n",
      " sac1_peakvel: 272.0656\n",
      "7:1034 to 1634 max length Signal :2144TRS:\n",
      "eye =\n",
      "     2\n",
      " sac1_peakvel: 318.7636\n",
      "10:906 to 1506 max length Signal :1988TRS:\n",
      "eye =\n",
      "     2\n",
      " sac1_peakvel: 306.5153\n",
      "12:877 to 1477 max length Signal :1947TRS:\n",
      "eye =\n",
      "     2\n",
      " sac1_peakvel: 215.1468\n",
      "13:1033 to 1633 max length Signal :2125TRS:\n",
      "eye =\n",
      "     2\n",
      " sac1_peakvel: 270.3686\n",
      "30:888 to 1488 max length Signal :1962TRS:\n",
      "eye =\n",
      "     2\n",
      " sac1_peakvel: 243.9959\n",
      "31:866 to 1466 max length Signal :1962TRS:\n",
      "eye =\n",
      "     2\n",
      " sac1_peakvel: 265.6376\n",
      "plotselecteyetracev2g: L\n",
      "idx:Filtering ttypes in idx\n",
      "idx/emidx: Selecting/filtering for the correct eyemov directions\n",
      "plotselecteyetrace2g: No eventstarttime given will use sac1start struct\n",
      "9:1047 to 1647 max length Signal :2138TRS:\n",
      "eye =\n",
      "     2\n",
      " sac1_peakvel: 403.5643\n",
      "26:823 to 1423 max length Signal :1911TRS:\n",
      "eye =\n",
      "     2\n",
      " sac1_peakvel: 385.0348\n",
      "28:827 to 1427 max length Signal :1903TRS:\n",
      "eye =\n",
      "     2\n",
      " sac1_peakvel: 382.9166\n",
      "32:831 to 1431 max length Signal :1894TRS:\n",
      "eye =\n",
      "     2\n",
      " sac1_peakvel: 410.7223\n",
      "plotselecteyetracev2g: D\n",
      "idx:Filtering ttypes in idx\n",
      "idx/emidx: Selecting/filtering for the correct eyemov directions\n",
      "plotselecteyetrace2g: No eventstarttime given will use sac1start struct\n",
      "5:849 to 1449 max length Signal :1929TRS:\n",
      "eye =\n",
      "     2\n",
      " sac1_peakvel: 404.1029\n",
      "14:879 to 1479 max length Signal :1927TRS:\n",
      "eye =\n",
      "     2\n",
      " sac1_peakvel: 425.1593\n",
      "16:861 to 1461 max length Signal :1930TRS:\n",
      "eye =\n",
      "     2\n",
      " sac1_peakvel: 366.0573\n",
      "18:861 to 1461 max length Signal :1925TRS:\n",
      "eye =\n",
      "     2\n",
      " sac1_peakvel: 383.3849\n",
      "25:853 to 1453 max length Signal :1935TRS:\n",
      "eye =\n",
      "     2\n",
      " sac1_peakvel: 370.1348\n",
      "29:856 to 1456 max length Signal :1932TRS:\n",
      "eye =\n",
      "     2\n",
      " sac1_peakvel: 351.7597\n",
      "Adding mainseqCTRLplot.m ...\n",
      "Adding mainseqCTRLplot.m ...\n",
      "Warning: Ignoring extra legend entries.\n",
      "> In legend>process_inputs (line 566)\n",
      "  In legend>make_legend (line 310)\n",
      "  In legend (line 261)\n",
      "  In eyemovplots_clinicalv2g (line 209)\n",
      "  In Eyemovclinical_jupyter_v7g (line 67)\n",
      "ans =\n",
      "                        11                       8.5\n",
      "Adding mainseqCTRLplot.m ...\n",
      "Adding mainseqCTRLplot.m ...\n",
      "ans =\n",
      "                        11                       8.5\n",
      "Adding mainseqCTRLplot.m ...\n",
      "Adding mainseqCTRLplot.m ...\n",
      "ans =\n",
      "                        11                       8.5\n",
      "Warning: you are using a very large minimum number of bins, are you sure you *always need this much precision?\n",
      "> In nhist (line 677)\n",
      "  In Eyemovclinical_jupyter_v7g (line 178)\n",
      "ans =\n",
      "                        11                       8.5\n"
     ]
    }
   ],
   "source": [
    "% Better run this in MATLAB IDE Command Window:\n",
    "close all\n",
    "Eyemovclinical_jupyter_v7g"
   ]
  },
  {
   "cell_type": "raw",
   "metadata": {},
   "source": [
    "20, 209, 218, 219"
   ]
  },
  {
   "cell_type": "code",
   "execution_count": 11,
   "metadata": {},
   "outputs": [
    {
     "name": "stdout",
     "output_type": "stream",
     "text": [
      "\n",
      "Your variables are:\n",
      "\n",
      "contstartup   filesuffix    maxvelaxis    name          ptexptdate    sac1ovr_flag  ttypes        \n",
      "eyechoices    harddrive     minvelaxis    patienttitle  ptinitials    savefileflag  \n",
      "\n"
     ]
    },
    {
     "name": "stderr",
     "output_type": "stream",
     "text": []
    }
   ],
   "source": [
    "who"
   ]
  },
  {
   "cell_type": "markdown",
   "metadata": {},
   "source": [
    "### Latency Analysis"
   ]
  },
  {
   "cell_type": "code",
   "execution_count": 3,
   "metadata": {},
   "outputs": [
    {
     "name": "stdout",
     "output_type": "stream",
     "text": [
      "Warning: you are using a very large minimum number of bins, are you sure you *always need this much precision?\n",
      "> In nhist (line 716)\n",
      "ans =\n",
      "    'Plot #1: mean=202.05, std=74.11, median=194.81, '\n"
     ]
    },
    {
     "name": "stderr",
     "output_type": "stream",
     "text": []
    }
   ],
   "source": [
    "for i = 1:length(Trials)\n",
    "    Tc = [Trials(i).Events.Code];\n",
    "    Tt = [Trials(i).Events.Time];\n",
    "    FPofftime = Tt([Tc == 1005]);\n",
    "    try\n",
    "        latency = Trials(i).sac1str.start - FPofftime;\n",
    "        Trials(i).latency = latency;\n",
    "    catch\n",
    "        Trials(i).errors.latency = 'No latency able to be calculated.';\n",
    "    end\n",
    "end\n",
    "%only include latencies that are <500ms\n",
    "lat = [Trials.latency];\n",
    "lat = lat([lat<=500]);\n",
    "figure\n",
    "nhist(lat,'minbins',50,'median','linewidth',1)"
   ]
  },
  {
   "cell_type": "markdown",
   "metadata": {},
   "source": [
    "## Some helpful functions and references below:\n"
   ]
  },
  {
   "cell_type": "code",
   "execution_count": null,
   "metadata": {},
   "outputs": [],
   "source": [
    "help TEGsharedlibs"
   ]
  },
  {
   "cell_type": "code",
   "execution_count": null,
   "metadata": {},
   "outputs": [],
   "source": [
    "help saccadogram"
   ]
  },
  {
   "cell_type": "code",
   "execution_count": null,
   "metadata": {},
   "outputs": [],
   "source": [
    "!ls -Glpht (\"/Users/Linus/Dropbox/MATLAB/\\!Patients/\")"
   ]
  },
  {
   "cell_type": "code",
   "execution_count": null,
   "metadata": {},
   "outputs": [],
   "source": [
    "which eyemovplots_clinicalv2b"
   ]
  },
  {
   "cell_type": "code",
   "execution_count": null,
   "metadata": {},
   "outputs": [],
   "source": []
  }
 ],
 "metadata": {
  "kernelspec": {
   "display_name": "MATLAB",
   "language": "matlab",
   "name": "imatlab"
  },
  "language_info": {
   "codemirror_mode": "octave",
   "file_extension": ".m",
   "mimetype": "text/x-matlab",
   "name": "matlab",
   "nbconvert_exporter": "imatlab._exporter.MatlabExporter",
   "pygments_lexer": "matlab",
   "version": "9.5.0.944444 (R2018b)"
  }
 },
 "nbformat": 4,
 "nbformat_minor": 4
}
