{
 "cells": [
  {
   "cell_type": "markdown",
   "metadata": {},
   "source": [
    "# Data Analysis for Eye Movements (PEECS) version 0.9.9\n",
    "### Copy this notebook to folder where your matlab main sequence data resides\n",
    "\n",
    "The following steps will be discussed:\n",
    "1. Make sure prerequisites for analysis are taken care of (paths and installs) \n",
    "- Verify files acquired from PEECS or psychopy\n",
    "- Process matlab files: \n",
    "    * concatenate\n",
    "    * initial run through with Trial explorer (TE1)\n",
    "- Manual data exploration with Trial explorer (TE1)\n",
    "\n",
    "##### Prerequisites installations: MATLAB, Jupyter Notebook/Lab - Probably done yourself already\n",
    "##### Prereq: add to search PATH in MATLAB: TE1/, TEGsharedlibs/, saccaddogram/\n",
    "\n",
    "Version History:  \n",
    "0.9.4 - 2/10/18 Edit. Works to produce inline and out of panel MATLAB figures.  \n",
    "0.9.5 - 2/11/18 Edit. Updated ease of use for fixing problems in Trials structure during saccadogram printing & errors.  \n",
    "0.9.6 - 2/2019  Update. For Monkey Logic.  \n",
    "0.9.7 - include extraction from raw bhv2 files (ML).  \n",
    "0.9.8 - bug fixes.   \n",
    "0.9.9 - Binocular Data from MonkeyLogic Fix (LDS). Will run bhv2matML2 script. Other clean up of saccadogram.   "
   ]
  },
  {
   "cell_type": "markdown",
   "metadata": {},
   "source": [
    "### Step 0: (MonkeyLogic2/PEECS)  Check PATH prerequisites/Set up directory paths assuming we're using cookiecutter data science directories (helpful)\n",
    "\n",
    "Use command 'path' to view entire matlab path.\n",
    "Look for in output: \"Found all 3 required paths! You can continue with analysis!\""
   ]
  },
  {
   "cell_type": "code",
   "execution_count": 45,
   "metadata": {},
   "outputs": [
    {
     "name": "stdout",
     "output_type": "stream",
     "text": [
      "\n",
      "Output from cell above:\n",
      "The Matlab PATH has the relevant folders below\n",
      "IF TE1dev, TEGsharedlibs, or saccadogram are missing must add it to path in Matlab:\n",
      "\n",
      "/Users/John/Dropbox/MATLAB/TEGsharedlibs\n",
      "/Users/John/Dropbox/MATLAB/saccadogram\n",
      "/Users/John/Dropbox/MATLAB/copysaccadogram\n",
      "/Users/John/Dropbox/MATLAB/copyTEGsharedlibs\n",
      "/Users/John/Dropbox/MATLAB/TE1dev2\n",
      "\n",
      "Found all 3 required paths! You can continue with analysis!/Users/John/Dropbox/MATLAB/saccadogram/bhv2matML2.m\n",
      "/Users/John/Library/Application Support/MathWorks/MATLAB Add-Ons/Apps/NIMHMonkeyLogic2/mlread.m\n",
      "\n",
      "notebookpath =\n",
      "\n",
      "    '/Users/John/Dropbox/vergence_led/notebooks'\n",
      "\n",
      "\n",
      "rawdatadir =\n",
      "\n",
      "    '../data/raw'\n",
      "\n",
      "190614_Starr_cond_msq_vergLED(2).bhv2\n",
      "190618_Starr_cond_msq_vergLED(1).bhv2\n",
      "190620_Starr_cond_msq_vergLED(9).bhv2\n",
      "190624_Starr_cond_msq_vergLED2c(4).bhv2\n",
      "190626_Starr_cond_msq_vergLED2c(20).bhv2\n",
      "190626_Starr_cond_msq_vergLED2c(22).bhv2\n",
      "190626_Starr_cond_msq_vergLED2c.bhv2\n",
      "\n",
      "\n",
      "interimdir =\n",
      "\n",
      "    '../data/interim'\n",
      "\n",
      "\n",
      "interimpath =\n",
      "\n",
      "    '/Users/John/Dropbox/vergence_led/data/interim/'\n",
      "\n"
     ]
    }
   ],
   "source": [
    "%% Pattern contains names of path we are interested\n",
    "pattern = [\"TE1dev\",\"TEGsharedlibs\",\"saccadogram\"]; \n",
    "[pathoutput] = eval('path'); % gets PATH from Matlab kernel (determined in Matlab App)\n",
    "[pathstrs] = strsplit(pathoutput,{';',':'}); % splits single linestring into multiple strings\n",
    "fprintf('\\nOutput from cell above:\\nThe Matlab PATH has the relevant folders below\\nIF TE1dev, TEGsharedlibs, or saccadogram are missing must add it to path in Matlab:\\n\\n');\n",
    "pf = contains(pathstrs,pattern); % logical list of patterns found in string list array\n",
    "for i=find(pf) % get indecies of path strings which have found patterns\n",
    "    disp(pathstrs{i}); % display each path string that was identified in pattern\n",
    "end\n",
    "if sum(pf) >= length(pattern)\n",
    "    fprintf(['\\nFound all ' num2str(length(pattern)) ' required paths! You can continue with analysis!'])\n",
    "else\n",
    "    fprintf(['\\nFound ' num2str(length(pattern)) ' paths'])\n",
    "    fprintf('\\nsome paths are missing')\n",
    "end\n",
    "\n",
    "% make sure bhv2matML is in saccadogram folder (shared)\n",
    "which bhv2matML2 % version 2 accounts for .eye = OD and eye2 = OS.\n",
    "which mlread\n",
    "\n",
    "% get the current working directory of the folder containing this notebook\n",
    "notebookpath = pwd\n",
    "\n",
    "% data in this dir should be immutable (never delete or alter individual files themselves)\n",
    "rawdatadir = '../data/raw'\n",
    "ls(rawdatadir)\n",
    "\n",
    "interimdir = '../data/interim'\n",
    "tmpd = dir(interimdir); interimpath = [tmpd(1).folder '/']"
   ]
  },
  {
   "cell_type": "markdown",
   "metadata": {},
   "source": [
    "\n"
   ]
  },
  {
   "cell_type": "markdown",
   "metadata": {},
   "source": [
    "### Step 1 (MonkeyLogic): Convert raw data file if needed, skip to Step 2 if not.\n",
    "\n",
    "Assuming raw data files are stored in ../data/raw. Convert Monkey Logic Files to .mat files\n",
    "\n",
    "#### Process the above files into .mat files. This is in the development but we are using some new scripts called \"bhv2matML2\" to convert these monkey logic raw data files to .mat files which should be stored here in the interim path directory:\n",
    "\n",
    "This can be saved and used for future analysis Do this for OD and OS MSQ files:\n",
    "\n",
    "- Using the \"Select File to Open\" Dialog, choose your raw data file.\n",
    "- Next using the \"Convert BHV2 file to Trials\" dialog box, choose:\n",
    "- Eye (OU/OD/OS), where OU is best for binocular monkey data. Deprecated: OD for files with only monocular right eye data stored in .eye and OS for files with OS data stored in .eye (rather than .eye2 as in binocular data)\n",
    "- Half Screen (deprecated used for debugging only)\n",
    "- debugging (for verbose output)\n",
    "- Save File? 'y' if you want to save resulting Trials struct into .mat file of the same filename\n",
    "- filename: confirm that the pathname and filename are the raw .bhv filename\n",
    "- Save Director: confirm final folder if you do decide to 'y'es save the file into a .mat filename."
   ]
  },
  {
   "cell_type": "code",
   "execution_count": 46,
   "metadata": {},
   "outputs": [
    {
     "name": "stdout",
     "output_type": "stream",
     "text": [
      "Choose a data file\n",
      "Error using mlread (line 15)\n",
      "File not selected\n",
      "\n",
      "Error in bhv2matML2 (line 49)\n",
      "    [Trials_temp,MLConfig,TrialRecord,filename,varlist] = mlread;\n"
     ]
    }
   ],
   "source": [
    "bhv2matML2 % version to fixes left/right bug in version 1 that reversed the left and right eyes."
   ]
  },
  {
   "cell_type": "code",
   "execution_count": 47,
   "metadata": {},
   "outputs": [
    {
     "name": "stdout",
     "output_type": "stream",
     "text": [
      "Your OD and OS matlab files .mat are here:\n",
      "\n",
      ".                                                 \n",
      "..                                                \n",
      ".DS_Store                                         \n",
      ".gitkeep                                          \n",
      "190614_Starr_cond_msq_vergLED(2)_OU.mat           \n",
      "190614_Starr_cond_msq_vergLED_OU_1012only.mat     \n",
      "190618_Starr_cond_msq_vergLED(1)_OU.mat           \n",
      "190618_Starr_cond_msq_vergLED_OU.mat              \n",
      "190618_Starr_cond_msq_vergLED_OU_1012TE1.mat      \n",
      "190618_Starr_cond_msq_vergLED_OU_TE1.mat          \n",
      "190618_Starr_cond_msq_vergLED_OU_TE1_1012TE1.mat  \n",
      "190620_Starr_AltCOVER_Cond7_8.mat                 \n",
      "190620_Starr_cond_msq_vergLED(9)_OU.mat           \n",
      "190624_Starr_AltCOVER_Cond7and9.mat               \n",
      "190624_Starr_cond_msq_vergLED2c(4)_OU.mat         \n",
      "190626_Starr_AltCOVER1_Block5and6.mat             \n",
      "190626_Starr_AltCOVER1_Cond789.mat                \n",
      "190626_Starr_cond_msq_vergLED2c(20)_OU.mat        \n",
      "190626_Starr_cond_msq_vergLED2c(22)_OU.mat        \n",
      "190626_Starr_cond_msq_vergLED2c_OU.mat            \n",
      "\n",
      "\n"
     ]
    }
   ],
   "source": [
    "disp('Your OD and OS matlab files .mat are here:')\n",
    "dir(interimdir)"
   ]
  },
  {
   "cell_type": "markdown",
   "metadata": {},
   "source": [
    "___\n",
    "### Step 2: Confirm that the MATLAB data files from ML2/PEECS are in the interim directory (.pedat files converted to MATLAB .mat files or ML2 .bhv files converted to .mat files)\n",
    "\n",
    "**Look to the files tab in Jupyter lab (left side tab) and verify your two or more .mat files are there, if working in jupyter/ipython notebook only see output below**\n",
    "\n",
    "If you aren't using jupyter lab, but regular ipython/jupyter notebook verify the files below are in the same directory as this notebook:"
   ]
  },
  {
   "cell_type": "code",
   "execution_count": 48,
   "metadata": {},
   "outputs": [
    {
     "name": "stdout",
     "output_type": "stream",
     "text": [
      "*** RAW Data dir: ***\n",
      ".                                         \n",
      "..                                        \n",
      ".DS_Store                                 \n",
      ".gitkeep                                  \n",
      "190614_Starr_cond_msq_vergLED(2).bhv2     \n",
      "190618_Starr_cond_msq_vergLED(1).bhv2     \n",
      "190620_Starr_cond_msq_vergLED(9).bhv2     \n",
      "190624_Starr_cond_msq_vergLED2c(4).bhv2   \n",
      "190626_Starr_cond_msq_vergLED2c(20).bhv2  \n",
      "190626_Starr_cond_msq_vergLED2c(22).bhv2  \n",
      "190626_Starr_cond_msq_vergLED2c.bhv2      \n",
      "\n",
      "\n",
      "*** Interim Data dir: ***\n",
      ".                                                 \n",
      "..                                                \n",
      ".DS_Store                                         \n",
      ".gitkeep                                          \n",
      "190614_Starr_cond_msq_vergLED(2)_OU.mat           \n",
      "190614_Starr_cond_msq_vergLED_OU_1012only.mat     \n",
      "190618_Starr_cond_msq_vergLED(1)_OU.mat           \n",
      "190618_Starr_cond_msq_vergLED_OU.mat              \n",
      "190618_Starr_cond_msq_vergLED_OU_1012TE1.mat      \n",
      "190618_Starr_cond_msq_vergLED_OU_TE1.mat          \n",
      "190618_Starr_cond_msq_vergLED_OU_TE1_1012TE1.mat  \n",
      "190620_Starr_AltCOVER_Cond7_8.mat                 \n",
      "190620_Starr_cond_msq_vergLED(9)_OU.mat           \n",
      "190624_Starr_AltCOVER_Cond7and9.mat               \n",
      "190624_Starr_cond_msq_vergLED2c(4)_OU.mat         \n",
      "190626_Starr_AltCOVER1_Block5and6.mat             \n",
      "190626_Starr_AltCOVER1_Cond789.mat                \n",
      "190626_Starr_cond_msq_vergLED2c(20)_OU.mat        \n",
      "190626_Starr_cond_msq_vergLED2c(22)_OU.mat        \n",
      "190626_Starr_cond_msq_vergLED2c_OU.mat            \n",
      "\n",
      "\n",
      "*** Processed Data dir: ***\n",
      ".                                                      \n",
      "..                                                     \n",
      ".gitkeep                                               \n",
      "160624_AltCover_Table.mat                              \n",
      "190620_Starr_AltCOVER_Cond7_8_1012TE1.mat              \n",
      "190620_Starr_AltCOVER_Cond7_8_1012TE1_150thresh.mat    \n",
      "190624_Starr_AltCOVER_Cond7and9_1012TE1.mat            \n",
      "190624_Starr_AltCOVER_Cond7and9_1012TE1_200thresh.mat  \n",
      "190626_Starr_AltCOVER1_Block5and6_1012TE1.mat          \n",
      "190626_Starr_AltCOVER1_Cond789_1012TE1.mat             \n",
      "\n",
      "\n",
      "\n",
      "files =\n",
      "\n",
      "  1x1 cell array\n",
      "\n",
      "    {'190626_Starr_cond_msq_vergLED2c_OU(20).mat'}\n",
      "\n",
      "\n",
      "newfilename =\n",
      "\n",
      "    '190626_Starr_AltCOVER1_Cond789(20)'\n",
      "\n"
     ]
    }
   ],
   "source": [
    "notebookdir = pwd;\n",
    "rawdatadir = '../data/raw/'; fprintf('*** RAW Data dir: ***')\n",
    "dir(rawdatadir)\n",
    "interimdir = '../data/interim/'; fprintf('*** Interim Data dir: ***')\n",
    "dir(interimdir)\n",
    "processeddir = '../data/processed/'; fprintf('*** Processed Data dir: ***')\n",
    "dir(processeddir)\n",
    "\n",
    "%%%%%%%%%%%%%%%%%%%%%%%%%%\n",
    "% Set up new filenames:\n",
    "%%%%%%%%%%%%%%%%%%%%%%%%%%\n",
    "files = {'190626_Starr_cond_msq_vergLED2c(20)_OU.mat'} %<--- copy paste two or more raw file names here\n",
    "newfilename = '190626_Starr_AltCOVER1_Cond789(20)' % <--- this will be the name of the new files containing all raw processed data"
   ]
  },
  {
   "cell_type": "markdown",
   "metadata": {},
   "source": [
    "### Step 3 (PEECS ONLY): if you have more than one (monocular) data file, and you need to concatenate them do this: Given that at least one OS and one OD file are above, load them and concatenate them with the following code (if you don't want to use this code, can use \"catTrials\" script on the command line).\n",
    "#### HELPFUL NOTES: \n",
    "- BEST WITH FRESH unevaluated by TE1 .mat files. \n",
    "- If you have already concantenated files, you should go straight to running TE1 (Step 5)\n",
    "- You can use cattrials as well to concatenate files.\n",
    "- With ML2 Trials, FB trials are included, there will be so many, so use the tool TrialsRmFB.m to delete those trials"
   ]
  },
  {
   "cell_type": "code",
   "execution_count": 5,
   "metadata": {},
   "outputs": [
    {
     "name": "stdout",
     "output_type": "stream",
     "text": [
      "The Current Directory should be the notebooks directory if in a Jupyter lab, if not running a jupyter notebook, keep everything in same diretory\n",
      "\n",
      "ans =\n",
      "\n",
      "    '/Users/John/Dropbox/vergence_led/notebooks'\n",
      "\n",
      "Error using eval\n",
      "Undefined function or variable 'interimdatadir'.\n"
     ]
    }
   ],
   "source": [
    "disp('The Current Directory should be the notebooks directory if in a Jupyter lab, if not running a jupyter notebook, keep everything in same diretory')\n",
    "pwd\n",
    "\n",
    "% if files are in a different directory than this notebook, must adjust path:\n",
    "datafolder = interimdatadir; % CHOOSE THIS FOR COOKIE CUTTER DATA SCIENCE FOLDER STRUCTURE\n",
    "%datafolder = './'; % CHOOSE THIS FOR ALL FILES IN THE SAME FOLDER\n",
    "\n",
    "%disp filenames (previous code cell)\n",
    "files\n",
    "\n",
    "eyes  = {'OD','OS'}; % eyes corresponding to each file\n",
    "Trials = [];\n",
    "for i = 1:length(files)\n",
    "    dat = load([datafolder files{i}])\n",
    "    %% add eyes to each file\n",
    "    %% dat.Trials returns the Trials structure\n",
    "    for i2 = 1:length(dat.Trials)\n",
    "        dat.Trials(i2).eye = eyes{i};\n",
    "    end\n",
    "    Trials = [Trials(:); dat.Trials(:)];\n",
    "end\n",
    "disp('New Trials should appear here')\n",
    "\n",
    "% Now print out the Trials and info variables in memory:\n",
    "whos Trials info"
   ]
  },
  {
   "cell_type": "markdown",
   "metadata": {},
   "source": [
    "### Step 3.1 (MonkeyLogic2): many fixation breaks or non-reward trials can be erased, run the TrialsRmFB script on ML2 derived Trials struct in memory.\n",
    "\n",
    "- Use Dialog box to run this script"
   ]
  },
  {
   "cell_type": "code",
   "execution_count": 55,
   "metadata": {},
   "outputs": [
    {
     "name": "stdout",
     "output_type": "stream",
     "text": [
      "Will keep trials in with ECODES:\n",
      "        1012\n",
      "\n",
      "Original Trials struct var name    :Trials\n",
      "New created Trials struct var name : TrialsNew\n",
      " \n",
      "...x..x...(10)x........x(20).....x....(30)..x.....x.(40).........x(50)...x.  Name            Size               Bytes  Class     Attributes\n",
      "\n",
      "  Trials         55x1             21282158  struct              \n",
      "  TrialsNew       1x46            19133948  struct              \n",
      "\n"
     ]
    }
   ],
   "source": [
    "% TO ELIMINATE BAD NON-REWARD TRIALS RUN THE TrialsRmFB.m tool\n",
    "TrialsRmFB;"
   ]
  },
  {
   "cell_type": "code",
   "execution_count": 56,
   "metadata": {},
   "outputs": [
    {
     "name": "stdout",
     "output_type": "stream",
     "text": [
      "\n",
      "Trials = \n",
      "\n",
      "  46x1 struct array with fields:\n",
      "\n",
      "    trialNumber\n",
      "    blockNumber\n",
      "    ML_Conditions\n",
      "    trialtype\n",
      "    outcome\n",
      "    SignalsOD\n",
      "    SignalsOS\n",
      "    Functions\n",
      "    Events\n",
      "    Frames\n",
      "    InternalPars\n",
      "    Units\n",
      "    aStartTime\n",
      "    tStartTime\n",
      "    aEndTime\n",
      "    tEndTime\n",
      "    a2dRate\n",
      "    datatype\n",
      "    Signals\n",
      "\n"
     ]
    }
   ],
   "source": [
    "% now save TrialsNew\n",
    "Trials = TrialsNew(:) "
   ]
  },
  {
   "cell_type": "markdown",
   "metadata": {},
   "source": [
    "### Step 4. Save Trials and info into interm data file (name specified in Step 2)"
   ]
  },
  {
   "cell_type": "code",
   "execution_count": 57,
   "metadata": {},
   "outputs": [
    {
     "name": "stdout",
     "output_type": "stream",
     "text": [
      "\n",
      "filename =\n",
      "\n",
      "    '190626_Starr_AltCOVER1_Cond789(20)'\n",
      "\n",
      "  Name         Size               Bytes  Class     Attributes\n",
      "\n",
      "  Trials      46x1             19133948  struct              \n",
      "\n",
      "Saved Trials into  190626_Starr_AltCOVER1_Cond789(20).mat  in the interimdirectory: ../data/interim/\n",
      "\n",
      ".                                                 \n",
      "..                                                \n",
      ".DS_Store                                         \n",
      ".gitkeep                                          \n",
      "190614_Starr_cond_msq_vergLED(2)_OU.mat           \n",
      "190614_Starr_cond_msq_vergLED_OU_1012only.mat     \n",
      "190618_Starr_cond_msq_vergLED(1)_OU.mat           \n",
      "190618_Starr_cond_msq_vergLED_OU.mat              \n",
      "190618_Starr_cond_msq_vergLED_OU_1012TE1.mat      \n",
      "190618_Starr_cond_msq_vergLED_OU_TE1.mat          \n",
      "190618_Starr_cond_msq_vergLED_OU_TE1_1012TE1.mat  \n",
      "190620_Starr_AltCOVER_Cond7_8.mat                 \n",
      "190620_Starr_cond_msq_vergLED(9)_OU.mat           \n",
      "190624_Starr_AltCOVER_Cond7and9.mat               \n",
      "190624_Starr_cond_msq_vergLED2c(4)_OU.mat         \n",
      "190626_Starr_AltCOVER1_Block5and6.mat             \n",
      "190626_Starr_AltCOVER1_Cond789(20).mat            \n",
      "190626_Starr_AltCOVER1_Cond789.mat                \n",
      "190626_Starr_cond_msq_vergLED2c(20)_OU.mat        \n",
      "190626_Starr_cond_msq_vergLED2c(22)_OU.mat        \n",
      "190626_Starr_cond_msq_vergLED2c_OU.mat            \n",
      "\n",
      "\n"
     ]
    }
   ],
   "source": [
    "% if files are in a different directory than this notebook, must adjust path:\n",
    "%datafolder = interimdatadir % CHOOSE THIS FOR COOKIE CUTTER DATA SCIENCE FOLDER STRUCTURE\n",
    "%datafolder = './'; % CHOOSE THIS FOR ALL FILES IN THE SAME FOLDER\n",
    "\n",
    "filename = [newfilename] % This will change the file name after eliminating non reward trials in prev step.\n",
    "\n",
    "whos Trials \n",
    "\n",
    "%%%%%%%%%%%%%%%%%%%%%%%%%%%%%%%%%%%%%%%%%%%%%%%%%%\n",
    "% Uncomment this to save data into data folder%\n",
    "     save([interimdir filename],'Trials'); disp(['Saved Trials into  ' filename '.mat  in the interimdirectory: ' interimdir]);\n",
    "%%%%%%%%%%%%%%%%%%%%%%%%%%%%%%%%%%%%%%%%%%%%%%%%%%\n",
    "\n",
    "%!ls -Glph\n",
    "dir(interimdir)"
   ]
  },
  {
   "cell_type": "markdown",
   "metadata": {},
   "source": [
    "### Step 5. Need to call some global variables in matlab and reload temp matlab file"
   ]
  },
  {
   "cell_type": "code",
   "execution_count": 58,
   "metadata": {},
   "outputs": [
    {
     "name": "stdout",
     "output_type": "stream",
     "text": [
      "Warning: The value of local variables may have been changed to match the globals.  Future versions of MATLAB will require that you declare a variable to be global before you use that variable.\n",
      "Warning: The value of local variables may have been changed to match the globals.  Future versions of MATLAB will require that you declare a variable to be global before you use that variable.\n",
      "  Name         Size               Bytes  Class     Attributes\n",
      "\n",
      "  Trials      46x1             19133948  struct    global    \n",
      "  i            1x1                    8  double    global    \n",
      "\n",
      "\n",
      "ans = \n",
      "\n",
      "  struct with fields:\n",
      "\n",
      "      trialNumber: 1\n",
      "      blockNumber: 7\n",
      "    ML_Conditions: 7\n",
      "        trialtype: 1\n",
      "          outcome: 0\n",
      "        SignalsOD: [1x3 struct]\n",
      "        SignalsOS: [1x3 struct]\n",
      "        Functions: [1x9 struct]\n",
      "           Events: [1x14 struct]\n",
      "           Frames: []\n",
      "     InternalPars: NaN\n",
      "            Units: []\n",
      "       aStartTime: 0\n",
      "       tStartTime: 0\n",
      "         aEndTime: 4836\n",
      "         tEndTime: 4836\n",
      "          a2dRate: [1000 1000 1000 1000]\n",
      "         datatype: 'MonkeyLogic'\n",
      "          Signals: [2x3 struct]\n",
      "\n"
     ]
    }
   ],
   "source": [
    "%clear -except datafolder ;  % Clears all variables out, even global ones are emptied\n",
    "global Trials i % This may inadvertently bring a filled out Trials variable to the global space.\n",
    "whos Trials i\n",
    "i = 1;\n",
    "Trials(1)"
   ]
  },
  {
   "cell_type": "markdown",
   "metadata": {},
   "source": [
    "### Step 6. (Get newfilename and datadir from Step 2 if needed), specify the matlab file which you wish to load which has the Trials structure:"
   ]
  },
  {
   "cell_type": "code",
   "execution_count": 59,
   "metadata": {},
   "outputs": [
    {
     "name": "stdout",
     "output_type": "stream",
     "text": [
      "\n",
      "fullfilename =\n",
      "\n",
      "    '../data/interim/190626_Starr_AltCOVER1_Cond789(20).mat'\n",
      "\n"
     ]
    }
   ],
   "source": [
    "%\n",
    "% YOU SHOULD PUT YOUR FILENAME HERE\n",
    "%\n",
    "fullfilename = [interimdir newfilename '.mat']\n",
    "\n",
    "%fullfilename = '../data/interim/190614_Starr_cond_msq_vergLED_OU_1012only.mat'"
   ]
  },
  {
   "cell_type": "code",
   "execution_count": 60,
   "metadata": {},
   "outputs": [
    {
     "name": "stdout",
     "output_type": "stream",
     "text": [
      "\n",
      "190626_Starr_AltCOVER1_Cond789(20).mat  \n",
      "\n",
      "\n",
      "YOU SHOULD SEE A TRIALS STRUCTURE IN THE VARIABLE SPACE HERE:\n",
      "  Name         Size               Bytes  Class     Attributes\n",
      "\n",
      "  Trials      46x1             19133948  struct    global    \n",
      "  i            1x1                    8  double    global    \n",
      "\n"
     ]
    }
   ],
   "source": [
    "%filename = 'Trialstemp_jupyter.mat';\n",
    "dir(fullfilename)\n",
    "disp('YOU SHOULD SEE A TRIALS STRUCTURE IN THE VARIABLE SPACE HERE:')\n",
    "try\n",
    "    %clear Trials\n",
    "    load(fullfilename)\n",
    "    whos Trials i\n",
    "catch \n",
    "    disp('NO FILENAME FOUND: Did you include the .mat at the end of filename?')\n",
    "end"
   ]
  },
  {
   "cell_type": "markdown",
   "metadata": {},
   "source": [
    "# Trial Explorer (TE1) Instructions\n",
    "## Step 7. use TE1dev to evaluate each and every trial\n",
    "### At this point you should have openned a command window, it's easier to do this with matlab session launched from the command window from within Jupyter LAB. \n",
    "### use command 'runTE1dev' to launch it"
   ]
  },
  {
   "cell_type": "code",
   "execution_count": 61,
   "metadata": {},
   "outputs": [
    {
     "name": "stdout",
     "output_type": "stream",
     "text": [
      "  Name         Size               Bytes  Class     Attributes\n",
      "\n",
      "  Trials      46x1             19133948  struct    global    \n",
      "  i            1x1                    8  double    global    \n",
      "\n",
      "\n",
      "i =\n",
      "\n",
      "     1\n",
      "\n"
     ]
    }
   ],
   "source": [
    "whos Trials i\n",
    "i"
   ]
  },
  {
   "cell_type": "markdown",
   "metadata": {},
   "source": [
    "### (deprecated) ONLY run this if it's the fisrt time before you went through structure with TrialExplorer1:"
   ]
  },
  {
   "cell_type": "code",
   "execution_count": null,
   "metadata": {},
   "outputs": [],
   "source": [
    "%Trials_PEECS_Sgolay1000add % Running this script once will update the Trials structure to make TE1 run more quickly. By populating the sgolay filtered eye movement data"
   ]
  },
  {
   "cell_type": "markdown",
   "metadata": {},
   "source": [
    "### TE1 Keyboard shortcuts\n",
    "#### arrow keys = move forward and back\n",
    "#### g = good trial\n",
    "#### b = bad trial\n",
    "#### q = quit, don't do this as you should leave it open and running as it will be useful when you print the saccadogram\n",
    "\n",
    "### Instruction manual\n",
    "### Note: the goal is to have 1 clean saccade after FP turns off (dotted black line). If a saccade occurs in the middle of the FP off, discard it as 'bad'. If no saccade is detected (or the saccade is missed) with a green-red vertical boundary, then choose manual sac1str and select beginning and end of that saccade exactly.\n",
    "#### Run through each trial individually, if you see a lot of noise mark it 'bad'.\n",
    "#### If you see a few randomly missing frames, especially during the saccade use '1 frame fill' button to fill those in, if the signal doesn't substantially improve then mark it as a 'bad' trial\n",
    "#### To use the keyboard commands click in a 'blank' area of the GUI to un-highlight a button.\n",
    "#### click on 'sgolay filtered data' to smooth data\n",
    "\n",
    "### NOTE: This is best run from MATLAB desktop, right click in jupyter lab and choose New Console for Notebook, type \"Desktop\" in there.\n"
   ]
  },
  {
   "cell_type": "code",
   "execution_count": 14,
   "metadata": {},
   "outputs": [
    {
     "name": "stdout",
     "output_type": "stream",
     "text": [
      "  Name          Size                Bytes  Class     Attributes\n",
      "\n",
      "  Trials      256x1             104106176  struct    global    \n",
      "  i             1x1                     8  double    global    \n",
      "\n"
     ]
    },
    {
     "name": "stderr",
     "output_type": "stream",
     "text": []
    }
   ],
   "source": [
    "%\n",
    "% THIS Cell when run will start up the Trial explorer: it calls runTE1.m file which in turns calls some global variables and launches the Trial Explorer.\n",
    "% Note that Trials and i are always global variables and all scripts here will have edit access to the Trials structure.\n",
    "%\n",
    "whos Trials i\n",
    "desktop % this will launch the matlabdesktop if not launched already\n",
    "\n",
    "%runTE1dev FROM THE DESKTOP (best choice)"
   ]
  },
  {
   "cell_type": "markdown",
   "metadata": {},
   "source": [
    "### Once all trials have been evaluated save the trials structure for future analysis\n",
    "\n",
    "** Mark down here the trial numbers which you have a question: **\n",
    "\n",
    "e.g. I have a question with Trial number: 1,2,3 etc... Let me review this with the team later\n"
   ]
  },
  {
   "cell_type": "code",
   "execution_count": 42,
   "metadata": {},
   "outputs": [
    {
     "name": "stdout",
     "output_type": "stream",
     "text": [
      "  Name         Size               Bytes  Class     Attributes\n",
      "\n",
      "  Trials      44x1             41448368  struct    global    \n",
      "\n"
     ]
    }
   ],
   "source": [
    "% now save the TE1 edited Trials structre with a different filename\n",
    "% for example if TE1 was run on Trials struct from the file 180210LDSms.mat\n",
    "% save to 180210LDSms_TE1.mat Trials info\n",
    "\n",
    "whos Trials info"
   ]
  },
  {
   "cell_type": "code",
   "execution_count": 63,
   "metadata": {},
   "outputs": [
    {
     "name": "stdout",
     "output_type": "stream",
     "text": [
      "Saved Trials into  190626_Starr_AltCOVER1_Cond789(20)_1012TE1.mat  in the interimdirectory: ../data/interim/\n",
      "\n",
      ".                                                      \n",
      "..                                                     \n",
      ".gitkeep                                               \n",
      "160624_AltCover_Table.mat                              \n",
      "190620_Starr_AltCOVER_Cond7_8_1012TE1.mat              \n",
      "190620_Starr_AltCOVER_Cond7_8_1012TE1_150thresh.mat    \n",
      "190624_Starr_AltCOVER_Cond7and9_1012TE1.mat            \n",
      "190624_Starr_AltCOVER_Cond7and9_1012TE1_200thresh.mat  \n",
      "190626_Starr_AltCOVER1_Block5and6_1012TE1.mat          \n",
      "190626_Starr_AltCOVER1_Cond789(20)_1012TE1.mat         \n",
      "190626_Starr_AltCOVER1_Cond789_1012TE1.mat             \n",
      "\n",
      "\n"
     ]
    }
   ],
   "source": [
    "TE1filename = [newfilename '_1012TE1']; % This will change the file name after eliminating non reward trials in prev step.\n",
    "save([processeddir TE1filename],'Trials'); disp(['Saved Trials into  ' TE1filename '.mat  in the interimdirectory: ' interimdir]);\n",
    "%!ls -Glph\n",
    "dir(processeddir)\n"
   ]
  },
  {
   "cell_type": "markdown",
   "metadata": {},
   "source": [
    "# FINAL STEP: Saccadogram Data Plotting (really only meant for HUMAN Main Sequence Data)\n",
    "\n",
    "At this point, with a fully analyzed Trials structure loaded in memory, you can run through it and produce a saccadogram. \n",
    "\n",
    "If no plots are generated and you end up seeing an error, then there is a problem with your Trials structure. The procedure to fix this and to clean up the saccadogram is to do the following: \n",
    "\n",
    "1. runTE1 to get the Trials Explorer to load and be able to edit Trials\n",
    "2. Rerun saccadogram print on Trials in memory\n",
    "3. On every error, refresh TE1 and fix the trial by manually seclecting the first saccade or marking the trial as [b]ad.\n",
    "3. Once you're satisfied, save the Trials and info into a new filename.\n",
    "\n",
    "Setting up variable names:"
   ]
  },
  {
   "cell_type": "code",
   "execution_count": 178,
   "metadata": {},
   "outputs": [
    {
     "name": "stdout",
     "output_type": "stream",
     "text": [
      "datafolder =\n",
      "    '../data/interim/'\n",
      "\n",
      ".                                       190219_ST_MSQ_ODOS_1012TE1.mat          OLD                                     \n",
      "..                                      190219_ST_MSQ_ODOS_1012only.mat         OLD2                                    \n",
      ".DS_Store                               190219_ST_MSQ_OD_cond_msq_as_sp_OD.mat  \n",
      ".gitkeep                                190219_ST_MSQ_OS_cond_msq_as_sp_OS.mat  \n",
      "\n",
      "ptfname =\n",
      "    '190219_ST_MSQ_ODOS_1012TE1.mat'\n",
      "  Name                     Size                   Bytes  Class      Attributes\n",
      "\n",
      "  C                        1x1                        8  double               \n",
      "  GUItitle                 1x33                      66  char                 \n",
      "  ML2PEECSsignal           1x1                        8  double               \n",
      "  ML2PEECSt                1x1                        8  double               \n",
      "  MLConfig                 1x1                    35409  struct               \n",
      "  RewCodes                 1x1                        8  double               \n",
      "  Signals_temp          5038x2                    80608  double               \n",
      "  Tn                       1x418               25629956  struct               \n",
      "  Torig                  866x1                 38713876  struct               \n",
      "  TrialRecord              1x1                   130518  struct               \n",
      "  Trials                 418x1                113357752  struct     global    \n",
      "  TrialsNewName            1x9                       18  char                 \n",
      "  TrialsOrigName           1x6                       12  char                 \n",
      "  Trials_import          442x1                 43562584  struct               \n",
      "  Trials_temp              1x442               43562584  struct               \n",
      "  Trials_tempOS            1x442               19278596  struct               \n",
      "  ans                      1x1                    55970  struct               \n",
      "  answer                   6x1                     1078  cell                 \n",
      "  autoCalib                1x1                        2  char                 \n",
      "  bhv2loc                  1x1                        8  double               \n",
      "  calibMode                1x1                        2  char                 \n",
      "  cellCode                 1x3                      360  cell                 \n",
      "  cellEvents               2x1                      272  cell                 \n",
      "  cellTime                 1x3                      360  cell                 \n",
      "  cellTime_temp            1x3                      360  cell                 \n",
      "  checkFxn                 1x1                        8  double               \n",
      "  curcol                   1x1                        8  double               \n",
      "  dat                      1x1                 19330108  struct               \n",
      "  datafolder               1x16                      32  char                 \n",
      "  debugMode                1x1                        2  char                 \n",
      "  definput                 1x4                      492  cell                 \n",
      "  dims                     1x2                       16  double               \n",
      "  dlgans                   4x1                      492  cell                 \n",
      "  ecodes                   1x3                       24  double               \n",
      "  ext                      1x5                       10  char                 \n",
      "  eyes                     1x2                      232  cell                 \n",
      "  filename                 1x26                      52  char                 \n",
      "  filenameonly             1x38                      76  char                 \n",
      "  filepath                 1x78                     156  char                 \n",
      "  files                    1x2                      360  cell                 \n",
      "  fullfilename             1x47                      94  char                 \n",
      "  hTE1                     1x1                 25674684  struct               \n",
      "  i                        1x1                        8  double     global    \n",
      "  i2                       1x1                        8  double               \n",
      "  ii                       1x1                        8  double               \n",
      "  info                     0x0                        0  double     global    \n",
      "  interimdatadir           1x16                      32  char                 \n",
      "  interimdirtxt            1x15                      30  char                 \n",
      "  interimpath              1x83                     166  char                 \n",
      "  isOU                     1x1                        2  char                 \n",
      "  isOU_value               1x1                        1  logical              \n",
      "  manCalib                 1x1                        2  char                 \n",
      "  maxcol                   1x1                        8  double               \n",
      "  newfilename              1x1                      148  cell                 \n",
      "  notebookdir              1x79                     158  char                 \n",
      "  notebookpath             1x79                     158  char                 \n",
      "  offCenter_ODx            1x1                        8  double               \n",
      "  offCenter_ODy            1x1                        8  double               \n",
      "  offCenter_OSx            1x1                        8  double               \n",
      "  offCenter_OSy            1x1                        8  double               \n",
      "  pathoutput               1x46240                92480  char                 \n",
      "  pathstrs                 1x730                 172782  cell                 \n",
      "  pattern                  1x3                      296  string               \n",
      "  pf                       1x730                    730  logical              \n",
      "  processeddatadir         1x18                      36  char                 \n",
      "  prompt                   1x4                      642  cell                 \n",
      "  ptfname                  1x30                      60  char                 \n",
      "  rawdatadir               1x12                      24  char                 \n",
      "  recEye                   1x2                        4  char                 \n",
      "  saveFile                 1x1                        2  char                 \n",
      "  signalODx             5038x1                    40304  double               \n",
      "  signalODy             5038x1                    40304  double               \n",
      "  simuMode                 1x1                        2  char                 \n",
      "  simuMode_value           1x1                        1  logical              \n",
      "  tEndtime_temp            1x2                       16  double               \n",
      "  targetLoc                1x1                        4  single               \n",
      "  targetLoc_temp           1x1                        8  double               \n",
      "  targetLoc_x              1x1                        8  double               \n",
      "  targetLoc_y              1x1                        8  double               \n",
      "  time_f                   1x1                        8  double               \n",
      "  time_i                   1x1                        8  double               \n",
      "  time_trial            5038x1                    40304  double               \n",
      "  tmpd                     9x1                     8689  struct               \n",
      "  toperate                 1x1                        8  double               \n",
      "  toperatestr              1x4                        8  char                 \n",
      "  triBlk_temp              1x1                        8  double               \n",
      "  triType                  1x1                        8  double               \n",
      "  triType_temp             1x1                        8  double               \n",
      "  varlist                446x1                    56890  cell                 \n",
      "  windowSizeOD             1x1                        8  double               \n",
      "  windowSizeOS             1x1                        8  double               \n",
      "\n"
     ]
    }
   ],
   "source": [
    "%%%%%%%%%%%%%%%%%%%%%%%%%%%%%%%%%%%%%%%%%%%%%%%%%%%%%%%%%%%%%%%%%%%%%%%%%%%%%%%%%%%%%%%%%%%%%%%%%%%%%%\n",
    "% RUN THIS CELL if you do not have Trials structure loaded in memory (check with whos Trials i)      %\n",
    "% Warning: If you haven't saved any changes to Trials in memory, running this cell will delete them! %\n",
    "%%%%%%%%%%%%%%%%%%%%%%%%%%%%%%%%%%%%%%%%%%%%%%%%%%%%%%%%%%%%%%%%%%%%%%%%%%%%%%%%%%%%%%%%%%%%%%%%%%%%%%\n",
    "clear Trials i\n",
    "global Trials i\n",
    "\n",
    "%% THE LATEST PATIENT FILENAME HERE:\n",
    "%ptfname = '190208_EB_MSQ_OU_TE1_JK.mat';\n",
    "datafolder = '../data/interim/'\n",
    "dir(datafolder)\n",
    "ptfname = '190219_ST_MSQ_ODOS_1012TE1.mat'\n",
    "load([datafolder ptfname])\n",
    "whos"
   ]
  },
  {
   "cell_type": "code",
   "execution_count": 180,
   "metadata": {},
   "outputs": [
    {
     "name": "stdout",
     "output_type": "stream",
     "text": [
      "NOTE: Trials struct needs to be run through REFRESH ALL at least once for a quick and dirty analysis\n",
      "TE1 has not been manually examined for every trial! some Trials(n).goodtrial are empty []!!! runTE1!\n",
      "eyemovplots_clinicalv2b: eyechoice\n",
      "plotselecteyetracev2: R\n",
      "idx:Selecting Trials with sac1str.dirmovs only (will plot any trial for the moment)\n",
      "idx:Selecting ttypes in idx\n",
      "idx/emidx: Selecting eyemov directions\n",
      "plotselecteyetrace: No eventstarttime given will use sac1start struct\n",
      "1:1168 to 1768 max length Signal :2004 sac1_peakvel: 284.4704\n",
      "4:615 to 1215 max length Signal :1415 sac1_peakvel: 316.3228\n",
      "5:586 to 1186 max length Signal :1409 sac1_peakvel: 325.7357\n",
      "8:622 to 1222 max length Signal :1445 sac1_peakvel: 293.2828\n",
      "12:742 to 1342 max length Signal :1547 sac1_peakvel: 311.3237\n",
      "14:623 to 1223 max length Signal :1449 sac1_peakvel: 280.4882\n",
      "20:604 to 1204 max length Signal :1430 sac1_peakvel: 273.5213\n",
      "32:727 to 1327 max length Signal :1529 sac1_peakvel: 324.1334\n",
      "plotselecteyetracev2: U\n",
      "idx:Selecting Trials with sac1str.dirmovs only (will plot any trial for the moment)\n",
      "idx:Selecting ttypes in idx\n",
      "idx/emidx: Selecting eyemov directions\n",
      "plotselecteyetrace: No eventstarttime given will use sac1start struct\n",
      "6:626 to 1226 max length Signal :1430 sac1_peakvel: 332.113\n",
      "7:621 to 1221 max length Signal :1419 sac1_peakvel: 355.4926\n",
      "9:680 to 1280 max length Signal :1502 sac1_peakvel: 328.6657\n",
      "10:648 to 1248 max length Signal :1471 sac1_peakvel: 310.1179\n",
      "16:641 to 1241 max length Signal :1451 sac1_peakvel: 312.6125\n",
      "17:662 to 1262 max length Signal :1487 sac1_peakvel: 327.331\n",
      "22:867 to 1467 max length Signal :1667 sac1_peakvel: 377.7416\n",
      "23:654 to 1254 max length Signal :1469 sac1_peakvel: 354.8174\n",
      "plotselecteyetracev2: L\n",
      "idx:Selecting Trials with sac1str.dirmovs only (will plot any trial for the moment)\n",
      "idx:Selecting ttypes in idx\n",
      "idx/emidx: Selecting eyemov directions\n",
      "plotselecteyetrace: No eventstarttime given will use sac1start struct\n",
      "2:687 to 1287 max length Signal :1491 sac1_peakvel: 352.0243\n",
      "11:763 to 1363 max length Signal :1573 sac1_peakvel: 315.0042\n",
      "13:741 to 1341 max length Signal :1545 sac1_peakvel: 377.07\n",
      "15:637 to 1237 max length Signal :1452 sac1_peakvel: 386.0054\n",
      "19:659 to 1259 max length Signal :1467 sac1_peakvel: 390.8972\n",
      "24:767 to 1367 max length Signal :1558 sac1_peakvel: 388.1306\n",
      "26:702 to 1302 max length Signal :1520 sac1_peakvel: 349.2032\n",
      "plotselecteyetracev2: D\n",
      "idx:Selecting Trials with sac1str.dirmovs only (will plot any trial for the moment)\n",
      "idx:Selecting ttypes in idx\n",
      "idx/emidx: Selecting eyemov directions\n",
      "plotselecteyetrace: No eventstarttime given will use sac1start struct\n",
      "18:631 to 1231 max length Signal :1421 sac1_peakvel: 422.0208\n",
      "21:620 to 1220 max length Signal :1443 sac1_peakvel: 389.275\n",
      "25:623 to 1223 max length Signal :1431 sac1_peakvel: 389.8114\n",
      "27:645 to 1245 max length Signal :1468 sac1_peakvel: 428.4432\n",
      "28:606 to 1206 max length Signal :1417 sac1_peakvel: 351.6216\n",
      "29:620 to 1220 max length Signal :1431 sac1_peakvel: 350.5943\n",
      "30:591 to 1191 max length Signal :1391 sac1_peakvel: 380.3657\n",
      "31:615 to 1215 max length Signal :1417 sac1_peakvel: 367.0389\n",
      "lh = \n",
      "  Legend (Saccades, Left, Right) with properties:\n",
      "\n",
      "         String: {'Saccades'  'Left'  'Right'}\n",
      "       Location: 'southeast'\n",
      "    Orientation: 'vertical'\n",
      "       FontSize: 9\n",
      "       Position: [0.2713 0.1174 0.0662 0.0473]\n",
      "          Units: 'normalized'\n",
      "\n",
      "  Use GET to show all properties\n",
      "method =\n",
      "    'poly2'\n",
      "buildlegend = \n",
      "  1x3 Line array:\n",
      "\n",
      "    Line    Line    Line\n",
      "msl = \n",
      "  Legend (CTRL^(^*^), 1-\\sigma, 2-\\sigma) with properties:\n",
      "\n",
      "         String: {'CTRL^(^*^)'  '1-\\sigma'  '2-\\sigma'}\n",
      "       Location: 'northwest'\n",
      "    Orientation: 'vertical'\n",
      "       FontSize: 9\n",
      "       Position: [0.1359 0.2686 0.0581 0.0498]\n",
      "          Units: 'normalized'\n",
      "\n",
      "  Use GET to show all properties\n",
      "lh = \n",
      "  Legend (Saccades, Up, Down) with properties:\n",
      "\n",
      "         String: {'Saccades'  'Up'  'Down'}\n",
      "       Location: 'southeast'\n",
      "    Orientation: 'vertical'\n",
      "       FontSize: 9\n",
      "       Position: [0.8330 0.1174 0.0662 0.0473]\n",
      "          Units: 'normalized'\n",
      "\n",
      "  Use GET to show all properties\n",
      "method =\n",
      "    'poly2'\n",
      "buildlegend = \n",
      "  1x3 Line array:\n",
      "\n",
      "    Line    Line    Line\n",
      "msl = \n",
      "  Legend (CTRL^(^*^), 1-\\sigma, 2-\\sigma) with properties:\n",
      "\n",
      "         String: {'CTRL^(^*^)'  '1-\\sigma'  '2-\\sigma'}\n",
      "       Location: 'northwest'\n",
      "    Orientation: 'vertical'\n",
      "       FontSize: 9\n",
      "       Position: [0.6976 0.2686 0.0581 0.0498]\n",
      "          Units: 'normalized'\n",
      "\n",
      "  Use GET to show all properties\n",
      "eyemovplots_clinicalv2b: eyechoice\n",
      "plotselecteyetracev2: R\n",
      "idx:Selecting Trials with sac1str.dirmovs only (will plot any trial for the moment)\n",
      "idx:Selecting ttypes in idx\n",
      "idx/emidx: Selecting eyemov directions\n",
      "plotselecteyetrace: No eventstarttime given will use sac1start struct\n",
      "212:719 to 1319 max length Signal :1547 sac1_peakvel: 312.0332\n",
      "222:672 to 1272 max length Signal :1483 sac1_peakvel: 313.7671\n",
      "225:620 to 1220 max length Signal :1437 sac1_peakvel: 345.7046\n",
      "226:630 to 1230 max length Signal :1439 sac1_peakvel: 311.0166\n",
      "235:864 to 1464 max length Signal :1664 sac1_peakvel: 293.824\n",
      "239:618 to 1218 max length Signal :1436 sac1_peakvel: 315.6138\n",
      "plotselecteyetracev2: U\n",
      "idx:Selecting Trials with sac1str.dirmovs only (will plot any trial for the moment)\n",
      "idx:Selecting ttypes in idx\n",
      "idx/emidx: Selecting eyemov directions\n",
      "plotselecteyetrace: No eventstarttime given will use sac1start struct\n",
      "213:831 to 1431 max length Signal :1668 sac1_peakvel: 190.488\n",
      "217:720 to 1320 max length Signal :1574 sac1_peakvel: 308.131\n",
      "231:667 to 1267 max length Signal :1478 sac1_peakvel: 294.6457\n",
      "237:669 to 1269 max length Signal :1464 sac1_peakvel: 265.0233\n",
      "240:623 to 1223 max length Signal :1445 sac1_peakvel: 281.9921\n",
      "plotselecteyetracev2: L\n",
      "idx:Selecting Trials with sac1str.dirmovs only (will plot any trial for the moment)\n",
      "idx:Selecting ttypes in idx\n",
      "idx/emidx: Selecting eyemov directions\n",
      "plotselecteyetrace: No eventstarttime given will use sac1start struct\n",
      "216:655 to 1255 max length Signal :1455 sac1_peakvel: 243.7777\n",
      "224:899 to 1499 max length Signal :1714 sac1_peakvel: 259.7545\n",
      "228:654 to 1254 max length Signal :1478 sac1_peakvel: 266.939\n",
      "230:643 to 1243 max length Signal :1448 sac1_peakvel: 291.2256\n",
      "232:930 to 1530 max length Signal :1757 sac1_peakvel: 320.229\n",
      "233:680 to 1280 max length Signal :1504 sac1_peakvel: 287.2077\n",
      "236:814 to 1414 max length Signal :1637 sac1_peakvel: 285.2876\n",
      "241:649 to 1249 max length Signal :1471 sac1_peakvel: 271.4183\n",
      "plotselecteyetracev2: D\n",
      "idx:Selecting Trials with sac1str.dirmovs only (will plot any trial for the moment)\n",
      "idx:Selecting ttypes in idx\n",
      "idx/emidx: Selecting eyemov directions\n",
      "plotselecteyetrace: No eventstarttime given will use sac1start struct\n",
      "211:1274 to 1874 max length Signal :2119 sac1_peakvel: 431.6444\n",
      "215:667 to 1267 max length Signal :1509 sac1_peakvel: 387.9016\n",
      "219:741 to 1341 max length Signal :1557 sac1_peakvel: 432.8226\n",
      "220:700 to 1300 max length Signal :1515 sac1_peakvel: 227.487\n",
      "229:736 to 1336 max length Signal :1545 sac1_peakvel: 375.5997\n",
      "234:790 to 1390 max length Signal :1607 sac1_peakvel: 292.3092\n",
      "238:648 to 1248 max length Signal :1465 sac1_peakvel: 294.0002\n",
      "242:744 to 1344 max length Signal :1539 sac1_peakvel: 372.5244\n",
      "lh = \n",
      "  Legend (Saccades, Left, Right) with properties:\n",
      "\n",
      "         String: {'Saccades'  'Left'  'Right'}\n",
      "       Location: 'southeast'\n",
      "    Orientation: 'vertical'\n",
      "       FontSize: 9\n",
      "       Position: [0.2713 0.1174 0.0662 0.0473]\n",
      "          Units: 'normalized'\n",
      "\n",
      "  Use GET to show all properties\n",
      "method =\n",
      "    'poly2'\n",
      "buildlegend = \n",
      "  1x3 Line array:\n",
      "\n",
      "    Line    Line    Line\n",
      "msl = \n",
      "  Legend (CTRL^(^*^), 1-\\sigma, 2-\\sigma) with properties:\n",
      "\n",
      "         String: {'CTRL^(^*^)'  '1-\\sigma'  '2-\\sigma'}\n",
      "       Location: 'northwest'\n",
      "    Orientation: 'vertical'\n",
      "       FontSize: 9\n",
      "       Position: [0.1359 0.2686 0.0581 0.0498]\n",
      "          Units: 'normalized'\n",
      "\n",
      "  Use GET to show all properties\n",
      "lh = \n",
      "  Legend (Saccades, Up, Down) with properties:\n",
      "\n",
      "         String: {'Saccades'  'Up'  'Down'}\n",
      "       Location: 'southeast'\n",
      "    Orientation: 'vertical'\n",
      "       FontSize: 9\n",
      "       Position: [0.8330 0.1174 0.0662 0.0473]\n",
      "          Units: 'normalized'\n",
      "\n",
      "  Use GET to show all properties\n",
      "method =\n",
      "    'poly2'\n",
      "buildlegend = \n",
      "  1x3 Line array:\n",
      "\n",
      "    Line    Line    Line\n",
      "msl = \n",
      "  Legend (CTRL^(^*^), 1-\\sigma, 2-\\sigma) with properties:\n",
      "\n",
      "         String: {'CTRL^(^*^)'  '1-\\sigma'  '2-\\sigma'}\n",
      "       Location: 'northwest'\n",
      "    Orientation: 'vertical'\n",
      "       FontSize: 9\n",
      "       Position: [0.6976 0.2686 0.0581 0.0498]\n",
      "          Units: 'normalized'\n",
      "\n",
      "  Use GET to show all properties\n",
      "method =\n",
      "    'poly2'\n",
      "buildlegend = \n",
      "  1x3 Line array:\n",
      "\n",
      "    Line    Line    Line\n",
      "msl = \n",
      "  Legend (CTRL^(^*^), One \\sigma model, Two \\sigma model) with properties:\n",
      "\n",
      "         String: {'CTRL^(^*^)'  'One \\sigma model'  'Two \\sigma model'}\n",
      "       Location: 'northwest'\n",
      "    Orientation: 'vertical'\n",
      "       FontSize: 9\n",
      "       Position: [0.1365 0.8655 0.0777 0.0498]\n",
      "          Units: 'normalized'\n",
      "\n",
      "  Use GET to show all properties\n",
      "method =\n",
      "    'poly2'\n",
      "buildlegend = \n",
      "  1x3 Line array:\n",
      "\n",
      "    Line    Line    Line\n",
      "msl = \n",
      "  Legend (CTRL^(^*^), One \\sigma model, Two \\sigma model) with properties:\n",
      "\n",
      "         String: {'CTRL^(^*^)'  'One \\sigma model'  'Two \\sigma model'}\n",
      "       Location: 'northwest'\n",
      "    Orientation: 'vertical'\n",
      "       FontSize: 9\n",
      "       Position: [0.5773 0.8655 0.0777 0.0498]\n",
      "          Units: 'normalized'\n",
      "\n",
      "  Use GET to show all properties\n",
      "filesuffix =\n",
      "    'msq'\n",
      "Warning: you are using a very large minimum number of bins, are you sure you *always need this much precision?\n",
      "> In nhist (line 677)\n",
      "  In Eyemovclinical_jupyter_v7 (line 120)\n",
      "a =\n",
      "    'Plot #1: mean=202.05, std=74.11, median=194.81, '\n",
      "b =\n",
      "  Columns 1 through 23\n",
      "     1     1     4     4     2     3     2     2     1     0     1     3     0     5     2     6     9    20    25    32    30    29    26\n",
      "  Columns 24 through 46\n",
      "    28    14    17     9     5     5     3     5     5     5     4     0     5     3     1     2     5     6     1     0     0     0     2\n",
      "  Columns 47 through 52\n",
      "     1     3     1     0     1     0\n",
      "c =\n",
      "  Columns 1 through 5\n",
      "       -0.0975999999864143          8.87085800001376          17.8393160000139          26.8077740000141          35.7762320000143\n",
      "  Columns 6 through 10\n",
      "          44.7446900000145          53.7131480000146          62.6816060000148           71.650064000015          80.6185220000151\n",
      "  Columns 11 through 15\n",
      "          89.5869800000153          98.5554380000155          107.523896000016          116.492354000016          125.460812000016\n",
      "  Columns 16 through 20\n",
      "          134.429270000016          143.397728000016          152.366186000017          161.334644000017          170.303102000017\n",
      "  Columns 21 through 25\n",
      "          179.271560000017          188.240018000017          197.208476000017          206.176934000018          215.145392000018\n",
      "  Columns 26 through 30\n",
      "          224.113850000018          233.082308000018          242.050766000018          251.019224000018          259.987682000019\n",
      "  Columns 31 through 35\n",
      "          268.956140000019          277.924598000019          286.893056000019          295.861514000019          304.829972000019\n",
      "  Columns 36 through 40\n",
      "           313.79843000002           322.76688800002           331.73534600002           340.70380400002           349.67226200002\n",
      "  Columns 41 through 45\n",
      "          358.640720000021          367.609178000021          376.577636000021          385.546094000021          394.514552000021\n",
      "  Columns 46 through 50\n",
      "          403.483010000021          412.451468000022          421.419926000022          430.388384000022          439.356842000022\n",
      "  Columns 51 through 52\n",
      "          448.325300000022          457.293758000022\n"
     ]
    }
   ],
   "source": [
    "%%%%%%%%%%%%%%%%%%%%%%%%%%%%%%%%%%%%%%%%%%%%%%%%%%%%%%%%%%%%%%%%%%%%%%%%%%%\n",
    "% THIS CELL PRINTS THE SACCADOGRAM                                        %\n",
    "%                                                                         %\n",
    "% IF YOU ENCOUNTER ERRORS IN PRINTING RE-RUN THIS CELL, be sure to have a %      %\n",
    "% helpful Matlab Kernel console open as well: Right click and select      %\n",
    "% \"New Console for Notebook\". Also to have a running instance of TE1 is   %                                            %\n",
    "% necessary: \"runTE1\" shift-enter in new console to raise an instance.    %\n",
    "% Follow the FINAL STEP directions above.                                 %   \n",
    "%%%%%%%%%%%%%%%%%%%%%%%%%%%%%%%%%%%%%%%%%%%%%%%%%%%%%%%%%%%%%%%%%%%%%%%%%%%\n",
    "\n",
    "% Re-run this cell only if you run into errors and wish to eliminate bad trials or reanalyze them for\n",
    "% the first saccade. The variable i, will be global and you can refresh TE1 to see the error generating trial.\n",
    "\n",
    "% Setup variables\n",
    "ttypes = [0]; % this chooses trial type 0 which is 10 degree saccade\n",
    "ptexptdate = '2/19/19';\n",
    "ptinitials = 'ST';\n",
    "patienttitle = ['Patient ' ptinitials ': 10 deg Saccadogram ',ptexptdate];\n",
    "eyechoices = {'OD','OS'};\n",
    "msaxislimit = [0 25 0 600];\n",
    "\n",
    "\n",
    "savefileflag = 0; % if set to 1 will save pdfs to file\n",
    "% Printing figures in separate matlab engine driven figures\n",
    "% is better for debugging but if you want to print inline with this \n",
    "% notebook, use one of the following:\n",
    "%imatlab_export_fig('')  % Native windows.\n",
    "%imatlab_export_fig('print-png')  % Static png figures.\n",
    "\n",
    "% The following is depreacted:\n",
    "% if ptfname is empty, Eyemovclinical_Jupyter_v6 will use Trials struct in current memory!!!\n",
    "% This is useful if errors are generated and you can use an active instance of TE1 GUI to fix that trial\n",
    "% most often it is due to a problem with the first saccade made.\n",
    "% Since i is global, click on 'refresh' in TE1 to evaluate that trial an fix it if possible.\n",
    "% Then with ptfname set to '' (empty) re-run this cell to try to print out saccadogram\n",
    "ptfname = '';\n",
    "\n",
    "figinfo.ptfname = ptfname;\n",
    "figinfo.ptexptdate = ptexptdate;\n",
    "figinfo.ptinitials = ptinitials;\n",
    "figinfo.patienttitle1 = patienttitle;\n",
    "figinfo.eyechoices = eyechoices;\n",
    "figinfo.msaxlim = msaxislimit;\n",
    "\n",
    "save figinfo_lastprint.mat figinfo\n",
    "\n",
    "% Run the saccadogram script:\n",
    "% version 7updated for mOnkey Logic\n",
    "Eyemovclinical_jupyter_v7"
   ]
  },
  {
   "cell_type": "markdown",
   "metadata": {},
   "source": [
    "20, 209, 218, 219"
   ]
  },
  {
   "cell_type": "code",
   "execution_count": 11,
   "metadata": {},
   "outputs": [
    {
     "name": "stdout",
     "output_type": "stream",
     "text": [
      "\n",
      "Your variables are:\n",
      "\n",
      "contstartup   filesuffix    maxvelaxis    name          ptexptdate    sac1ovr_flag  ttypes        \n",
      "eyechoices    harddrive     minvelaxis    patienttitle  ptinitials    savefileflag  \n",
      "\n"
     ]
    },
    {
     "name": "stderr",
     "output_type": "stream",
     "text": []
    }
   ],
   "source": [
    "who"
   ]
  },
  {
   "cell_type": "markdown",
   "metadata": {},
   "source": [
    "### Latency Analysis"
   ]
  },
  {
   "cell_type": "code",
   "execution_count": 3,
   "metadata": {},
   "outputs": [
    {
     "name": "stdout",
     "output_type": "stream",
     "text": [
      "Warning: you are using a very large minimum number of bins, are you sure you *always need this much precision?\n",
      "> In nhist (line 716)\n",
      "ans =\n",
      "    'Plot #1: mean=202.05, std=74.11, median=194.81, '\n"
     ]
    },
    {
     "name": "stderr",
     "output_type": "stream",
     "text": []
    }
   ],
   "source": [
    "for i = 1:length(Trials)\n",
    "    Tc = [Trials(i).Events.Code];\n",
    "    Tt = [Trials(i).Events.Time];\n",
    "    FPofftime = Tt([Tc == 1005]);\n",
    "    try\n",
    "        latency = Trials(i).sac1str.start - FPofftime;\n",
    "        Trials(i).latency = latency;\n",
    "    catch\n",
    "        Trials(i).errors.latency = 'No latency able to be calculated.';\n",
    "    end\n",
    "end\n",
    "%only include latencies that are <500ms\n",
    "lat = [Trials.latency];\n",
    "lat = lat([lat<=500]);\n",
    "figure\n",
    "nhist(lat,'minbins',50,'median','linewidth',1)"
   ]
  },
  {
   "cell_type": "markdown",
   "metadata": {},
   "source": [
    "## Some helpful functions and references below:\n"
   ]
  },
  {
   "cell_type": "code",
   "execution_count": null,
   "metadata": {},
   "outputs": [],
   "source": [
    "help TEGsharedlibs"
   ]
  },
  {
   "cell_type": "code",
   "execution_count": null,
   "metadata": {},
   "outputs": [],
   "source": [
    "help saccadogram"
   ]
  },
  {
   "cell_type": "code",
   "execution_count": null,
   "metadata": {},
   "outputs": [],
   "source": [
    "!ls -Glpht (\"/Users/Linus/Dropbox/MATLAB/\\!Patients/\")"
   ]
  },
  {
   "cell_type": "code",
   "execution_count": null,
   "metadata": {},
   "outputs": [],
   "source": [
    "which eyemovplots_clinicalv2b"
   ]
  },
  {
   "cell_type": "code",
   "execution_count": null,
   "metadata": {},
   "outputs": [],
   "source": []
  }
 ],
 "metadata": {
  "kernelspec": {
   "display_name": "MATLAB",
   "language": "matlab",
   "name": "imatlab"
  },
  "language_info": {
   "codemirror_mode": "octave",
   "file_extension": ".m",
   "mimetype": "text/x-matlab",
   "name": "matlab",
   "nbconvert_exporter": "imatlab._exporter.MatlabExporter",
   "pygments_lexer": "matlab",
   "version": "9.5.0.944444 (R2018b)"
  }
 },
 "nbformat": 4,
 "nbformat_minor": 2
}
