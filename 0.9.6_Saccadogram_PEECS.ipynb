{
 "cells": [
  {
   "cell_type": "markdown",
   "metadata": {},
   "source": [
    "# Data Analysis for Eye Movements (PEECS) version 0.9.6\n",
    "### Copy this notebook to folder where your matlab main sequence data resides\n",
    "\n",
    "The following steps will be discussed:\n",
    "1. Make sure prerequisites for analysis are taken care of (paths and installs) \n",
    "- Verify files acquired from PEECS or psychopy\n",
    "- Process matlab files: \n",
    "    * concatenate\n",
    "    * initial run through with Trial explorer (TE1)\n",
    "- Manual data exploration with Trial explorer (TE1)\n",
    "\n",
    "##### Prerequisites installations: MATLAB, Jupyter Notebook/Lab - Probably done yourself already\n",
    "##### Prereq: add to search PATH in MATLAB: TE1/, TEGsharedlibs/, saccaddogram/\n",
    "\n",
    "Version History:  \n",
    "0.9.4 - 2/10/18 Edit. Works to produce inline and out of panel MATLAB figures.  \n",
    "0.9.5 - 2/11/18 Edit. Updated ease of use for fixing problems in Trials structure during saccadogram printing & errors.\n",
    "0.9.6 - 2/2019  Update. For Monkey Logic."
   ]
  },
  {
   "cell_type": "markdown",
   "metadata": {},
   "source": [
    "### Step 1.  Check PATH prerequisites\n",
    "Use command 'path' to view entire matlab path.\n",
    "Look for in output: \"Found all 3 required paths! You can continue with analysis!\""
   ]
  },
  {
   "cell_type": "code",
   "execution_count": 9,
   "metadata": {},
   "outputs": [
    {
     "name": "stdout",
     "output_type": "stream",
     "text": [
      "\n",
      "Output from cell above:\n",
      "The Matlab PATH has the relevant folders below\n",
      "IF TE1, TEGsharedlibs, or saccadogram are missing must add it to path in Matlab:\n",
      "\n",
      "D:\\Dropbox\\MATLAB\\TEGsharedlibs\n",
      "D:\\Dropbox\\MATLAB\\TE1dev\n",
      "D:\\Dropbox\\MATLAB\\TE1\n",
      "D:\\Dropbox\\MATLAB\\0Patients\\saccadogram\n",
      "\n",
      "Found all 3 required paths! You can continue with analysis!"
     ]
    },
    {
     "name": "stderr",
     "output_type": "stream",
     "text": []
    }
   ],
   "source": [
    "%% Pattern contains names of path we are interested\n",
    "pattern = [\"TE1\",\"TEGsharedlibs\",\"saccadogram\"]; \n",
    "[pathoutput] = eval('path'); % gets PATH from Matlab kernel (determined in Matlab App)\n",
    "[pathstrs] = strsplit(pathoutput,{';'}); % splits single linestring into multiple strings\n",
    "fprintf('\\nOutput from cell above:\\nThe Matlab PATH has the relevant folders below\\nIF TE1, TEGsharedlibs, or saccadogram are missing must add it to path in Matlab:\\n\\n');\n",
    "pf = contains(pathstrs,pattern); % logical list of patterns found in string list array\n",
    "for i=find(pf) % get indecies of path strings which have found patterns\n",
    "    disp(pathstrs{i}); % display each path string that was identified in pattern\n",
    "end\n",
    "if sum(pf) >= length(pattern)\n",
    "    fprintf(['\\nFound all ' num2str(length(pattern)) ' required paths! You can continue with analysis!'])\n",
    "else\n",
    "    fprintf(['\\nFound ' num2str(length(pattern)) ' paths'])\n",
    "    fprintf('\\nsome paths are missing')\n",
    "end"
   ]
  },
  {
   "cell_type": "markdown",
   "metadata": {},
   "source": [
    "___\n",
    "### Step 2: First verify that the data files from PEECS are in this directory (.pedat files converted to MATLAB .mat files)\n",
    "\n",
    "**Look to the files tab in Jupyter lab (left side tab) and verify your two or more .mat files are there, if working in jupyter/ipython notebook only see output below**\n",
    "\n",
    "If you aren't using jupyter lab, but regular ipython/jupyter notebook verify the files below are in the same directory as this notebook:"
   ]
  },
  {
   "cell_type": "code",
   "execution_count": 10,
   "metadata": {},
   "outputs": [
    {
     "name": "stdout",
     "output_type": "stream",
     "text": [
      "ans =\n",
      "    'D:\\Dropbox\\MATLAB\\0Patients\\190208_EB_concussion_msq'\n",
      "\n",
      "190208_EB_MSQ_OD.mat      190208_EB_MSQ_OU.mat      \n",
      "190208_EB_MSQ_OS.mat      190208_EB_MSQ_OU_TE1.mat  \n",
      "\n"
     ]
    },
    {
     "name": "stderr",
     "output_type": "stream",
     "text": []
    }
   ],
   "source": [
    "pwd\n",
    "ls  *.mat"
   ]
  },
  {
   "cell_type": "markdown",
   "metadata": {},
   "source": [
    "### Step 3. Given that at least one OS and one OD file are above, load them and concatenate them with the following code: \n",
    "#### Note: BEST WITH FRESH unevaluated by TE1 .mat files.\n",
    "#### Note: If you have already concantenated files, you should go straight to running TE1 (Step 5)"
   ]
  },
  {
   "cell_type": "code",
   "execution_count": 11,
   "metadata": {},
   "outputs": [
    {
     "name": "stdout",
     "output_type": "stream",
     "text": [
      "dat = \n",
      "  struct with fields:\n",
      "\n",
      "    Trials: [244x1 struct]\n",
      "dat = \n",
      "  struct with fields:\n",
      "\n",
      "    Trials: [217x1 struct]\n",
      "New Trials should appear here\n",
      "  Name          Size               Bytes  Class     Attributes\n",
      "\n",
      "  Trials      461x1             20888818  struct              \n",
      "\n"
     ]
    },
    {
     "name": "stderr",
     "output_type": "stream",
     "text": []
    }
   ],
   "source": [
    "files = {'190208_EB_MSQ_OD.mat','190208_EB_MSQ_OS.mat'};\n",
    "eyes  = {'OD','OS'}; % eyes corresponding to each file\n",
    "Trials = [];\n",
    "for i = 1:length(files)\n",
    "    dat = load(files{i})\n",
    "    %% add eyes to each file\n",
    "    %% dat.Trials returns the Trials structure\n",
    "    for i2 = 1:length(dat.Trials)\n",
    "        dat.Trials(i2).eye = eyes{i};\n",
    "    end\n",
    "    Trials = [Trials; dat.Trials];\n",
    "end\n",
    "disp('New Trials should appear here')\n",
    "\n",
    "% Now print out the Trials and info variables in memory:\n",
    "whos Trials info"
   ]
  },
  {
   "cell_type": "markdown",
   "metadata": {},
   "source": [
    "### Step 4. Save Trials and info to tempfile"
   ]
  },
  {
   "cell_type": "code",
   "execution_count": 13,
   "metadata": {},
   "outputs": [
    {
     "name": "stdout",
     "output_type": "stream",
     "text": [
      "\n",
      "190208_EB_MSQ_OD.mat      190208_EB_MSQ_OU.mat      Trialstemp_jupyter.mat    \n",
      "190208_EB_MSQ_OS.mat      190208_EB_MSQ_OU_TE1.mat  \n",
      "\n"
     ]
    },
    {
     "name": "stderr",
     "output_type": "stream",
     "text": []
    }
   ],
   "source": [
    "save Trialstemp_jupyter Trials \n",
    "%!ls -Glph\n",
    "dir *.mat"
   ]
  },
  {
   "cell_type": "markdown",
   "metadata": {},
   "source": [
    "### Step 5. Need to call some global variables in matlab and reload temp matlab file"
   ]
  },
  {
   "cell_type": "code",
   "execution_count": 14,
   "metadata": {},
   "outputs": [
    {
     "name": "stdout",
     "output_type": "stream",
     "text": []
    },
    {
     "name": "stderr",
     "output_type": "stream",
     "text": []
    }
   ],
   "source": [
    "clear;  % Clears all variables out, even global ones are emptied\n",
    "global Trials i % This may inadvertently bring a filled out Trials variable to the global space."
   ]
  },
  {
   "cell_type": "markdown",
   "metadata": {},
   "source": [
    "#### Step 6. Specify the matlab file which you wish to load which has the Trials structure:"
   ]
  },
  {
   "cell_type": "code",
   "execution_count": 17,
   "metadata": {},
   "outputs": [
    {
     "name": "stdout",
     "output_type": "stream",
     "text": [
      "\n",
      "190208_EB_MSQ_OD.mat      190208_EB_MSQ_OU.mat      Trialstemp_jupyter.mat    \n",
      "190208_EB_MSQ_OS.mat      190208_EB_MSQ_OU_TE1.mat  \n",
      "\n"
     ]
    },
    {
     "name": "stderr",
     "output_type": "stream",
     "text": []
    }
   ],
   "source": [
    "ls *.mat\n",
    "%\n",
    "% YOU SHOULD PUT YOUR FILENAME HERE\n",
    "%\n"
   ]
  },
  {
   "cell_type": "code",
   "execution_count": 18,
   "metadata": {},
   "outputs": [
    {
     "name": "stdout",
     "output_type": "stream",
     "text": [
      "\n",
      "Trialstemp_jupyter.mat  \n",
      "\n",
      "YOU SHOULD SEE A TRIALS STRUCTURE IN THE VARIABLE SPACE HERE:\n",
      "  Name            Size               Bytes  Class     Attributes\n",
      "\n",
      "  Trials        461x1             20888818  struct    global    \n",
      "  filename        1x22                  44  char                \n",
      "  i               0x0                    0  double    global    \n",
      "\n"
     ]
    },
    {
     "name": "stderr",
     "output_type": "stream",
     "text": []
    }
   ],
   "source": [
    "filename = 'Trialstemp_jupyter.mat';\n",
    "dir(filename)\n",
    "disp('YOU SHOULD SEE A TRIALS STRUCTURE IN THE VARIABLE SPACE HERE:')\n",
    "try\n",
    "    load(filename)\n",
    "    whos\n",
    "catch \n",
    "    disp('NO FILENAME FOUND: Did you include the .mat at the end of filename?')\n",
    "end"
   ]
  },
  {
   "cell_type": "markdown",
   "metadata": {},
   "source": [
    "# Trial Explorer (TE1) Instructions\n",
    "## Step 7. use TE1dev to evaluate each and every trial\n",
    "### At this point you should have openned a command window, it's easier to do this with matlab session launched from the command window from within Jupyter LAB. \n",
    "### use command 'runTE1dev' to launch it"
   ]
  },
  {
   "cell_type": "code",
   "execution_count": 20,
   "metadata": {},
   "outputs": [
    {
     "name": "stdout",
     "output_type": "stream",
     "text": [
      "  Name            Size               Bytes  Class     Attributes\n",
      "\n",
      "  Trials        461x1             20888818  struct    global    \n",
      "  filename        1x22                  44  char                \n",
      "  i               0x0                    0  double    global    \n",
      "\n"
     ]
    },
    {
     "name": "stderr",
     "output_type": "stream",
     "text": []
    }
   ],
   "source": [
    "whos"
   ]
  },
  {
   "cell_type": "markdown",
   "metadata": {},
   "source": [
    "### ONLY run this if it's the fisrt time before you went through structure with TrialExplorer1:"
   ]
  },
  {
   "cell_type": "code",
   "execution_count": null,
   "metadata": {},
   "outputs": [],
   "source": [
    "%Trials_PEECS_Sgolay1000add % Running this script once will update the Trials structure to make TE1 run more quickly. By populating the sgolay filtered eye movement data"
   ]
  },
  {
   "cell_type": "markdown",
   "metadata": {},
   "source": [
    "### TE1 Keyboard shortcuts\n",
    "#### arrow keys = move forward and back\n",
    "#### g = good trial\n",
    "#### b = bad trial\n",
    "#### q = quit, don't do this as you should leave it open and running as it will be useful when you print the saccadogram\n",
    "\n",
    "### Instruction manual\n",
    "### Note: the goal is to have 1 clean saccade after FP turns off (dotted black line). If a saccade occurs in the middle of the FP off, discard it as 'bad'. If no saccade is detected (or the saccade is missed) with a green-red vertical boundary, then choose manual sac1str and select beginning and end of that saccade exactly.\n",
    "#### Run through each trial individually, if you see a lot of noise mark it 'bad'.\n",
    "#### If you see a few randomly missing frames, especially during the saccade use '1 frame fill' button to fill those in, if the signal doesn't substantially improve then mark it as a 'bad' trial\n",
    "#### To use the keyboard commands click in a 'blank' area of the GUI to un-highlight a button.\n",
    "#### click on 'sgolay filtered data' to smooth data\n"
   ]
  },
  {
   "cell_type": "code",
   "execution_count": 22,
   "metadata": {},
   "outputs": [
    {
     "name": "stdout",
     "output_type": "stream",
     "text": [
      "  Name          Size               Bytes  Class     Attributes\n",
      "\n",
      "  Trials      461x1             92835484  struct    global    \n",
      "  i             1x1                    8  double    global    \n",
      "\n",
      "Warning: If you are having datatype errors perhaps Trials is not global!\n",
      "i exists so no need to create it just set it to 1\n",
      "No \"microsaccadefilter\" field in Trials, thus making it to default to 1500\n",
      "Setting microsaccade filter type to \"area\" default.\n",
      "Assume REX Datatype\n",
      "RAW signal: timing 1000  1000  1000  1000Hz\n",
      "  Name         Size              Bytes  Class     Attributes\n",
      "\n",
      "  t0           1x2979            23832  double              \n",
      "  x         2979x1               23832  double              \n",
      "  y         2979x1               23832  double              \n",
      "\n",
      "running ploteventcodesTEGglob\n",
      "......printed ecodes\n",
      "Calling TE1refreshGlob5 within TE1.m:\n",
      "x:zero x:first derivative x:2nd derivative\n",
      "y:zero y:first derivative y:2nd derivative\n",
      "......."
     ]
    },
    {
     "name": "stderr",
     "output_type": "stream",
     "text": []
    }
   ],
   "source": [
    "%\n",
    "% THIS Cell when run will start up the Trial explorer: it calls runTE1.m file which in turns calls some global variables and launches the Trial Explorer.\n",
    "% Note that Trials and i are always global variables and all scripts here will have edit access to the Trials structure.\n",
    "%\n",
    "whos Trials i\n",
    "runTE1dev"
   ]
  },
  {
   "cell_type": "markdown",
   "metadata": {},
   "source": [
    "### Once all trials have been evaluated save the trials structure for future analysis\n",
    "\n",
    "** Mark down here the trial numbers which you have a question: **\n",
    "\n",
    "e.g. I have a question with Trial number: 1,2,3 etc... Let me review this with the team later\n"
   ]
  },
  {
   "cell_type": "code",
   "execution_count": 8,
   "metadata": {},
   "outputs": [
    {
     "name": "stdout",
     "output_type": "stream",
     "text": [
      "  Name          Size               Bytes  Class     Attributes\n",
      "\n",
      "  Trials      376x1             83861557  struct    global    \n",
      "  info          1x1                10384  struct    global    \n",
      "\n"
     ]
    }
   ],
   "source": [
    "% now save the TE1 edited Trials structre with a different filename\n",
    "% for example if TE1 was run on Trials struct from the file 180210LDSms.mat\n",
    "% save to 180210LDSms_TE1.mat Trials info\n",
    "\n",
    "whos Trials info\n",
    "\n",
    "%save 180210LDSms_TE1.mat Trials % commented out"
   ]
  },
  {
   "cell_type": "markdown",
   "metadata": {},
   "source": [
    "# FINAL STEP: Saccadogram Data Plotting\n",
    "\n",
    "At this point, with a fully analyzed Trials structure loaded in memory, you can run through it and produce a saccadogram. \n",
    "\n",
    "If no plots are generated and you end up seeing an error, then there is a problem with your Trials structure. The procedure to fix this and to clean up the saccadogram is to do the following: \n",
    "\n",
    "1. runTE1 to get the Trials Explorer to load and be able to edit Trials\n",
    "2. Rerun saccadogram print on Trials in memory\n",
    "3. On every error, refresh TE1 and fix the trial by manually seclecting the first saccade or marking the trial as [b]ad.\n",
    "3. Once you're satisfied, save the Trials and info into a new filename.\n",
    "\n",
    "Setting up variable names:"
   ]
  },
  {
   "cell_type": "code",
   "execution_count": 12,
   "metadata": {},
   "outputs": [
    {
     "name": "stdout",
     "output_type": "stream",
     "text": [
      "  Name           Size               Bytes  Class     Attributes\n",
      "\n",
      "  Trials       461x1             93061208  struct    global    \n",
      "  i              1x1                    8  double    global    \n",
      "  ptfname        1x27                  54  char                \n",
      "\n"
     ]
    }
   ],
   "source": [
    "%%%%%%%%%%%%%%%%%%%%%%%%%%%%%%%%%%%%%%%%%%%%%%%%%%%%%%%%%%%%%%%%%%%%%%%%%%%%%%%%%%%%%%%%%%%%%%%%%%%%%%\n",
    "% RUN THIS CELL if you do not have Trials structure loaded in memory (check with whos Trials i)      %\n",
    "% Warning: If you haven't saved any changes to Trials in memory, running this cell will delete them! %\n",
    "%%%%%%%%%%%%%%%%%%%%%%%%%%%%%%%%%%%%%%%%%%%%%%%%%%%%%%%%%%%%%%%%%%%%%%%%%%%%%%%%%%%%%%%%%%%%%%%%%%%%%%\n",
    "clear\n",
    "global Trials i\n",
    "\n",
    "%% THE LATEST PATIENT FILENAME HERE:\n",
    "ptfname = '190208_EB_MSQ_OU_TE1_JK.mat';\n",
    "load(ptfname)\n",
    "whos"
   ]
  },
  {
   "cell_type": "code",
   "execution_count": 44,
   "metadata": {},
   "outputs": [
    {
     "name": "stdout",
     "output_type": "stream",
     "text": [
      "NOTE: Trials struct needs to be run through REFRESH ALL at least once for a quick and dirty analysis\n",
      "eyemovplots_clinicalv2b: eyechoice\n",
      "plotselecteyetracev2: R\n",
      "idx:Selecting ttypes in idx\n",
      "idx/emidx: Selecting eyemov directions\n",
      "plotselecteyetrace: No eventstarttime given will use sac1start struct\n",
      "3:858 to 1458 max length Signal :1667 sac1_peakvel: 347.4541\n",
      "7:732 to 1332 max length Signal :1531 sac1_peakvel: 353.8379\n",
      "10:622 to 1222 max length Signal :1441 sac1_peakvel: 342.4087\n",
      "12:631 to 1231 max length Signal :1442 sac1_peakvel: 316.0294\n",
      "21:608 to 1208 max length Signal :1435 sac1_peakvel: 308.7837\n",
      "25:589 to 1189 max length Signal :1402 sac1_peakvel: 313.9203\n",
      "29:618 to 1218 max length Signal :1236 sac1_peakvel: 327.7609\n",
      "32:793 to 1393 max length Signal :1582 sac1_peakvel: 268.337\n",
      "33:796 to 1396 max length Signal :1604 sac1_peakvel: 305.7211\n",
      "plotselecteyetracev2: U\n",
      "idx:Selecting ttypes in idx\n",
      "idx/emidx: Selecting eyemov directions\n",
      "plotselecteyetrace: No eventstarttime given will use sac1start struct\n",
      "4:798 to 1398 max length Signal :1610 sac1_peakvel: 522.2622\n",
      "8:837 to 1437 max length Signal :1630 sac1_peakvel: 404.0691\n",
      "11:658 to 1258 max length Signal :1485 sac1_peakvel: 283.3602\n",
      "14:633 to 1233 max length Signal :1447 sac1_peakvel: 356.849\n",
      "15:729 to 1329 max length Signal :1520 sac1_peakvel: 336.9921\n",
      "19:748 to 1348 max length Signal :1436 sac1_peakvel: 332.175\n",
      "22:619 to 1219 max length Signal :1407 sac1_peakvel: 349.4114\n",
      "26:633 to 1233 max length Signal :1418 sac1_peakvel: 363.2433\n",
      "27:605 to 1205 max length Signal :1429 sac1_peakvel: 356.5453\n",
      "plotselecteyetracev2: L\n",
      "idx:Selecting ttypes in idx\n",
      "idx/emidx: Selecting eyemov directions\n",
      "plotselecteyetrace: No eventstarttime given will use sac1start struct\n",
      "1:879 to 1479 max length Signal :1698 sac1_peakvel: 361.3861\n",
      "9:595 to 1195 max length Signal :1427 sac1_peakvel: 374.9388\n",
      "17:637 to 1237 max length Signal :1450 sac1_peakvel: 345.1474\n",
      "23:612 to 1212 max length Signal :1413 sac1_peakvel: 348.608\n",
      "24:642 to 1242 max length Signal :1475 sac1_peakvel: 351.0435\n",
      "28:620 to 1220 max length Signal :1420 sac1_peakvel: 350.8839\n",
      "30:709 to 1309 max length Signal :1530 sac1_peakvel: 366.5651\n",
      "36:762 to 1362 max length Signal :1581 sac1_peakvel: 314.8405\n",
      "plotselecteyetracev2: D\n",
      "idx:Selecting ttypes in idx\n",
      "idx/emidx: Selecting eyemov directions\n",
      "plotselecteyetrace: No eventstarttime given will use sac1start struct\n",
      "2:739 to 1339 max length Signal :1549 sac1_peakvel: 347.2513\n",
      "5:698 to 1298 max length Signal :1493 sac1_peakvel: 340.5892\n",
      "16:638 to 1238 max length Signal :1448 sac1_peakvel: 301.8439\n",
      "18:614 to 1214 max length Signal :1260 sac1_peakvel: 339.7118\n",
      "20:666 to 1266 max length Signal :1474 sac1_peakvel: 318.501\n",
      "31:638 to 1238 max length Signal :1456 sac1_peakvel: 331.2108\n",
      "34:1053 to 1653 max length Signal :1867 sac1_peakvel: 318.3976\n",
      "35:834 to 1434 max length Signal :1648 sac1_peakvel: 283.0724\n",
      "lh = \n",
      "  Legend (Saccades, Left, Right) with properties:\n",
      "\n",
      "         String: {'Saccades'  'Left'  'Right'}\n",
      "       Location: 'southeast'\n",
      "    Orientation: 'vertical'\n",
      "       FontSize: 9\n",
      "       Position: [0.2713 0.1180 0.0662 0.0473]\n",
      "          Units: 'normalized'\n",
      "\n",
      "  Use GET to show all properties\n",
      "method =\n",
      "    'poly2'\n",
      "buildlegend = \n",
      "  1x3 Line array:\n",
      "\n",
      "    Line    Line    Line\n",
      "msl = \n",
      "  Legend (CTRL^(^*^), 1-\\sigma, 2-\\sigma) with properties:\n",
      "\n",
      "         String: {'CTRL^(^*^)'  '1-\\sigma'  '2-\\sigma'}\n",
      "       Location: 'northwest'\n",
      "    Orientation: 'vertical'\n",
      "       FontSize: 9\n",
      "       Position: [0.1359 0.2674 0.0581 0.0504]\n",
      "          Units: 'normalized'\n",
      "\n",
      "  Use GET to show all properties\n",
      "lh = \n",
      "  Legend (Saccades, Up, Down) with properties:\n",
      "\n",
      "         String: {'Saccades'  'Up'  'Down'}\n",
      "       Location: 'southeast'\n",
      "    Orientation: 'vertical'\n",
      "       FontSize: 9\n",
      "       Position: [0.8330 0.1180 0.0662 0.0473]\n",
      "          Units: 'normalized'\n",
      "\n",
      "  Use GET to show all properties\n",
      "method =\n",
      "    'poly2'\n",
      "buildlegend = \n",
      "  1x3 Line array:\n",
      "\n",
      "    Line    Line    Line\n",
      "msl = \n",
      "  Legend (CTRL^(^*^), 1-\\sigma, 2-\\sigma) with properties:\n",
      "\n",
      "         String: {'CTRL^(^*^)'  '1-\\sigma'  '2-\\sigma'}\n",
      "       Location: 'northwest'\n",
      "    Orientation: 'vertical'\n",
      "       FontSize: 9\n",
      "       Position: [0.6976 0.2674 0.0581 0.0504]\n",
      "          Units: 'normalized'\n",
      "\n",
      "  Use GET to show all properties\n",
      "eyemovplots_clinicalv2b: eyechoice\n",
      "plotselecteyetracev2: R\n",
      "idx:Selecting ttypes in idx\n",
      "idx/emidx: Selecting eyemov directions\n",
      "plotselecteyetrace: No eventstarttime given will use sac1start struct\n",
      "250:622 to 1222 max length Signal :1424 sac1_peakvel: 344.9971\n",
      "251:599 to 1199 max length Signal :1400 sac1_peakvel: 350.347\n",
      "256:612 to 1212 max length Signal :1405 sac1_peakvel: 293.208\n",
      "258:591 to 1191 max length Signal :1407 sac1_peakvel: 364.4231\n",
      "260:606 to 1206 max length Signal :1429 sac1_peakvel: 358.9604\n",
      "262:561 to 1161 max length Signal :1393 sac1_peakvel: 342.3027\n",
      "271:584 to 1184 max length Signal :1424 sac1_peakvel: 358.3044\n",
      "276:595 to 1195 max length Signal :1427 sac1_peakvel: 366.2217\n",
      "plotselecteyetracev2: U\n",
      "idx:Selecting ttypes in idx\n",
      "idx/emidx: Selecting eyemov directions\n",
      "plotselecteyetrace: No eventstarttime given will use sac1start struct\n",
      "248:609 to 1209 max length Signal :1444 sac1_peakvel: 369.548\n",
      "253:615 to 1215 max length Signal :1429 sac1_peakvel: 358.3052\n",
      "254:658 to 1258 max length Signal :1460 sac1_peakvel: 362.5479\n",
      "259:656 to 1256 max length Signal :1459 sac1_peakvel: 372.2783\n",
      "263:617 to 1217 max length Signal :1410 sac1_peakvel: 356.4386\n",
      "267:628 to 1228 max length Signal :1441 sac1_peakvel: 378.335\n",
      "268:642 to 1242 max length Signal :1439 sac1_peakvel: 358.4286\n",
      "273:633 to 1233 max length Signal :1454 sac1_peakvel: 324.2327\n",
      "plotselecteyetracev2: L\n",
      "idx:Selecting ttypes in idx\n",
      "idx/emidx: Selecting eyemov directions\n",
      "plotselecteyetrace: No eventstarttime given will use sac1start struct\n",
      "245:852 to 1452 max length Signal :1685 sac1_peakvel: 371.4874\n",
      "246:982 to 1582 max length Signal :1795 sac1_peakvel: 385.9015\n",
      "249:630 to 1230 max length Signal :1456 sac1_peakvel: 488.7456\n",
      "257:590 to 1190 max length Signal :1405 sac1_peakvel: 362.0635\n",
      "261:569 to 1169 max length Signal :1394 sac1_peakvel: 364.3984\n",
      "274:592 to 1192 max length Signal :1405 sac1_peakvel: 345.451\n",
      "275:647 to 1247 max length Signal :1440 sac1_peakvel: 387.392\n",
      "plotselecteyetracev2: D\n",
      "idx:Selecting ttypes in idx\n",
      "idx/emidx: Selecting eyemov directions\n",
      "plotselecteyetrace: No eventstarttime given will use sac1start struct\n",
      "247:719 to 1319 max length Signal :1536 sac1_peakvel: 307.4093\n",
      "252:588 to 1188 max length Signal :1416 sac1_peakvel: 317.4336\n",
      "255:612 to 1212 max length Signal :1427 sac1_peakvel: 331.4479\n",
      "264:598 to 1198 max length Signal :1427 sac1_peakvel: 298.3957\n",
      "265:670 to 1270 max length Signal :1490 sac1_peakvel: 278.1151\n",
      "266:637 to 1237 max length Signal :1443 sac1_peakvel: 309.6638\n",
      "269:592 to 1192 max length Signal :1405 sac1_peakvel: 323.7862\n",
      "272:591 to 1191 max length Signal :1411 sac1_peakvel: 315.074\n",
      "lh = \n",
      "  Legend (Saccades, Left, Right) with properties:\n",
      "\n",
      "         String: {'Saccades'  'Left'  'Right'}\n",
      "       Location: 'southeast'\n",
      "    Orientation: 'vertical'\n",
      "       FontSize: 9\n",
      "       Position: [0.2713 0.1180 0.0662 0.0473]\n",
      "          Units: 'normalized'\n",
      "\n",
      "  Use GET to show all properties\n",
      "method =\n",
      "    'poly2'\n",
      "buildlegend = \n",
      "  1x3 Line array:\n",
      "\n",
      "    Line    Line    Line\n",
      "msl = \n",
      "  Legend (CTRL^(^*^), 1-\\sigma, 2-\\sigma) with properties:\n",
      "\n",
      "         String: {'CTRL^(^*^)'  '1-\\sigma'  '2-\\sigma'}\n",
      "       Location: 'northwest'\n",
      "    Orientation: 'vertical'\n",
      "       FontSize: 9\n",
      "       Position: [0.1359 0.2674 0.0581 0.0504]\n",
      "          Units: 'normalized'\n",
      "\n",
      "  Use GET to show all properties\n",
      "lh = \n",
      "  Legend (Saccades, Up, Down) with properties:\n",
      "\n",
      "         String: {'Saccades'  'Up'  'Down'}\n",
      "       Location: 'southeast'\n",
      "    Orientation: 'vertical'\n",
      "       FontSize: 9\n",
      "       Position: [0.8330 0.1180 0.0662 0.0473]\n",
      "          Units: 'normalized'\n",
      "\n",
      "  Use GET to show all properties\n",
      "method =\n",
      "    'poly2'\n",
      "buildlegend = \n",
      "  1x3 Line array:\n",
      "\n",
      "    Line    Line    Line\n",
      "msl = \n",
      "  Legend (CTRL^(^*^), 1-\\sigma, 2-\\sigma) with properties:\n",
      "\n",
      "         String: {'CTRL^(^*^)'  '1-\\sigma'  '2-\\sigma'}\n",
      "       Location: 'northwest'\n",
      "    Orientation: 'vertical'\n",
      "       FontSize: 9\n",
      "       Position: [0.6976 0.2674 0.0581 0.0504]\n",
      "          Units: 'normalized'\n",
      "\n",
      "  Use GET to show all properties\n",
      "method =\n",
      "    'poly2'\n",
      "buildlegend = \n",
      "  1x3 Line array:\n",
      "\n",
      "    Line    Line    Line\n",
      "msl = \n",
      "  Legend (CTRL^(^*^), One \\sigma model, Two \\sigma model) with properties:\n",
      "\n",
      "         String: {'CTRL^(^*^)'  'One \\sigma model'  'Two \\sigma model'}\n",
      "       Location: 'northwest'\n",
      "    Orientation: 'vertical'\n",
      "       FontSize: 9\n",
      "       Position: [0.1365 0.8649 0.0773 0.0504]\n",
      "          Units: 'normalized'\n",
      "\n",
      "  Use GET to show all properties\n",
      "method =\n",
      "    'poly2'\n",
      "buildlegend = \n",
      "  1x3 Line array:\n",
      "\n",
      "    Line    Line    Line\n",
      "msl = \n",
      "  Legend (CTRL^(^*^), One \\sigma model, Two \\sigma model) with properties:\n",
      "\n",
      "         String: {'CTRL^(^*^)'  'One \\sigma model'  'Two \\sigma model'}\n",
      "       Location: 'northwest'\n",
      "    Orientation: 'vertical'\n",
      "       FontSize: 9\n",
      "       Position: [0.5769 0.8649 0.0773 0.0504]\n",
      "          Units: 'normalized'\n",
      "\n",
      "  Use GET to show all properties\n",
      "filesuffix =\n",
      "    'msq'\n",
      "ans =\n",
      "                        11                       8.5\n",
      "Warning: you are using a very large minimum number of bins, are you sure you *always need this much precision?\n",
      "> In nhist (line 677)\n",
      "  In Eyemovclinical_jupyter_v7 (line 120)\n",
      "a =\n",
      "    'Plot #1: mean=186.57, std=64.60, median=176.63, '\n",
      "b =\n",
      "  Columns 1 through 13\n",
      "     1     3     3     2     0     2     0     2     2     3     1     2     0\n",
      "  Columns 14 through 26\n",
      "     2     2    10    18    21    37    32    36    24    29    21    16    21\n",
      "  Columns 27 through 39\n",
      "     8     7     6     4     9     6     6     5     6    10     4     2     0\n",
      "  Columns 40 through 52\n",
      "     2     0     1     0     2     1     0     1     0     0     0     1     0\n",
      "c =\n",
      "  Columns 1 through 3\n",
      "         -10.9905554789111         -2.14638848055605          6.69777851779902\n",
      "  Columns 4 through 6\n",
      "          15.5419455161541          24.3861125145092          33.2302795128642\n",
      "  Columns 7 through 9\n",
      "          42.0744465112193          50.9186135095744          59.7627805079294\n",
      "  Columns 10 through 12\n",
      "          68.6069475062845          77.4511145046395          86.2952815029946\n",
      "  Columns 13 through 15\n",
      "          95.1394485013497          103.983615499705           112.82778249806\n",
      "  Columns 16 through 18\n",
      "          121.671949496415           130.51611649477          139.360283493125\n",
      "  Columns 19 through 21\n",
      "           148.20445049148          157.048617489835           165.89278448819\n",
      "  Columns 22 through 24\n",
      "          174.736951486545            183.5811184849          192.425285483255\n",
      "  Columns 25 through 27\n",
      "          201.269452481611          210.113619479966          218.957786478321\n",
      "  Columns 28 through 30\n",
      "          227.801953476676          236.646120475031          245.490287473386\n",
      "  Columns 31 through 33\n",
      "          254.334454471741          263.178621470096          272.022788468451\n",
      "  Columns 34 through 36\n",
      "          280.866955466806          289.711122465161          298.555289463516\n",
      "  Columns 37 through 39\n",
      "          307.399456461871          316.243623460226          325.087790458581\n",
      "  Columns 40 through 42\n",
      "          333.931957456937          342.776124455292          351.620291453647\n",
      "  Columns 43 through 45\n",
      "          360.464458452002          369.308625450357          378.152792448712\n",
      "  Columns 46 through 48\n",
      "          386.996959447067          395.841126445422          404.685293443777\n",
      "  Columns 49 through 51\n",
      "          413.529460442132          422.373627440487          431.217794438842\n",
      "  Column 52\n",
      "          440.061961437197\n",
      "ans =\n",
      "                        11                       8.5\n"
     ]
    }
   ],
   "source": [
    "%%%%%%%%%%%%%%%%%%%%%%%%%%%%%%%%%%%%%%%%%%%%%%%%%%%%%%%%%%%%%%%%%%%%%%%%%%%\n",
    "% THIS CELL PRINTS THE SACCADOGRAM                                        %\n",
    "%                                                                         %\n",
    "% IF YOU ENCOUNTER ERRORS IN PRINTING RE-RUN THIS CELL, be sure to have a %      %\n",
    "% helpful Matlab Kernel console open as well: Right click and select      %\n",
    "% \"New Console for Notebook\". Also to have a running instance of TE1 is   %                                            %\n",
    "% necessary: \"runTE1\" shift-enter in new console to raise an instance.    %\n",
    "% Follow the FINAL STEP directions above.                                 %   \n",
    "%%%%%%%%%%%%%%%%%%%%%%%%%%%%%%%%%%%%%%%%%%%%%%%%%%%%%%%%%%%%%%%%%%%%%%%%%%%\n",
    "\n",
    "% Re-run this cell only if you run into errors and wish to eliminate bad trials or reanalyze them for\n",
    "% the first saccade. The variable i, will be global and you can refresh TE1 to see the error generating trial.\n",
    "\n",
    "% Setup variables\n",
    "ttypes = [0]; % this chooses trial type 0 which is 10 degree saccade\n",
    "ptexptdate = '2/8/19';\n",
    "ptinitials = 'EB';\n",
    "patienttitle = ['Patient ' ptinitials ': 10 deg Saccadogram ',ptexptdate];\n",
    "eyechoices = {'OD','OS'};\n",
    "msaxislimit = [0 25 0 600];\n",
    "\n",
    "\n",
    "savefileflag = 1; % if set to 1 will save pdfs to file\n",
    "% Printing figures in separate matlab engine driven figures\n",
    "% is better for debugging but if you want to print inline with this \n",
    "% notebook, use one of the following:\n",
    "imatlab_export_fig('')  % Native windows.\n",
    "%imatlab_export_fig('print-png')  % Static png figures.\n",
    "\n",
    "% The following is depreacted:\n",
    "% if ptfname is empty, Eyemovclinical_Jupyter_v6 will use Trials struct in current memory!!!\n",
    "% This is useful if errors are generated and you can use an active instance of TE1 GUI to fix that trial\n",
    "% most often it is due to a problem with the first saccade made.\n",
    "% Since i is global, click on 'refresh' in TE1 to evaluate that trial an fix it if possible.\n",
    "% Then with ptfname set to '' (empty) re-run this cell to try to print out saccadogram\n",
    "ptfname = 'EBsave';\n",
    "\n",
    "figinfo.ptfname = ptfname;\n",
    "figinfo.ptexptdate = ptexptdate;\n",
    "figinfo.ptinitials = ptinitials;\n",
    "figinfo.patienttitle1 = patienttitle;\n",
    "figinfo.eyechoices = eyechoices;\n",
    "figinfo.msaxlim = msaxislimit;\n",
    "\n",
    "\n",
    "save figinfo_lastprint.mat figinfo\n",
    "\n",
    "% Run the saccadogram script:\n",
    "% version 7updated for mOnkey Logic\n",
    "Eyemovclinical_jupyter_v7"
   ]
  },
  {
   "cell_type": "markdown",
   "metadata": {},
   "source": [
    "20, 209, 218, 219"
   ]
  },
  {
   "cell_type": "code",
   "execution_count": 11,
   "metadata": {},
   "outputs": [
    {
     "name": "stdout",
     "output_type": "stream",
     "text": [
      "\n",
      "Your variables are:\n",
      "\n",
      "contstartup   filesuffix    maxvelaxis    name          ptexptdate    sac1ovr_flag  ttypes        \n",
      "eyechoices    harddrive     minvelaxis    patienttitle  ptinitials    savefileflag  \n",
      "\n"
     ]
    },
    {
     "name": "stderr",
     "output_type": "stream",
     "text": []
    }
   ],
   "source": [
    "who"
   ]
  },
  {
   "cell_type": "markdown",
   "metadata": {},
   "source": [
    "### Latency Analysis"
   ]
  },
  {
   "cell_type": "code",
   "execution_count": 54,
   "metadata": {},
   "outputs": [
    {
     "name": "stdout",
     "output_type": "stream",
     "text": [
      "Warning: you are using a very large minimum number of bins, are you sure you *always need this much precision?\n",
      "> In nhist (line 677)\n",
      "ans =\n",
      "    'Plot #1: mean=193.66, std=57.29, median=184.60, '\n"
     ]
    },
    {
     "name": "stderr",
     "output_type": "stream",
     "text": []
    }
   ],
   "source": [
    "for i = 1:length(Trials)\n",
    "    Tc = [Trials(i).Events.Code];\n",
    "    Tt = [Trials(i).Events.Time];\n",
    "    FPofftime = Tt([Tc == 1005]);\n",
    "    try\n",
    "        latency = Trials(i).sac1str.start - FPofftime;\n",
    "        Trials(i).latency = latency;\n",
    "    catch\n",
    "        Trials(i).errors.latency = 'No latency able to be calculated.';\n",
    "    end\n",
    "end\n",
    "%only include latencies that are <500ms\n",
    "lat = [Trials.latency];\n",
    "lat = lat([lat<=500]);\n",
    "figure\n",
    "nhist(lat,'minbins',50,'median','linewidth',1)"
   ]
  },
  {
   "cell_type": "markdown",
   "metadata": {},
   "source": [
    "## Some helpful functions and references below:\n"
   ]
  },
  {
   "cell_type": "code",
   "execution_count": null,
   "metadata": {},
   "outputs": [],
   "source": [
    "help TEGsharedlibs"
   ]
  },
  {
   "cell_type": "code",
   "execution_count": null,
   "metadata": {},
   "outputs": [],
   "source": [
    "help saccadogram"
   ]
  },
  {
   "cell_type": "code",
   "execution_count": null,
   "metadata": {},
   "outputs": [],
   "source": [
    "!ls -Glpht (\"/Users/Linus/Dropbox/MATLAB/\\!Patients/\")"
   ]
  },
  {
   "cell_type": "code",
   "execution_count": null,
   "metadata": {},
   "outputs": [],
   "source": [
    "which eyemovplots_clinicalv2b"
   ]
  },
  {
   "cell_type": "code",
   "execution_count": null,
   "metadata": {},
   "outputs": [],
   "source": []
  }
 ],
 "metadata": {
  "kernelspec": {
   "display_name": "MATLAB",
   "language": "matlab",
   "name": "imatlab"
  },
  "language_info": {
   "codemirror_mode": "octave",
   "file_extension": ".m",
   "mimetype": "text/x-matlab",
   "name": "matlab",
   "nbconvert_exporter": "imatlab._exporter.MatlabExporter",
   "pygments_lexer": "matlab",
   "version": "9.5.0.944444 (R2018b)"
  }
 },
 "nbformat": 4,
 "nbformat_minor": 2
}
