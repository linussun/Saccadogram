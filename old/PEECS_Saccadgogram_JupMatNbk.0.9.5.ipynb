{
 "cells": [
  {
   "cell_type": "markdown",
   "metadata": {},
   "source": [
    "# Data Analysis for Eye Movements (PEECS) version 0.9.5\n",
    "### Copy this notebook to folder where your matlab main sequence data resides\n",
    "\n",
    "The following steps will be discussed:\n",
    "1. Make sure prerequisites for analysis are taken care of (paths and installs) \n",
    "- Verify files acquired from PEECS or psychopy\n",
    "- Process matlab files: \n",
    "    * concatenate\n",
    "    * initial run through with Trial explorer (TE1)\n",
    "- Manual data exploration with Trial explorer (TE1)\n",
    "\n",
    "##### Prerequisites installations: MATLAB, Jupyter Notebook/Lab - Probably done yourself already\n",
    "##### Prereq: add to search PATH in MATLAB: TE1/, TEGsharedlibs/, saccaddogram/\n",
    "\n",
    "Version History:  \n",
    "0.9.4 - 2/10/18 Edit. Works to produce inline and out of panel MATLAB figures.  \n",
    "0.9.5 - 2/11/18 Edit. Updated ease of use for fixing problems in Trials structure during saccadogram printing & errors."
   ]
  },
  {
   "cell_type": "markdown",
   "metadata": {},
   "source": [
    "### Step 1.  Check PATH prerequisites\n",
    "Use command 'path' to view entire matlab path.\n",
    "Look for in output: \"Found all 3 required paths! You can continue with analysis!\""
   ]
  },
  {
   "cell_type": "code",
   "execution_count": 1,
   "metadata": {},
   "outputs": [
    {
     "name": "stdout",
     "output_type": "stream",
     "text": [
      "\n",
      "Output from cell above:\n",
      "The Matlab PATH has the relevant folders below\n",
      "IF TE1, TEGsharedlibs, or saccadogram are missing must add it to path in Matlab:\n",
      "\n",
      "/Users/Linus/Dropbox/MATLAB/TEGsharedlibs\n",
      "/Users/Linus/Dropbox/MATLAB/TE1\n",
      "/Users/Linus/Dropbox/MATLAB/!Patients/saccadogram\n",
      "\n",
      "Found all 3 required paths! You can continue with analysis!"
     ]
    }
   ],
   "source": [
    "%% Pattern contains names of path we are interested\n",
    "pattern = [\"TE1\",\"TEGsharedlibs\",\"saccadogram\"]; \n",
    "[pathoutput] = eval('path'); % gets PATH from Matlab kernel (determined in Matlab App)\n",
    "[pathstrs] = strsplit(pathoutput,':'); % splits single linestring into multiple strings\n",
    "fprintf('\\nOutput from cell above:\\nThe Matlab PATH has the relevant folders below\\nIF TE1, TEGsharedlibs, or saccadogram are missing must add it to path in Matlab:\\n\\n');\n",
    "pf = contains(pathstrs,pattern); % logical list of patterns found in string list array\n",
    "for i=find(pf) % get indecies of path strings which have found patterns\n",
    "    disp(pathstrs{i}); % display each path string that was identified in pattern\n",
    "end\n",
    "if sum(pf) == length(pattern)\n",
    "    fprintf(['\\nFound all ' num2str(length(pattern)) ' required paths! You can continue with analysis!'])\n",
    "else\n",
    "    fprintf(['\\nFound ' num2str(length(pattern)) ' paths'])\n",
    "    fprintf('\\nsome paths are missing')\n",
    "end"
   ]
  },
  {
   "cell_type": "markdown",
   "metadata": {},
   "source": [
    "___\n",
    "### Step 2: First verify that the data files from PEECS are in this directory (.pedat files converted to MATLAB .mat files)\n",
    "\n",
    "**Look to the files tab in Jupyter lab (left side tab) and verify your two or more .mat files are there, if working in jupyter/ipython notebook only see output below**\n",
    "\n",
    "If you aren't using jupyter lab, but regular ipython/jupyter notebook verify the files below are in the same directory as this notebook:"
   ]
  },
  {
   "cell_type": "code",
   "execution_count": 2,
   "metadata": {},
   "outputs": [
    {
     "name": "stdout",
     "output_type": "stream",
     "text": [
      "ans =\n",
      "    '/Users/Linus/Dropbox/IHN/Arya My Data Jupyter'\n",
      "180206AKASOD.mat\n",
      "180206AKASOS.mat\n",
      "180206AKMSOD.mat\n",
      "180206AKMSOS.mat\n",
      "180206AKMSOU.mat\n",
      "180206AKMSOU_TE1.mat\n",
      "180206AKMSOU_TE1b.mat\n",
      "Trialstemp.mat\n",
      "matlab 020618AKMSandAS data set analyzed.mat\n",
      "matlab.mat\n",
      "\n"
     ]
    }
   ],
   "source": [
    "pwd\n",
    "ls  *.mat"
   ]
  },
  {
   "cell_type": "markdown",
   "metadata": {},
   "source": [
    "### Step 3. Given that at least one OS and one OD file are above, load them and concatenate them with the following code: \n",
    "#### Note: BEST WITH FRESH unevaluated by TE1 .mat files.\n",
    "#### Note: If you have already concantenated files, you should go straight to running TE1 (Step 5)"
   ]
  },
  {
   "cell_type": "code",
   "execution_count": 3,
   "metadata": {},
   "outputs": [
    {
     "name": "stdout",
     "output_type": "stream",
     "text": [
      "dat = \n",
      "  struct with fields:\n",
      "\n",
      "    Trials: [188x1 struct]\n",
      "      info: [1x1 struct]\n",
      "dat = \n",
      "  struct with fields:\n",
      "\n",
      "    Trials: [188x1 struct]\n",
      "      info: [1x1 struct]\n",
      "New Trials should appear here\n",
      "  Name          Size               Bytes  Class     Attributes\n",
      "\n",
      "  Trials      376x1             18328001  struct              \n",
      "\n"
     ]
    }
   ],
   "source": [
    "files = {'180206AKMSOD.mat','180206AKMSOS.mat'};\n",
    "eyes  = {'OD','OS'}; % eyes corresponding to each file\n",
    "Trials = [];\n",
    "for i = 1:length(files)\n",
    "    dat = load(files{i})\n",
    "    %% add eyes to each file\n",
    "    %% dat.Trials returns the Trials structure\n",
    "    for i2 = 1:length(dat.Trials)\n",
    "        dat.Trials(i2).eye = eyes{i};\n",
    "    end\n",
    "    Trials = [Trials; dat.Trials];\n",
    "end\n",
    "disp('New Trials should appear here')\n",
    "\n",
    "% Now print out the Trials and info variables in memory:\n",
    "whos Trials info"
   ]
  },
  {
   "cell_type": "markdown",
   "metadata": {},
   "source": [
    "### Step 4. Save Trials and info to tempfile"
   ]
  },
  {
   "cell_type": "code",
   "execution_count": null,
   "metadata": {},
   "outputs": [],
   "source": [
    "save Trialstemp_jupyter Trials info\n",
    "%!ls -Glph\n",
    "dir *.mat"
   ]
  },
  {
   "cell_type": "markdown",
   "metadata": {},
   "source": [
    "### Step 5. Need to call some global variables in matlab and reload temp matlab file"
   ]
  },
  {
   "cell_type": "code",
   "execution_count": 4,
   "metadata": {},
   "outputs": [],
   "source": [
    "clear;  % Clears all variables out, even global ones are emptied\n",
    "global Trials i % This may inadvertently bring a filled out Trials variable to the global space."
   ]
  },
  {
   "cell_type": "markdown",
   "metadata": {},
   "source": [
    "#### Step 6. Specify the matlab file which you wish to load which has the Trials structure:"
   ]
  },
  {
   "cell_type": "code",
   "execution_count": 6,
   "metadata": {},
   "outputs": [
    {
     "name": "stdout",
     "output_type": "stream",
     "text": [
      "180206AKASOD.mat\n",
      "180206AKASOS.mat\n",
      "180206AKMSOD.mat\n",
      "180206AKMSOS.mat\n",
      "180206AKMSOU.mat\n",
      "180206AKMSOU_TE1.mat\n",
      "180206AKMSOU_TE1b.mat\n",
      "Trialstemp.mat\n",
      "matlab 020618AKMSandAS data set analyzed.mat\n",
      "matlab.mat\n",
      "\n"
     ]
    }
   ],
   "source": [
    "ls *.mat\n",
    "%\n",
    "% YOU SHOULD PUT YOUR FILENAME HERE\n",
    "%\n",
    "filename = '180206AKMSOU_TE1.mat';"
   ]
  },
  {
   "cell_type": "code",
   "execution_count": 7,
   "metadata": {},
   "outputs": [
    {
     "name": "stdout",
     "output_type": "stream",
     "text": [
      "\n",
      "180206AKMSOU_TE1.mat  \n",
      "\n",
      "YOU SHOULD SEE A TRIALS STRUCTURE IN THE VARIABLE SPACE HERE:\n",
      "  Name            Size               Bytes  Class     Attributes\n",
      "\n",
      "  Trials        376x1             83861557  struct    global    \n",
      "  filename        1x20                  40  char                \n",
      "  i               0x0                    0  double    global    \n",
      "  info            1x1                10384  struct    global    \n",
      "\n"
     ]
    }
   ],
   "source": [
    "dir(filename)\n",
    "disp('YOU SHOULD SEE A TRIALS STRUCTURE IN THE VARIABLE SPACE HERE:')\n",
    "try\n",
    "    load(filename)\n",
    "    whos\n",
    "catch \n",
    "    disp('NO FILENAME FOUND: Did you include the .mat at the end of filename?')\n",
    "end"
   ]
  },
  {
   "cell_type": "markdown",
   "metadata": {},
   "source": [
    "# Trial Explorer (TE1) Instructions\n",
    "## Step 7. use TE1 to evaluate each and every trial\n",
    "### use command 'runTE1' to launch it"
   ]
  },
  {
   "cell_type": "code",
   "execution_count": 118,
   "metadata": {},
   "outputs": [
    {
     "name": "stdout",
     "output_type": "stream",
     "text": [
      "  Name                Size                  Bytes  Class                                   Attributes\n",
      "\n",
      "  CI                  1x2                      16  double                                            \n",
      "  Trials            376x1                18328001  struct                                  global    \n",
      "  ans                 1x35                     70  char                                              \n",
      "  dat                 1x1                 9179918  struct                                            \n",
      "  deglim              1x1                       8  double                                            \n",
      "  eyechoice           1x2                       4  char                                              \n",
      "  eyechoices          1x2                     232  cell                                              \n",
      "  eyes                1x2                     232  cell                                              \n",
      "  figinfo             1x1                     384  struct                                            \n",
      "  filename            1x20                     40  char                                              \n",
      "  files               1x2                     288  cell                                              \n",
      "  filesuffix          1x3                       6  char                                              \n",
      "  h                   1x7                       0  matlab.graphics.chart.primitive.Line              \n",
      "  h1                  1x1                       0  matlab.graphics.chart.primitive.Line              \n",
      "  h2                  1x1                       0  matlab.graphics.chart.primitive.Line              \n",
      "  h3                  1x1                       0  matlab.graphics.chart.primitive.Line              \n",
      "  hTE1                1x1                84014555  struct                                            \n",
      "  i                   1x1                       8  double                                  global    \n",
      "  i2                  1x1                       8  double                                            \n",
      "  idx                 1x1                       8  double                                            \n",
      "  im                199x291x3              173727  uint8                                             \n",
      "  info                1x1                   10384  struct                                  global    \n",
      "  lh                  1x1                       0  matlab.graphics.illustration.Legend               \n",
      "  markersize          1x1                       8  double                                            \n",
      "  maxvelaxis          1x1                       8  double                                            \n",
      "  minvelaxis          1x1                       8  double                                            \n",
      "  msa1                1x1                       0  matlab.graphics.axis.Axes                         \n",
      "  msa2                1x1                       0  matlab.graphics.axis.Axes                         \n",
      "  msaxislimit         1x4                      32  double                                            \n",
      "  msdir_plot          1x203                  1624  double                                            \n",
      "  msdist_plot         1x203                  1624  double                                            \n",
      "  msidx_plot          1x203                  1624  double                                            \n",
      "  msvel_plot          1x203                  1624  double                                            \n",
      "  pathoutput          1x33079               66158  char                                              \n",
      "  pathstrs            1x545                126110  cell                                              \n",
      "  patienttitle        1x58                    116  char                                              \n",
      "  pattern             1x3                     290  string                                            \n",
      "  pf                  1x545                   545  logical                                           \n",
      "  ptexptdate          1x6                      12  char                                              \n",
      "  ptfname             0x0                       0  char                                              \n",
      "  ptinitials          1x2                       4  char                                              \n",
      "  s                   1x1                     208  struct                                            \n",
      "  sacvelgolayD        1x7                      56  double                                            \n",
      "  sacvelgolayL        1x5                      40  double                                            \n",
      "  sacvelgolayR        1x11                     88  double                                            \n",
      "  sacvelgolayU        1x6                      48  double                                            \n",
      "  sacvelorigD         1x1                       8  double                                            \n",
      "  sacvelorigL         1x1                       8  double                                            \n",
      "  sacvelorigR         1x1                       8  double                                            \n",
      "  sacvelorigU         1x1                       8  double                                            \n",
      "  savefileflag        1x1                       8  double                                            \n",
      "  sth                 1x1                       0  matlab.graphics.primitive.Text                    \n",
      "  tlim                1x2                      16  double                                            \n",
      "  tmph                1x1                       0  matlab.graphics.primitive.Text                    \n",
      "  tmpy                1x1                       8  double                                            \n",
      "  ttypes              1x1                       8  double                                            \n",
      "\n"
     ]
    },
    {
     "name": "stderr",
     "output_type": "stream",
     "text": []
    }
   ],
   "source": [
    "whos"
   ]
  },
  {
   "cell_type": "markdown",
   "metadata": {},
   "source": [
    "### ONLY run this if it's the fisrt time before you went through structure with TrialExplorer1:"
   ]
  },
  {
   "cell_type": "code",
   "execution_count": null,
   "metadata": {},
   "outputs": [],
   "source": [
    "%Trials_PEECS_Sgolay1000add % Running this script once will update the Trials structure to make TE1 run more quickly. By populating the sgolay filtered eye movement data"
   ]
  },
  {
   "cell_type": "markdown",
   "metadata": {},
   "source": [
    "### TE1 Keyboard shortcuts\n",
    "#### arrow keys = move forward and back\n",
    "#### g = good trial\n",
    "#### b = bad trial\n",
    "#### q = quit, don't do this as you should leave it open and running as it will be useful when you print the saccadogram\n",
    "\n",
    "### Instruction manual\n",
    "### Note: the goal is to have 1 clean saccade after FP turns off (dotted black line). If a saccade occurs in the middle of the FP off, discard it as 'bad'. If no saccade is detected (or the saccade is missed) with a green-red vertical boundary, then choose manual sac1str and select beginning and end of that saccade exactly.\n",
    "#### Run through each trial individually, if you see a lot of noise mark it 'bad'.\n",
    "#### If you see a few randomly missing frames, especially during the saccade use '1 frame fill' button to fill those in, if the signal doesn't substantially improve then mark it as a 'bad' trial\n",
    "#### To use the keyboard commands click in a 'blank' area of the GUI to un-highlight a button.\n",
    "#### click on 'sgolay filtered data' to smooth data\n"
   ]
  },
  {
   "cell_type": "code",
   "execution_count": null,
   "metadata": {},
   "outputs": [],
   "source": [
    "%\n",
    "% THIS Cell when run will start up the Trial explorer: it calls runTE1.m file which in turns calls some global variables and launches the Trial Explorer.\n",
    "% Note that Trials and i are always global variables and all scripts here will have edit access to the Trials structure.\n",
    "%\n",
    "whos Trials i\n",
    "runTE1"
   ]
  },
  {
   "cell_type": "markdown",
   "metadata": {},
   "source": [
    "### Once all trials have been evaluated save the trials structure for future analysis\n",
    "\n",
    "** Mark down here the trial numbers which you have a question: **\n",
    "\n",
    "e.g. I have a question with Trial number: 1,2,3 etc... Let me review this with the team later\n"
   ]
  },
  {
   "cell_type": "code",
   "execution_count": 8,
   "metadata": {},
   "outputs": [
    {
     "name": "stdout",
     "output_type": "stream",
     "text": [
      "  Name          Size               Bytes  Class     Attributes\n",
      "\n",
      "  Trials      376x1             83861557  struct    global    \n",
      "  info          1x1                10384  struct    global    \n",
      "\n"
     ]
    }
   ],
   "source": [
    "% now save the TE1 edited Trials structre with a different filename\n",
    "% for example if TE1 was run on Trials struct from the file 180210LDSms.mat\n",
    "% save to 180210LDSms_TE1.mat Trials info\n",
    "\n",
    "whos Trials info\n",
    "\n",
    "%save 180210LDSms_TE1.mat Trials % commented out"
   ]
  },
  {
   "cell_type": "markdown",
   "metadata": {},
   "source": [
    "# FINAL STEP: Saccadogram Data Plotting\n",
    "\n",
    "At this point, with a fully analyzed Trials structure loaded in memory, you can run through it and produce a saccadogram. \n",
    "\n",
    "If no plots are generated and you end up seeing an error, then there is a problem with your Trials structure. The procedure to fix this and to clean up the saccadogram is to do the following: \n",
    "\n",
    "1. runTE1 to get the Trials Explorer to load and be able to edit Trials\n",
    "2. Rerun saccadogram print on Trials in memory\n",
    "3. On every error, refresh TE1 and fix the trial by manually seclecting the first saccade or marking the trial as [b]ad.\n",
    "3. Once you're satisfied, save the Trials and info into a new filename.\n",
    "\n",
    "Setting up variable names:"
   ]
  },
  {
   "cell_type": "code",
   "execution_count": 48,
   "metadata": {},
   "outputs": [
    {
     "name": "stdout",
     "output_type": "stream",
     "text": [
      "  Name           Size               Bytes  Class     Attributes\n",
      "\n",
      "  Trials       376x1             83861557  struct    global    \n",
      "  i              1x1                    8  double    global    \n",
      "  info           1x1                10384  struct    global    \n",
      "  ptfname        1x20                  40  char                \n",
      "\n"
     ]
    }
   ],
   "source": [
    "%%%%%%%%%%%%%%%%%%%%%%%%%%%%%%%%%%%%%%%%%%%%%%%%%%%%%%%%%%%%%%%%%%%%%%%%%%%%%%%%%%%%%%%%%%%%%%%%%%%%%%\n",
    "% RUN THIS CELL if you do not have Trials structure loaded in memory (check with whos Trials i)      %\n",
    "% Warning: If you haven't saved any changes to Trials in memory, running this cell will delete them! %\n",
    "%%%%%%%%%%%%%%%%%%%%%%%%%%%%%%%%%%%%%%%%%%%%%%%%%%%%%%%%%%%%%%%%%%%%%%%%%%%%%%%%%%%%%%%%%%%%%%%%%%%%%%\n",
    "clear\n",
    "global Trials i\n",
    "\n",
    "%% THE LATEST PATIENT FILENAME HERE:\n",
    "ptfname = '180206AKMSOU_TE1.mat';\n",
    "load(ptfname)\n",
    "whos"
   ]
  },
  {
   "cell_type": "code",
   "execution_count": 54,
   "metadata": {},
   "outputs": [
    {
     "name": "stdout",
     "output_type": "stream",
     "text": [
      "eyemovplots_clinicalv2b: eyechoice\n",
      "eyechoice =\n",
      "    'OD'\n",
      "plotselecteyetracev2: R\n",
      "idx:Selecting goodtrials only\n",
      "idx:Selecting ttypes in idx\n",
      "idx/emidx: Selecting eyemov directions\n",
      "plotselecteyetrace: No eventstarttime given will use sac1start struct\n",
      "5:1337 to 1937 max length Signal :2500 sac1_peakvel: 366.6068\n",
      "11:1326 to 1926 max length Signal :2486 sac1_peakvel: 357.9929\n",
      "20:1325 to 1925 max length Signal :2492 sac1_peakvel: 340.4712\n",
      "23:1353 to 1953 max length Signal :2512 sac1_peakvel: 358.4744\n",
      "27:1343 to 1943 max length Signal :2503 sac1_peakvel: 342.8107\n",
      "30:1358 to 1958 max length Signal :2529 sac1_peakvel: 336.403\n",
      "plotselecteyetracev2: U\n",
      "idx:Selecting goodtrials only\n",
      "idx:Selecting ttypes in idx\n",
      "idx/emidx: Selecting eyemov directions\n",
      "plotselecteyetrace: No eventstarttime given will use sac1start struct\n",
      "1:1338 to 1938 max length Signal :2498 sac1_peakvel: 289.9099\n",
      "6:1328 to 1928 max length Signal :2506 sac1_peakvel: 237.5297\n",
      "7:1336 to 1936 max length Signal :2506 sac1_peakvel: 217.2636\n",
      "8:1314 to 1914 max length Signal :2483 sac1_peakvel: 299.4299\n",
      "13:1310 to 1910 max length Signal :2480 sac1_peakvel: 275.042\n",
      "14:1349 to 1949 max length Signal :2515 sac1_peakvel: 258.8572\n",
      "28:1328 to 1928 max length Signal :2480 sac1_peakvel: 241.2421\n",
      "29:1321 to 1921 max length Signal :2492 sac1_peakvel: 221.634\n",
      "32:1311 to 1911 max length Signal :2480 sac1_peakvel: 265.4037\n",
      "plotselecteyetracev2: L\n",
      "idx:Selecting goodtrials only\n",
      "idx:Selecting ttypes in idx\n",
      "idx/emidx: Selecting eyemov directions\n",
      "plotselecteyetrace: No eventstarttime given will use sac1start struct\n",
      "2:1394 to 1994 max length Signal :2560 sac1_peakvel: 342.3158\n",
      "3:1300 to 1900 max length Signal :2469 sac1_peakvel: 283.1691\n",
      "10:1313 to 1913 max length Signal :2503 sac1_peakvel: 319.3143\n",
      "15:1293 to 1893 max length Signal :2458 sac1_peakvel: 253.7161\n",
      "17:1300 to 1900 max length Signal :2475 sac1_peakvel: 309.3026\n",
      "22:1339 to 1939 max length Signal :2506 sac1_peakvel: 295.3409\n",
      "24:1345 to 1945 max length Signal :2526 sac1_peakvel: 278.4245\n",
      "plotselecteyetracev2: D\n",
      "idx:Selecting goodtrials only\n",
      "idx:Selecting ttypes in idx\n",
      "idx/emidx: Selecting eyemov directions\n",
      "plotselecteyetrace: No eventstarttime given will use sac1start struct\n",
      "4:1403 to 2003 max length Signal :2572 sac1_peakvel: 288.6736\n",
      "9:1350 to 1950 max length Signal :2518 sac1_peakvel: 349.6994\n",
      "12:1412 to 2012 max length Signal :2583 sac1_peakvel: 307.5732\n",
      "16:1395 to 1995 max length Signal :2563 sac1_peakvel: 296.614\n",
      "18:1337 to 1937 max length Signal :2503 sac1_peakvel: 317.1531\n",
      "19:1318 to 1918 max length Signal :2538 sac1_peakvel: 218.0746\n",
      "21:1380 to 1980 max length Signal :2566 sac1_peakvel: 257.7238\n",
      "25:1327 to 1927 max length Signal :2518 sac1_peakvel: 281.8874\n",
      "26:1364 to 1964 max length Signal :2540 sac1_peakvel: 251.9969\n",
      "31:1363 to 1963 max length Signal :2535 sac1_peakvel: 281.2841\n",
      "eyechoice =\n",
      "  1x1 cell array\n",
      "    {'OD'}\n",
      "ttypeidentifier.m:\n",
      "fname =\n",
      "    '180206AKMSOU_TE1.mat'\n",
      "dirlist =\n",
      "    'l'\n",
      "eyechoice =\n",
      "  1x1 cell array\n",
      "    {'OD'}\n",
      "ttypeidentifier.m:\n",
      "fname =\n",
      "    '180206AKMSOU_TE1.mat'\n",
      "dirlist =\n",
      "    'r'\n",
      "eyechoice =\n",
      "  1x1 cell array\n",
      "    {'OD'}\n",
      "ttypeidentifier.m:\n",
      "fname =\n",
      "    '180206AKMSOU_TE1.mat'\n",
      "lh = \n",
      "  Legend (Saccades, Left, Right) with properties:\n",
      "\n",
      "         String: {'Saccades'  'Left'  'Right'}\n",
      "       Location: 'southeast'\n",
      "    Orientation: 'vertical'\n",
      "       FontSize: 9\n",
      "       Position: [0.2690 0.1227 0.0662 0.0473]\n",
      "          Units: 'normalized'\n",
      "\n",
      "  Use GET to show all properties\n",
      "eyechoice =\n",
      "  1x1 cell array\n",
      "    {'OD'}\n",
      "dirlist =\n",
      "    'u'\n",
      "eyechoice =\n",
      "  1x1 cell array\n",
      "    {'OD'}\n",
      "dirlist =\n",
      "    'd'\n",
      "eyechoice =\n",
      "  1x1 cell array\n",
      "    {'OD'}\n",
      "ttypeidentifier.m:\n",
      "fname =\n",
      "    '180206AKMSOU_TE1.mat'\n",
      "lh = \n",
      "  Legend (Saccades, Up, Down) with properties:\n",
      "\n",
      "         String: {'Saccades'  'Up'  'Down'}\n",
      "       Location: 'southeast'\n",
      "    Orientation: 'vertical'\n",
      "       FontSize: 9\n",
      "       Position: [0.8307 0.1227 0.0662 0.0473]\n",
      "          Units: 'normalized'\n",
      "\n",
      "  Use GET to show all properties\n",
      "eyemovplots_clinicalv2b: eyechoice\n",
      "eyechoice =\n",
      "    'OS'\n",
      "plotselecteyetracev2: R\n",
      "idx:Selecting goodtrials only\n",
      "idx:Selecting ttypes in idx\n",
      "idx/emidx: Selecting eyemov directions\n",
      "plotselecteyetrace: No eventstarttime given will use sac1start struct\n",
      "194:1327 to 1927 max length Signal :2489 sac1_peakvel: 310.0763\n",
      "195:1373 to 1973 max length Signal :2543 sac1_peakvel: 222.3382\n",
      "199:1324 to 1924 max length Signal :2472 sac1_peakvel: 117.0821\n",
      "200:1385 to 1985 max length Signal :2555 sac1_peakvel: 246.622\n",
      "203:1267 to 1867 max length Signal :2226 sac1_peakvel: 121.1781\n",
      "205:1267 to 1867 max length Signal :2469 sac1_peakvel: 121.1781\n",
      "207:1338 to 1938 max length Signal :2523 sac1_peakvel: 209.1962\n",
      "210:1333 to 1933 max length Signal :2506 sac1_peakvel: 221.4166\n",
      "212:1338 to 1938 max length Signal :2520 sac1_peakvel: 204.8939\n",
      "214:1324 to 1924 max length Signal :2715 sac1_peakvel: 81.108\n",
      "216:1318 to 1918 max length Signal :2486 sac1_peakvel: 240.8773\n",
      "219:1361 to 1961 max length Signal :2523 sac1_peakvel: 261.1765\n",
      "plotselecteyetracev2: U\n",
      "idx:Selecting goodtrials only\n",
      "idx:Selecting ttypes in idx\n",
      "idx/emidx: Selecting eyemov directions\n",
      "plotselecteyetrace: No eventstarttime given will use sac1start struct\n",
      "189:1315 to 1915 max length Signal :2260 sac1_peakvel: 221.8009\n",
      "193:1392 to 1992 max length Signal :2560 sac1_peakvel: 286.1153\n",
      "196:1335 to 1935 max length Signal :2503 sac1_peakvel: 219.2951\n",
      "197:1332 to 1932 max length Signal :2289 sac1_peakvel: 217.3683\n",
      "213:1352 to 1952 max length Signal :2489 sac1_peakvel: 111.8529\n",
      "218:1334 to 1934 max length Signal :2495 sac1_peakvel: 267.8455\n",
      "220:1334 to 1934 max length Signal :2498 sac1_peakvel: 267.8455\n",
      "plotselecteyetracev2: L\n",
      "idx:Selecting goodtrials only\n",
      "idx:Selecting ttypes in idx\n",
      "idx/emidx: Selecting eyemov directions\n",
      "plotselecteyetrace: No eventstarttime given will use sac1start struct\n",
      "190:1326 to 1926 max length Signal :2295 sac1_peakvel: 336.6143\n",
      "192:1340 to 1940 max length Signal :2512 sac1_peakvel: 288.1656\n",
      "198:1328 to 1928 max length Signal :2498 sac1_peakvel: 255.2408\n",
      "201:1323 to 1923 max length Signal :2506 sac1_peakvel: 259.4102\n",
      "202:1231 to 1831 max length Signal :2240 sac1_peakvel: 96.7694\n",
      "208:1330 to 1930 max length Signal :2540 sac1_peakvel: 174.4878\n",
      "plotselecteyetracev2: D\n",
      "idx:Selecting goodtrials only\n",
      "idx:Selecting ttypes in idx\n",
      "idx/emidx: Selecting eyemov directions\n",
      "plotselecteyetrace: No eventstarttime given will use sac1start struct\n",
      "191:1371 to 1971 max length Signal :2546 sac1_peakvel: 253.3673\n",
      "204:1402 to 2002 max length Signal :2223 sac1_peakvel: 234.75\n",
      "206:1383 to 1983 max length Signal :2218 sac1_peakvel: 187.4404\n",
      "209:1446 to 2046 max length Signal :2626 sac1_peakvel: 221.0638\n",
      "211:1423 to 2023 max length Signal :2532 sac1_peakvel: 221.0638\n",
      "217:1367 to 1967 max length Signal :2535 sac1_peakvel: 245.8209\n",
      "eyechoice =\n",
      "  1x1 cell array\n",
      "    {'OS'}\n",
      "ttypeidentifier.m:\n",
      "fname =\n",
      "    '180206AKMSOU_TE1.mat'\n",
      "dirlist =\n",
      "    'l'\n",
      "eyechoice =\n",
      "  1x1 cell array\n",
      "    {'OS'}\n",
      "ttypeidentifier.m:\n",
      "fname =\n",
      "    '180206AKMSOU_TE1.mat'\n",
      "dirlist =\n",
      "    'r'\n",
      "eyechoice =\n",
      "  1x1 cell array\n",
      "    {'OS'}\n",
      "ttypeidentifier.m:\n",
      "fname =\n",
      "    '180206AKMSOU_TE1.mat'\n",
      "lh = \n",
      "  Legend (Saccades, Left, Right) with properties:\n",
      "\n",
      "         String: {'Saccades'  'Left'  'Right'}\n",
      "       Location: 'southeast'\n",
      "    Orientation: 'vertical'\n",
      "       FontSize: 9\n",
      "       Position: [0.2690 0.1227 0.0662 0.0473]\n",
      "          Units: 'normalized'\n",
      "\n",
      "  Use GET to show all properties\n",
      "eyechoice =\n",
      "  1x1 cell array\n",
      "    {'OS'}\n",
      "dirlist =\n",
      "    'u'\n",
      "eyechoice =\n",
      "  1x1 cell array\n",
      "    {'OS'}\n",
      "dirlist =\n",
      "    'd'\n",
      "eyechoice =\n",
      "  1x1 cell array\n",
      "    {'OS'}\n",
      "ttypeidentifier.m:\n",
      "fname =\n",
      "    '180206AKMSOU_TE1.mat'\n",
      "lh = \n",
      "  Legend (Saccades, Up, Down) with properties:\n",
      "\n",
      "         String: {'Saccades'  'Up'  'Down'}\n",
      "       Location: 'southeast'\n",
      "    Orientation: 'vertical'\n",
      "       FontSize: 9\n",
      "       Position: [0.8307 0.1227 0.0662 0.0473]\n",
      "          Units: 'normalized'\n",
      "\n",
      "  Use GET to show all properties\n",
      "eyechoice =\n",
      "  1x2 cell array\n",
      "    {'OD'}    {'OS'}\n",
      "ttypeidentifier.m:\n",
      "fname =\n",
      "    '180206AKMSOU_TE1.mat'\n",
      "dirlist =\n",
      "    'l'\n",
      "eyechoice =\n",
      "  1x2 cell array\n",
      "    {'OD'}    {'OS'}\n",
      "ttypeidentifier.m:\n",
      "fname =\n",
      "    '180206AKMSOU_TE1.mat'\n",
      "dirlist =\n",
      "    'r'\n",
      "eyechoice =\n",
      "  1x2 cell array\n",
      "    {'OD'}    {'OS'}\n",
      "ttypeidentifier.m:\n",
      "fname =\n",
      "    '180206AKMSOU_TE1.mat'\n",
      "eyechoice =\n",
      "  1x2 cell array\n",
      "    {'OD'}    {'OS'}\n",
      "dirlist =\n",
      "    'u'\n",
      "eyechoice =\n",
      "  1x2 cell array\n",
      "    {'OD'}    {'OS'}\n",
      "dirlist =\n",
      "    'd'\n",
      "eyechoice =\n",
      "  1x2 cell array\n",
      "    {'OD'}    {'OS'}\n",
      "ttypeidentifier.m:\n",
      "fname =\n",
      "    '180206AKMSOU_TE1.mat'\n",
      "filesuffix =\n",
      "    'msq'\n"
     ]
    }
   ],
   "source": [
    "%%%%%%%%%%%%%%%%%%%%%%%%%%%%%%%%%%%%%%%%%%%%%%%%%%%%%%%%%%%%%%%%%%%%%%%%%%%\n",
    "% THIS CELL PRINTS THE SACCADOGRAM                                        %\n",
    "%                                                                         %\n",
    "% IF YOU ENCOUNTER ERRORS IN PRINTING RE-RUN THIS CELL, be sure to have a %      %\n",
    "% helpful Matlab Kernel console open as well: Right click and select      %\n",
    "% \"New Console for Notebook\". Also to have a running instance of TE1 is   %                                            %\n",
    "% necessary: \"runTE1\" shift-enter in new console to raise an instance.    %\n",
    "% Follow the FINAL STEP directions above.                                 %   \n",
    "%%%%%%%%%%%%%%%%%%%%%%%%%%%%%%%%%%%%%%%%%%%%%%%%%%%%%%%%%%%%%%%%%%%%%%%%%%%\n",
    "\n",
    "% Re-run this cell only if you run into errors and wish to eliminate bad trials or reanalyze them for\n",
    "% the first saccade. The variable i, will be global and you can refresh TE1 to see the error generating trial.\n",
    "\n",
    "% Setup variables\n",
    "ttypes = [0]; % this chooses trial type 0 which is 10 degree saccade\n",
    "ptexptdate = '2/6/18';\n",
    "ptinitials = 'AK';\n",
    "patienttitle = ['Patient ' ptinitials ': 10 deg Saccadogram ',ptexptdate];\n",
    "eyechoices = {'OD','OS'};\n",
    "\n",
    "savefileflag = 0; % if set to 1 will save pdfs to file\n",
    "% Printing figures in separate matlab engine driven figures\n",
    "% is better for debugging but if you want to print inline with this \n",
    "% notebook, use one of the following:\n",
    "imatlab_export_fig('')  % Native windows.\n",
    "%imatlab_export_fig('print-png')  % Static png figures.\n",
    "\n",
    "% if ptfname is empty, Eyemovclinical_Jupyter_v6 will use Trials struct in current memory!!!\n",
    "% This is useful if errors are generated and you can use an active instance of TE1 GUI to fix that trial\n",
    "% most often it is due to a problem with the first saccade made.\n",
    "% Since i is global, click on 'refresh' in TE1 to evaluate that trial an fix it if possible.\n",
    "% Then with ptfname set to '' (empty) re-run this cell to try to print out saccadogram\n",
    "%ptfname = '';\n",
    "\n",
    "% Run the saccadogram script:\n",
    "Eyemovclinical_jupyter_v6"
   ]
  },
  {
   "cell_type": "markdown",
   "metadata": {},
   "source": [
    "20, 209, 218, 219"
   ]
  },
  {
   "cell_type": "markdown",
   "metadata": {},
   "source": [
    "## Some helpful functions and references below:\n"
   ]
  },
  {
   "cell_type": "code",
   "execution_count": null,
   "metadata": {},
   "outputs": [],
   "source": [
    "help TEGsharedlibs"
   ]
  },
  {
   "cell_type": "code",
   "execution_count": null,
   "metadata": {},
   "outputs": [],
   "source": [
    "help saccadogram"
   ]
  },
  {
   "cell_type": "code",
   "execution_count": null,
   "metadata": {},
   "outputs": [],
   "source": [
    "!ls -Glpht (\"/Users/Linus/Dropbox/MATLAB/\\!Patients/\")"
   ]
  },
  {
   "cell_type": "code",
   "execution_count": null,
   "metadata": {},
   "outputs": [],
   "source": [
    "which eyemovplots_clinicalv2b"
   ]
  },
  {
   "cell_type": "code",
   "execution_count": null,
   "metadata": {},
   "outputs": [],
   "source": []
  }
 ],
 "metadata": {
  "kernelspec": {
   "display_name": "MATLAB",
   "language": "matlab",
   "name": "imatlab"
  },
  "language_info": {
   "codemirror_mode": "octave",
   "file_extension": ".m",
   "mimetype": "text/x-matlab",
   "name": "matlab",
   "nbconvert_exporter": "imatlab._exporter.MatlabExporter",
   "pygments_lexer": "matlab",
   "version": "9.3.0.713579 (R2017b)"
  }
 },
 "nbformat": 4,
 "nbformat_minor": 2
}
